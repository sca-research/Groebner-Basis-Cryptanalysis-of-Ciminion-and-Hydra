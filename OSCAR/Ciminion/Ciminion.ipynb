{
 "cells": [
  {
   "cell_type": "markdown",
   "metadata": {},
   "source": [
    "# Ciminion Polynomial Model\n",
    "Usage example of the Ciminion polynomial model."
   ]
  },
  {
   "cell_type": "code",
   "execution_count": 1,
   "metadata": {},
   "outputs": [
    {
     "data": {
      "text/plain": [
       "generate_Ciminion_polynomials (generic function with 1 method)"
      ]
     },
     "metadata": {},
     "output_type": "display_data"
    }
   ],
   "source": [
    "using Oscar\n",
    "include(\"Ciminion.jl\")\n",
    "include(\"Ciminion_polynomial_model.jl\")"
   ]
  },
  {
   "cell_type": "markdown",
   "metadata": {},
   "source": [
    "## Ciminion Instance"
   ]
  },
  {
   "cell_type": "code",
   "execution_count": 2,
   "metadata": {},
   "outputs": [
    {
     "name": "stdout",
     "output_type": "stream",
     "text": [
      "Ciminion parameters\n",
      "Field: Prime field of characteristic 10007\n",
      "Rounds_C: 3\n",
      "Rounds_E: 3\n",
      "Constants_C: [7860 3302 205; 1232 7053 6913; 4278 4502 1979; 4869 5685 3680]\n",
      "Constants_E: [1549 1454 5521; 8640 4234 1968; 9709 4345 4575; 6600 2818 3944]\n"
     ]
    }
   ],
   "source": [
    "K = GF(10007)\n",
    "\n",
    "ciminion = Ciminion_constructor(field=K, rounds_C=3, rounds_E=3, info_level=1);"
   ]
  },
  {
   "cell_type": "code",
   "execution_count": 3,
   "metadata": {},
   "outputs": [
    {
     "data": {
      "text/html": [
       "[5746; 1183]"
      ],
      "text/latex": [
       "\\begin{array}{c}\n",
       "5746 \\\\\n",
       "1183\n",
       "\\end{array}"
      ],
      "text/plain": [
       "[5746]\n",
       "[1183]"
      ]
     },
     "metadata": {},
     "output_type": "display_data"
    }
   ],
   "source": [
    "plain = zero_matrix(K, 2, 1)\n",
    "plain[1, 1] = rand(K)\n",
    "plain[2, 1] = rand(K)\n",
    "plain"
   ]
  },
  {
   "cell_type": "code",
   "execution_count": 4,
   "metadata": {},
   "outputs": [
    {
     "data": {
      "text/html": [
       "[1211; 2765]"
      ],
      "text/latex": [
       "\\begin{array}{c}\n",
       "1211 \\\\\n",
       "2765\n",
       "\\end{array}"
      ],
      "text/plain": [
       "[1211]\n",
       "[2765]"
      ]
     },
     "metadata": {},
     "output_type": "display_data"
    }
   ],
   "source": [
    "key = zero_matrix(K, 2, 1)\n",
    "key[1, 1] = rand(K)\n",
    "key[2, 1] = rand(K)\n",
    "key"
   ]
  },
  {
   "cell_type": "code",
   "execution_count": 5,
   "metadata": {},
   "outputs": [
    {
     "data": {
      "text/html": [
       "1334"
      ],
      "text/latex": [
       "1334"
      ],
      "text/plain": [
       "1334"
      ]
     },
     "metadata": {},
     "output_type": "display_data"
    }
   ],
   "source": [
    "nonce = rand(K)\n",
    "nonce"
   ]
  },
  {
   "cell_type": "code",
   "execution_count": 6,
   "metadata": {},
   "outputs": [
    {
     "data": {
      "text/html": [
       "[7839; 3791]"
      ],
      "text/latex": [
       "\\begin{array}{c}\n",
       "7839 \\\\\n",
       "3791\n",
       "\\end{array}"
      ],
      "text/plain": [
       "[7839]\n",
       "[3791]"
      ]
     },
     "metadata": {},
     "output_type": "display_data"
    }
   ],
   "source": [
    "cipher = encrypt(plain, key, nonce, ciminion)"
   ]
  },
  {
   "cell_type": "code",
   "execution_count": 7,
   "metadata": {},
   "outputs": [
    {
     "data": {
      "text/plain": [
       "true"
      ]
     },
     "metadata": {},
     "output_type": "display_data"
    }
   ],
   "source": [
    "plain == decrypt(cipher, key, nonce, ciminion)"
   ]
  },
  {
   "cell_type": "markdown",
   "metadata": {},
   "source": [
    "## Ciminion Polynomial model\n",
    "Generate the Ciminion polynomial model, and compute a DRL Gröbner basis."
   ]
  },
  {
   "cell_type": "code",
   "execution_count": 8,
   "metadata": {},
   "outputs": [
    {
     "name": "stdout",
     "output_type": "stream",
     "text": [
      "Plaintext: [5679; 9510]\n",
      "Key: [5517; 2014]\n",
      "Ciphertext: [3773; 2354]\n",
      "Nonce: 8738\n",
      "Term order: degrevlex\n"
     ]
    }
   ],
   "source": [
    "polys = generate_Ciminion_polynomials(ciminion=ciminion);"
   ]
  },
  {
   "cell_type": "markdown",
   "metadata": {},
   "source": [
    "### Inefficient Term Order\n",
    "Compute the DRL Gröbner basis with F4 with respect to an inefficient term order."
   ]
  },
  {
   "cell_type": "code",
   "execution_count": 9,
   "metadata": {},
   "outputs": [
    {
     "name": "stdout",
     "output_type": "stream",
     "text": [
      "\n",
      "Legend for f4 information\n",
      "--------------------------------------------------------\n",
      "deg       current degree of pairs selected in this round\n",
      "sel       number of pairs selected in this round\n",
      "pairs     total number of pairs in pair list\n",
      "mat       matrix dimensions (# rows x # columns)\n",
      "density   density of the matrix\n",
      "new data  # new elements for basis in this round\n",
      "          # zero reductions during linear algebra\n",
      "time(rd)  time of the current f4 round in seconds given\n",
      "          for real and cpu time\n",
      "--------------------------------------------------------\n",
      "\n",
      "deg     sel   pairs        mat          density            new data         time(rd) in sec (real|cpu)\n",
      "------------------------------------------------------------------------------------------------------\n",
      "  2      11      11      21 x 29         15.93%       11 new       0 zero         0.00 | 0.01         \n",
      "  2       4       4      29 x 45         11.42%        4 new       0 zero         0.00 | 0.00         \n",
      "  3       2       2      26 x 52         20.86%        2 new       0 zero         0.00 | 0.00         \n",
      "  4       6       6      60 x 88         14.92%        3 new       3 zero         0.00 | 0.00         \n",
      "  5       9       9      89 x 113        13.97%        1 new       8 zero         0.00 | 0.00         \n",
      "  6       3       3      94 x 123        12.96%        0 new       3 zero         0.00 | 0.00         \n",
      "------------------------------------------------------------------------------------------------------\n",
      "reduce final basis       24 x 56         22.02%       24 new       0 zero         0.00 | 0.00         \n",
      "------------------------------------------------------------------------------------------------------\n",
      "\n",
      "---------------- TIMINGS ----------------\n",
      "overall(elapsed)        0.01 sec\n",
      "overall(cpu)            0.02 sec\n",
      "select                  0.00 sec   1.1%\n",
      "symbolic prep.          0.00 sec   2.7%\n",
      "update                  0.00 sec  53.7%\n",
      "convert                 0.00 sec  27.6%\n",
      "linear algebra          0.00 sec  12.3%\n",
      "reduce gb               0.00 sec   0.0%\n",
      "-----------------------------------------\n",
      "\n",
      "---------- COMPUTATIONAL DATA -----------\n",
      "size of basis                    24\n",
      "#terms in basis                 296\n",
      "#pairs reduced                   35\n",
      "#GM criterion                   706\n",
      "#redundant elements              17\n",
      "#rows reduced                    94\n",
      "#zero reductions                 14\n",
      "max. matrix data                 94 x 123 (12.965%)\n",
      "max. symbolic hash table size  2^11\n",
      "max. basis hash table size     2^16\n",
      "-----------------------------------------\n",
      "\n"
     ]
    },
    {
     "name": "stderr",
     "output_type": "stream",
     "text": [
      "\n",
      "--------------- INPUT DATA ---------------\n",
      "#variables                      18\n",
      "#equations                      18\n",
      "#invalid equations               0\n",
      "field characteristic         10007\n",
      "homogeneous input?               0\n",
      "signature-based computation      0\n",
      "monomial order                 DRL\n",
      "basis hash table resetting     OFF\n",
      "linear algebra option            2\n",
      "initial hash table size     131072 (2^17)\n",
      "max pair selection             ALL\n",
      "reduce gb                        1\n",
      "#threads                        16\n",
      "info level                       2\n",
      "generate pbm files               0\n",
      "------------------------------------------\n",
      "\n",
      "---------------- TIMINGS ----------------\n",
      "overall(elapsed)        0.01 sec\n",
      "overall(cpu)            0.02 sec\n",
      "select                  0.00 sec   0.0%\n",
      "symbolic prep.          0.00 sec   0.0%\n",
      "update                  0.00 sec   0.0%\n",
      "convert                 0.00 sec   0.0%\n",
      "linear algebra          0.00 sec   0.0%\n",
      "reduce gb               0.00 sec   0.0%\n",
      "-----------------------------------------\n",
      "\n",
      "---------- COMPUTATIONAL DATA -----------\n",
      "size of basis                    24\n",
      "#terms in basis                 296\n",
      "#pairs reduced                    0\n",
      "#GM criterion                     0\n",
      "#redundant elements               0\n",
      "#rows reduced                     0\n",
      "#zero reductions                  0\n",
      "max. matrix data                  0 x 0 (0.000%)\n",
      "max. symbolic hash table size  2^-2147483648\n",
      "max. basis hash table size     2^16\n",
      "-----------------------------------------\n",
      "\n"
     ]
    },
    {
     "data": {
      "text/plain": [
       "Gröbner basis with elements\n",
       "  1: x_E_2__3 + 10006*x + 7155\n",
       "  2: x_E_1__3 + 3944*x + 7945\n",
       "  3: x_E_2__2 + 10006*x_E_3__3 + 6063*x + 4953\n",
       "  4: x_E_1__2 + 2818*x_E_3__3 + 10006*x + 5740\n",
       "  5: x_E_3__1 + 4865*x_E_3__2 + 2525*x_E_3__3 + 8276*y_1 + 5802*y_2 + 4390*x + 2246\n",
       "  6: x_E_2__1 + 10006*x_E_3__2 + 7189*x_E_3__3 + x + 2420\n",
       "  7: x_E_1__1 + 6600*x_E_3__2 + 10006*x_E_3__3 + 6063*x + 9014\n",
       "  8: x_C_3__2 + 9329*x_E_3__2 + 1685*x_E_3__3 + 5201*y_1 + 8716*y_2 + 6106*x + 1041\n",
       "  9: x_C_2__2 + 8272*x_E_3__2 + 2526*x_E_3__3 + 8276*y_1 + 5802*y_2 + 8334*x + 5013\n",
       "  10: x_C_1__2 + 9329*x_E_3__2 + 1685*x_E_3__3 + 5628*y_1 + 3578*y_2 + 6106*x + 2204\n",
       "  11: x_C_3__1 + 1268*y_1 + 10006*y_2 + 5729\n",
       "  12: x_C_2__1 + 9580*y_1 + 5138*y_2 + 37\n",
       "  13: x_C_1__1 + 1269*y_1 + 10006*y_2 + 2147\n",
       "  14: x^2 + 1804*x_E_3__3 + 96*x + 4325\n",
       "  15: y_1^2 + 3709*y_1*y_2 + 6850*y_2^2 + 8936*x_E_3__2 + 3503*x_E_3__3 + 9424*y_1 + 4153*y_2 + 5306*x + 9300\n",
       "  16: x_E_3__3^2 + 6689*x_E_3__3*x + 2745*x_E_3__2 + 2517*x_E_3__3 + 8740*x + 8294\n",
       "  17: x_E_3__2*x_E_3__3 + 8201*x_E_3__2*y_1 + 3160*x_E_3__3*y_1 + 1839*x_E_3__2*y_2 + 4861*x_E_3__3*y_2 + 4382*y_1*y_2 + 5111*y_2^2 + 3916*x_E_3__2*x + 1697*x_E_3__3*x + 6789*y_1*x + 1681*y_2*x + 1172*x_E_3__2 + 9405*x_E_3__3 + 6032*y_1 + 1457*y_2 + 4191*x + 7155\n",
       "  18: x_E_3__2^2 + 2504*x_E_3__2*y_1 + 8507*x_E_3__3*y_1 + 7424*x_E_3__2*y_2 + 796*x_E_3__3*y_2 + 9827*y_1*y_2 + 804*y_2^2 + 4864*x_E_3__2*x + 5338*x_E_3__3*x + 5581*y_1*x + 7499*y_2*x + 911*x_E_3__2 + 7126*x_E_3__3 + 1833*y_1 + 6996*y_2 + 4974*x + 1496\n",
       "  19: x_E_3__3*y_1*y_2 + 7334*x_E_3__3*y_2^2 + 8902*y_1*y_2^2 + 6229*y_2^3 + 7021*x_E_3__2*y_1*x + 8581*x_E_3__3*y_1*x + 5534*x_E_3__2*y_2*x + 5907*x_E_3__3*y_2*x + 2628*y_1*y_2*x + 270*y_2^2*x + 8216*x_E_3__2*y_1 + 4849*x_E_3__3*y_1 + 6004*x_E_3__2*y_2 + 8833*x_E_3__3*y_2 + 1382*y_1*y_2 + 9261*y_2^2 + 1086*x_E_3__2*x + 2659*x_E_3__3*x + 4442*y_1*x + 2671*y_2*x + 5427*x_E_3__2 + 7713*x_E_3__3 + 6552*y_1 + 1039*y_2 + 1083*x + 9156\n",
       "  20: x_E_3__2*y_1*y_2 + 7334*x_E_3__2*y_2^2 + 7588*y_1*y_2^2 + 4734*y_2^3 + 7845*x_E_3__2*y_1*x + 3098*x_E_3__3*y_1*x + 240*x_E_3__2*y_2*x + 5988*x_E_3__3*y_2*x + 5273*y_1*y_2*x + 5134*y_2^2*x + 9125*x_E_3__2*y_1 + 9220*x_E_3__3*y_1 + 6501*x_E_3__2*y_2 + 4051*x_E_3__3*y_2 + 9365*y_1*y_2 + 3592*y_2^2 + 6131*x_E_3__2*x + 1704*x_E_3__3*x + 9319*y_1*x + 9387*y_2*x + 6471*x_E_3__2 + 5172*x_E_3__3 + 3637*y_1 + 8604*y_2 + 7410*x + 7009\n",
       "  21: y_1*y_2^3 + 1601*y_2^4 + 2370*y_1*y_2^2*x + 4707*y_2^3*x + 2149*x_E_3__2*y_2^2 + 1670*x_E_3__3*y_2^2 + 3043*y_1*y_2^2 + 7352*y_2^3 + 1371*x_E_3__2*y_1*x + 4536*x_E_3__3*y_1*x + 7246*x_E_3__2*y_2*x + 4340*x_E_3__3*y_2*x + 9905*y_1*y_2*x + 9602*y_2^2*x + 7124*x_E_3__2*y_1 + 3073*x_E_3__3*y_1 + 6415*x_E_3__2*y_2 + 5865*x_E_3__3*y_2 + 9484*y_1*y_2 + 9076*y_2^2 + 7445*x_E_3__2*x + 4893*x_E_3__3*x + 5264*y_1*x + 8778*y_2*x + 1910*x_E_3__2 + 7986*x_E_3__3 + 9469*y_1 + 7484*y_2 + 1099*x + 5354\n",
       "  22: x_E_3__3*y_2^3 + 8773*y_2^4 + 6115*x_E_3__2*y_2^2*x + 4482*x_E_3__3*y_2^2*x + 9763*y_1*y_2^2*x + 218*y_2^3*x + 4097*x_E_3__2*y_2^2 + 881*x_E_3__3*y_2^2 + 8112*y_1*y_2^2 + 7197*y_2^3 + 7277*x_E_3__2*y_1*x + 3782*x_E_3__3*y_1*x + 6306*x_E_3__2*y_2*x + 1163*x_E_3__3*y_2*x + 7499*y_1*y_2*x + 320*y_2^2*x + 7319*x_E_3__2*y_1 + 193*x_E_3__3*y_1 + 251*x_E_3__2*y_2 + 5504*x_E_3__3*y_2 + 4381*y_1*y_2 + 5640*y_2^2 + 4520*x_E_3__2*x + 1727*x_E_3__3*x + 9220*y_1*x + 9227*y_2*x + 8430*x_E_3__2 + 4324*x_E_3__3 + 1158*y_1 + 7994*y_2 + 5088*x + 2878\n",
       "  23: x_E_3__2*y_2^3 + 6563*y_2^4 + 2276*x_E_3__2*y_2^2*x + 747*x_E_3__3*y_2^2*x + 4655*y_1*y_2^2*x + 9008*y_2^3*x + 2869*x_E_3__2*y_2^2 + 8542*x_E_3__3*y_2^2 + 8298*y_1*y_2^2 + 9863*y_2^3 + 8504*x_E_3__2*y_1*x + 9592*x_E_3__3*y_1*x + 350*x_E_3__2*y_2*x + 7369*x_E_3__3*y_2*x + 8425*y_1*y_2*x + 1025*y_2^2*x + 6425*x_E_3__2*y_1 + 8989*x_E_3__3*y_1 + 7120*x_E_3__2*y_2 + 3762*x_E_3__3*y_2 + 7680*y_1*y_2 + 4857*y_2^2 + 3667*x_E_3__2*x + 5223*x_E_3__3*x + 1498*y_1*x + 4757*y_2*x + 9681*x_E_3__2 + 8060*x_E_3__3 + 8773*y_1 + 7609*y_2 + 3523*x + 1309\n",
       "  24: y_2^5 + 1857*y_2^4*x + 4643*y_2^4 + 3799*x_E_3__2*y_2^2*x + 458*x_E_3__3*y_2^2*x + 4554*y_1*y_2^2*x + 9616*y_2^3*x + 5744*x_E_3__2*y_2^2 + 5983*x_E_3__3*y_2^2 + 7907*y_1*y_2^2 + 1963*y_2^3 + 1973*x_E_3__2*y_1*x + 1056*x_E_3__3*y_1*x + 1388*x_E_3__2*y_2*x + 6339*x_E_3__3*y_2*x + 2685*y_1*y_2*x + 5013*y_2^2*x + 6599*x_E_3__2*y_1 + 8722*x_E_3__3*y_1 + 4693*x_E_3__2*y_2 + 9643*x_E_3__3*y_2 + 8698*y_1*y_2 + 3493*y_2^2 + 7381*x_E_3__2*x + 7062*x_E_3__3*x + 7170*y_1*x + 1639*y_2*x + 7408*x_E_3__2 + 8014*x_E_3__3 + 7987*y_1 + 4935*y_2 + 5632*x + 5891\n",
       "with respect to the ordering\n",
       "  degrevlex([x_C_1__1, x_C_2__1, x_C_3__1, x_C_1__2, x_C_2__2, x_C_3__2, x_E_1__1, x_E_2__1, x_E_3__1, x_E_1__2, x_E_2__2, x_E_3__2, x_E_1__3, x_E_2__3, x_E_3__3, y_1, y_2, x])"
      ]
     },
     "metadata": {},
     "output_type": "display_data"
    }
   ],
   "source": [
    "gb = groebner_basis_f4(ideal(polys), nr_thrds=16, info_level=2)"
   ]
  },
  {
   "cell_type": "markdown",
   "metadata": {},
   "source": [
    "### Efficient Term Order\n",
    "Compute the DRL Gröbner basis with F4 with respect to an efficient term order.\n",
    "\n",
    "First we generate a homomorphism to a ring with an efficient DRL term order."
   ]
  },
  {
   "cell_type": "code",
   "execution_count": 10,
   "metadata": {},
   "outputs": [
    {
     "data": {
      "text/plain": [
       "18-element Vector{FqMPolyRingElem}:\n",
       " x_C_1__1\n",
       " x_C_2__1\n",
       " x_C_3__1\n",
       " x_C_1__2\n",
       " x_C_2__2\n",
       " x_C_3__2\n",
       " x_E_1__1\n",
       " x_E_2__1\n",
       " x_E_3__1\n",
       " x_E_1__2\n",
       " x_E_2__2\n",
       " x_E_3__2\n",
       " x_E_1__3\n",
       " x_E_2__3\n",
       " x_E_3__3\n",
       " y_1\n",
       " y_2\n",
       " x"
      ]
     },
     "metadata": {},
     "output_type": "display_data"
    }
   ],
   "source": [
    "P = parent(polys[1])\n",
    "variables = gens(P)"
   ]
  },
  {
   "cell_type": "code",
   "execution_count": 11,
   "metadata": {},
   "outputs": [],
   "source": [
    "variables_Q = String[]\n",
    "\n",
    "for var in variables\n",
    "    push!(variables_Q, string(var))\n",
    "end"
   ]
  },
  {
   "cell_type": "code",
   "execution_count": 12,
   "metadata": {},
   "outputs": [
    {
     "data": {
      "text/plain": [
       "(Multivariate polynomial ring in 18 variables over K, FqMPolyRingElem[y_1, y_2, x_C_1__1, x_C_2__1, x_C_3__1, x_C_1__2, x_C_2__2, x_C_3__2, x_E_1__1, x_E_2__1, x_E_3__1, x_E_1__2, x_E_2__2, x_E_3__2, x_E_1__3, x_E_2__3, x_E_3__3, x])"
      ]
     },
     "metadata": {},
     "output_type": "display_data"
    }
   ],
   "source": [
    "variables_Q = [\n",
    "variables_Q[3 * (ciminion.rounds_C - 1 + ciminion.rounds_E) + 1:3 * (ciminion.rounds_C - 1 + ciminion.rounds_E) + 2] \n",
    "variables_Q[1:3 * (ciminion.rounds_C - 1 + ciminion.rounds_E)];\n",
    "variables_Q[3 * (ciminion.rounds_C - 1 + ciminion.rounds_E) + 3:3 * (ciminion.rounds_C - 1 + ciminion.rounds_E) + 3]\n",
    "]\n",
    "\n",
    "Q, variables_Q = polynomial_ring(base_ring(P), variables_Q, internal_ordering=:degrevlex)"
   ]
  },
  {
   "cell_type": "code",
   "execution_count": 13,
   "metadata": {},
   "outputs": [
    {
     "data": {
      "text/plain": [
       "18-element Vector{FqMPolyRingElem}:\n",
       " x_C_1__1\n",
       " x_C_2__1\n",
       " x_C_3__1\n",
       " x_C_1__2\n",
       " x_C_2__2\n",
       " x_C_3__2\n",
       " x_E_1__1\n",
       " x_E_2__1\n",
       " x_E_3__1\n",
       " x_E_1__2\n",
       " x_E_2__2\n",
       " x_E_3__2\n",
       " x_E_1__3\n",
       " x_E_2__3\n",
       " x_E_3__3\n",
       " y_1\n",
       " y_2\n",
       " x"
      ]
     },
     "metadata": {},
     "output_type": "display_data"
    }
   ],
   "source": [
    "variables_tmp = [\n",
    "                 variables_Q[2 + 1:2 + 3 * (ciminion.rounds_C - 1 + ciminion.rounds_E)];\n",
    "                 variables_Q[1:2];\n",
    "                 variables_Q[3 * (ciminion.rounds_C - 1 + ciminion.rounds_E) + 3:3 * (ciminion.rounds_C - 1 + ciminion.rounds_E) + 3];\n",
    "                ]"
   ]
  },
  {
   "cell_type": "code",
   "execution_count": 14,
   "metadata": {},
   "outputs": [
    {
     "data": {
      "text/plain": [
       "Ring homomorphism\n",
       "  from multivariate polynomial ring in 18 variables over K\n",
       "  to multivariate polynomial ring in 18 variables over K\n",
       "defined by\n",
       "  x_C_1__1 -> x_C_1__1\n",
       "  x_C_2__1 -> x_C_2__1\n",
       "  x_C_3__1 -> x_C_3__1\n",
       "  x_C_1__2 -> x_C_1__2\n",
       "  x_C_2__2 -> x_C_2__2\n",
       "  x_C_3__2 -> x_C_3__2\n",
       "  x_E_1__1 -> x_E_1__1\n",
       "  x_E_2__1 -> x_E_2__1\n",
       "  x_E_3__1 -> x_E_3__1\n",
       "  x_E_1__2 -> x_E_1__2\n",
       "  x_E_2__2 -> x_E_2__2\n",
       "  x_E_3__2 -> x_E_3__2\n",
       "  x_E_1__3 -> x_E_1__3\n",
       "  x_E_2__3 -> x_E_2__3\n",
       "  x_E_3__3 -> x_E_3__3\n",
       "  y_1 -> y_1\n",
       "  y_2 -> y_2\n",
       "  x -> x"
      ]
     },
     "metadata": {},
     "output_type": "display_data"
    }
   ],
   "source": [
    "h = hom(P, Q, variables_tmp)"
   ]
  },
  {
   "cell_type": "markdown",
   "metadata": {},
   "source": [
    "Now we compute the DRL Gröbner basis with respect to the efficient term order."
   ]
  },
  {
   "cell_type": "code",
   "execution_count": 15,
   "metadata": {},
   "outputs": [
    {
     "name": "stdout",
     "output_type": "stream",
     "text": [
      "\n",
      "Legend for f4 information\n",
      "--------------------------------------------------------\n",
      "deg       current degree of pairs selected in this round\n",
      "sel       number of pairs selected in this round\n",
      "pairs     total number of pairs in pair list\n",
      "mat       matrix dimensions (# rows x # columns)\n",
      "density   density of the matrix\n",
      "new data  # new elements for basis in this round\n",
      "          # zero reductions during linear algebra\n",
      "time(rd)  time of the current f4 round in seconds given\n",
      "          for real and cpu time\n",
      "--------------------------------------------------------\n",
      "\n",
      "deg     sel   pairs        mat          density            new data         time(rd) in sec (real|cpu)\n",
      "------------------------------------------------------------------------------------------------------\n",
      "  1       2      12       3 x 6          66.67%        2 new       0 zero         0.00 | 0.00         \n",
      "  2      11      11      17 x 23         20.20%       11 new       0 zero         0.00 | 0.00         \n",
      "  2       5       5      33 x 49         10.45%        5 new       0 zero         0.00 | 0.00         \n",
      "------------------------------------------------------------------------------------------------------\n",
      "reduce final basis       18 x 34         16.34%       18 new       0 zero         0.00 | 0.00         \n",
      "------------------------------------------------------------------------------------------------------\n",
      "\n",
      "---------------- TIMINGS ----------------\n",
      "overall(elapsed)        0.00 sec\n",
      "overall(cpu)            0.00 sec\n",
      "select                  0.00 sec   3.0%\n",
      "symbolic prep.          0.00 sec   2.7%\n",
      "update                  0.00 sec  68.8%\n",
      "convert                 0.00 sec   5.5%\n",
      "linear algebra          0.00 sec   9.1%\n",
      "reduce gb               0.00 sec   0.0%\n",
      "-----------------------------------------\n",
      "\n",
      "---------- COMPUTATIONAL DATA -----------\n",
      "size of basis                    18\n",
      "#terms in basis                 110\n",
      "#pairs reduced                   18\n",
      "#GM criterion                   612\n",
      "#redundant elements              18\n",
      "#rows reduced                    54\n",
      "#zero reductions                  0\n",
      "max. matrix data                 33 x 49 (10.451%)\n",
      "max. symbolic hash table size  2^11\n",
      "max. basis hash table size     2^16\n",
      "-----------------------------------------\n",
      "\n"
     ]
    },
    {
     "name": "stderr",
     "output_type": "stream",
     "text": [
      "\n",
      "--------------- INPUT DATA ---------------\n",
      "#variables                      18\n",
      "#equations                      18\n",
      "#invalid equations               0\n",
      "field characteristic         10007\n",
      "homogeneous input?               0\n",
      "signature-based computation      0\n",
      "monomial order                 DRL\n",
      "basis hash table resetting     OFF\n",
      "linear algebra option            2\n",
      "initial hash table size     131072 (2^17)\n",
      "max pair selection             ALL\n",
      "reduce gb                        1\n",
      "#threads                        16\n",
      "info level                       2\n",
      "generate pbm files               0\n",
      "------------------------------------------\n",
      "\n",
      "---------------- TIMINGS ----------------\n",
      "overall(elapsed)        0.00 sec\n",
      "overall(cpu)            0.00 sec\n",
      "select                  0.00 sec   0.0%\n",
      "symbolic prep.          0.00 sec   0.0%\n",
      "update                  0.00 sec   0.0%\n",
      "convert                 0.00 sec   0.0%\n",
      "linear algebra          0.00 sec   0.0%\n",
      "reduce gb               0.00 sec   0.0%\n",
      "-----------------------------------------\n",
      "\n",
      "---------- COMPUTATIONAL DATA -----------\n",
      "size of basis                    18\n",
      "#terms in basis                 110\n",
      "#pairs reduced                    0\n",
      "#GM criterion                     0\n",
      "#redundant elements               0\n",
      "#rows reduced                     0\n",
      "#zero reductions                  0\n",
      "max. matrix data                  0 x 0 (0.000%)\n",
      "max. symbolic hash table size  2^-2147483648\n",
      "max. basis hash table size     2^16\n",
      "-----------------------------------------\n",
      "\n"
     ]
    },
    {
     "data": {
      "text/plain": [
       "Gröbner basis with elements\n",
       "  1: x_E_2__3 + 10006*x + 7155\n",
       "  2: x_E_1__3 + 3944*x + 7945\n",
       "  3: x_E_2__2 + 10006*x_E_3__3 + 6063*x + 4953\n",
       "  4: x_E_1__2 + 2818*x_E_3__3 + 10006*x + 5740\n",
       "  5: x_E_2__1 + 10006*x_E_3__2 + 7189*x_E_3__3 + x + 2420\n",
       "  6: x_E_1__1 + 6600*x_E_3__2 + 10006*x_E_3__3 + 6063*x + 9014\n",
       "  7: x_C_2__2 + 10006*x_E_3__1 + 3407*x_E_3__2 + x_E_3__3 + 3944*x + 2767\n",
       "  8: x_C_1__2 + 3680*x_E_3__1 + 10006*x_E_3__2 + 7189*x_E_3__3 + x + 1702\n",
       "  9: x_C_3__1 + 9635*x_C_3__2 + 1999*x_E_3__1 + 372*x_E_3__2 + 7568*x_E_3__3 + 9635*x + 5361\n",
       "  10: x_C_2__1 + 10006*x_C_3__2 + 6327*x_E_3__1 + x_E_3__2 + 2818*x_E_3__3 + 10006*x + 9505\n",
       "  11: x_C_1__1 + 5685*x_C_3__2 + 10006*x_E_3__1 + 3407*x_E_3__2 + x_E_3__3 + 3944*x + 3849\n",
       "  12: y_2 + 4728*x_C_3__2 + 6228*x_E_3__1 + 4687*x_E_3__2 + 5811*x_E_3__3 + 769*x + 6713\n",
       "  13: y_1 + 3950*x_C_3__2 + 2000*x_E_3__1 + 6972*x_E_3__2 + 7567*x_E_3__3 + 5691*x + 7937\n",
       "  14: x^2 + 1804*x_E_3__3 + 96*x + 4325\n",
       "  15: x_E_3__3^2 + 6689*x_E_3__3*x + 2745*x_E_3__2 + 2517*x_E_3__3 + 8740*x + 8294\n",
       "  16: x_E_3__2^2 + 5764*x_E_3__2*x_E_3__3 + 896*x_E_3__2*x + 2946*x_E_3__1 + 3860*x_E_3__2 + 3069*x_E_3__3 + 8896*x + 6158\n",
       "  17: x_E_3__1^2 + 6445*x_E_3__1*x_E_3__2 + 3517*x_E_3__1*x_E_3__3 + 6218*x_E_3__1*x + 9852*x_C_3__2 + 706*x_E_3__1 + 2295*x_E_3__2 + 8322*x_E_3__3 + 7000*x + 5150\n",
       "  18: x_C_3__2^2 + 4539*x_C_3__2*x_E_3__1 + 5437*x_C_3__2*x_E_3__2 + 6330*x_C_3__2*x_E_3__3 + 4478*x_C_3__2*x + 6711*x_C_3__2 + 3610*x_E_3__1 + 3006*x_E_3__2 + 8050*x_E_3__3 + 7232*x + 4076\n",
       "with respect to the ordering\n",
       "  degrevlex([y_1, y_2, x_C_1__1, x_C_2__1, x_C_3__1, x_C_1__2, x_C_2__2, x_C_3__2, x_E_1__1, x_E_2__1, x_E_3__1, x_E_1__2, x_E_2__2, x_E_3__2, x_E_1__3, x_E_2__3, x_E_3__3, x])"
      ]
     },
     "metadata": {},
     "output_type": "display_data"
    }
   ],
   "source": [
    "gb_Q = groebner_basis_f4(h(ideal(polys)), nr_thrds=16, info_level=2)"
   ]
  }
 ],
 "metadata": {
  "kernelspec": {
   "display_name": "Julia 1.11.2",
   "language": "julia",
   "name": "julia-1.11"
  },
  "language_info": {
   "file_extension": ".jl",
   "mimetype": "application/julia",
   "name": "julia",
   "version": "1.11.2"
  },
  "orig_nbformat": 4
 },
 "nbformat": 4,
 "nbformat_minor": 2
}
