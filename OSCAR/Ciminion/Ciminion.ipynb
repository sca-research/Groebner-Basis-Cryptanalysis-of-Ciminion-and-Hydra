{
 "cells": [
  {
   "cell_type": "markdown",
   "metadata": {},
   "source": [
    "# Ciminion Polynomial Model\n",
    "Usage example of the Ciminion polynomial model."
   ]
  },
  {
   "cell_type": "code",
   "execution_count": 1,
   "metadata": {},
   "outputs": [
    {
     "name": "stdout",
     "output_type": "stream",
     "text": [
      "\r"
     ]
    },
    {
     "data": {
      "text/plain": [
       "generate_Ciminion_polynomials (generic function with 1 method)"
      ]
     },
     "metadata": {},
     "output_type": "display_data"
    }
   ],
   "source": [
    "using Oscar\n",
    "include(\"Ciminion.jl\")\n",
    "include(\"Ciminion_polynomial_model.jl\")"
   ]
  },
  {
   "cell_type": "markdown",
   "metadata": {},
   "source": [
    "## Ciminion Instance"
   ]
  },
  {
   "cell_type": "code",
   "execution_count": 2,
   "metadata": {},
   "outputs": [
    {
     "name": "stdout",
     "output_type": "stream",
     "text": [
      "Ciminion parameters\n",
      "Field: Prime field of characteristic 10007\n",
      "Rounds_C: 3\n",
      "Rounds_E: 3\n",
      "Constants_C: [6114 5012 7033; 4247 1770 9656; 2536 3722 1371; 293 1868 2396]\n",
      "Constants_E: [3651 6594 7384; 4666 2451 7209; 4584 2584 6025; 7082 9966 8273]\n"
     ]
    }
   ],
   "source": [
    "K = GF(10007)\n",
    "\n",
    "ciminion = Ciminion_constructor(field=K, rounds_C=3, rounds_E=3, info_level=1);"
   ]
  },
  {
   "cell_type": "code",
   "execution_count": 3,
   "metadata": {},
   "outputs": [
    {
     "data": {
      "text/html": [
       "[6564; 2926]"
      ],
      "text/latex": [
       "\\begin{array}{c}\n",
       "6564 \\\\\n",
       "2926\n",
       "\\end{array}"
      ],
      "text/plain": [
       "[6564]\n",
       "[2926]"
      ]
     },
     "metadata": {},
     "output_type": "display_data"
    }
   ],
   "source": [
    "plain = zero_matrix(K, 2, 1)\n",
    "plain[1, 1] = rand(K)\n",
    "plain[2, 1] = rand(K)\n",
    "plain"
   ]
  },
  {
   "cell_type": "code",
   "execution_count": 4,
   "metadata": {},
   "outputs": [
    {
     "data": {
      "text/html": [
       "[8; 6497]"
      ],
      "text/latex": [
       "\\begin{array}{c}\n",
       "8 \\\\\n",
       "6497\n",
       "\\end{array}"
      ],
      "text/plain": [
       "[   8]\n",
       "[6497]"
      ]
     },
     "metadata": {},
     "output_type": "display_data"
    }
   ],
   "source": [
    "key = zero_matrix(K, 2, 1)\n",
    "key[1, 1] = rand(K)\n",
    "key[2, 1] = rand(K)\n",
    "key"
   ]
  },
  {
   "cell_type": "code",
   "execution_count": 5,
   "metadata": {},
   "outputs": [
    {
     "data": {
      "text/html": [
       "7371"
      ],
      "text/latex": [
       "7371"
      ],
      "text/plain": [
       "7371"
      ]
     },
     "metadata": {},
     "output_type": "display_data"
    }
   ],
   "source": [
    "nonce = rand(K)\n",
    "nonce"
   ]
  },
  {
   "cell_type": "code",
   "execution_count": 6,
   "metadata": {},
   "outputs": [
    {
     "data": {
      "text/html": [
       "[20; 1878]"
      ],
      "text/latex": [
       "\\begin{array}{c}\n",
       "20 \\\\\n",
       "1878\n",
       "\\end{array}"
      ],
      "text/plain": [
       "[  20]\n",
       "[1878]"
      ]
     },
     "metadata": {},
     "output_type": "display_data"
    }
   ],
   "source": [
    "cipher = encrypt(plain, key, nonce, ciminion)"
   ]
  },
  {
   "cell_type": "code",
   "execution_count": 7,
   "metadata": {},
   "outputs": [
    {
     "data": {
      "text/plain": [
       "true"
      ]
     },
     "metadata": {},
     "output_type": "display_data"
    }
   ],
   "source": [
    "plain == decrypt(cipher, key, nonce, ciminion)"
   ]
  },
  {
   "cell_type": "markdown",
   "metadata": {},
   "source": [
    "## Ciminion Polynomial model\n",
    "Generate the Ciminion polynomial model, and compute a DRL Gröbner basis."
   ]
  },
  {
   "cell_type": "code",
   "execution_count": 8,
   "metadata": {},
   "outputs": [
    {
     "name": "stdout",
     "output_type": "stream",
     "text": [
      "Plaintext: [9190; 9601]\n",
      "Key: [5843; 4755]\n",
      "Ciphertext: [3406; 7904]\n",
      "Nonce: 7048\n",
      "Term order: degrevlex\n"
     ]
    }
   ],
   "source": [
    "polys = generate_Ciminion_polynomials(ciminion=ciminion);"
   ]
  },
  {
   "cell_type": "markdown",
   "metadata": {},
   "source": [
    "### Inefficient Term Order\n",
    "Compute the DRL Gröbner basis with F4 with respect to an inefficient term order."
   ]
  },
  {
   "cell_type": "code",
   "execution_count": 9,
   "metadata": {},
   "outputs": [
    {
     "name": "stdout",
     "output_type": "stream",
     "text": [
      "\n",
      "Legend for f4 information\n",
      "--------------------------------------------------------\n",
      "deg       current degree of pairs selected in this round\n",
      "sel       number of pairs selected in this round\n",
      "pairs     total number of pairs in pair list\n",
      "mat       matrix dimensions (# rows x # columns)\n",
      "density   density of the matrix\n",
      "new data  # new elements for basis in this round\n",
      "          # zero reductions during linear algebra\n",
      "time(rd)  time of the current f4 round in seconds given\n",
      "          for real and cpu time\n",
      "--------------------------------------------------------\n",
      "\n",
      "deg     sel   pairs        mat          density            new data         time(rd) in sec (real|cpu)\n",
      "------------------------------------------------------------------------------------------------------\n",
      "  2      11      11      21 x 29         15.93%       11 new       0 zero         0.06 | 0.57         \n",
      "  2       4       4      29 x 45         11.42%        4 new       0 zero         0.02 | 0.25         \n",
      "  3       2       2      26 x 52         20.86%        2 new       0 zero         0.02 | 0.19         \n",
      "  4       6       6      60 x 88         14.92%        3 new       3 zero         0.02 | 0.25         \n",
      "  5       9       9      89 x 113        13.97%        1 new       8 zero         0.01 | 0.18         \n",
      "  6       3       3      94 x 123        12.96%        0 new       3 zero         0.01 | 0.11         \n",
      "------------------------------------------------------------------------------------------------------\n",
      "reduce final basis       24 x 56         22.02%       24 new       0 zero         0.01 | 0.11         \n",
      "------------------------------------------------------------------------------------------------------\n",
      "\n",
      "---------------- TIMINGS ----------------\n",
      "overall(elapsed)        0.20 sec\n",
      "overall(cpu)            2.25 sec\n",
      "select                  0.00 sec   0.1%\n",
      "symbolic prep.          0.00 sec   0.2%\n",
      "update                  0.12 sec  59.6%\n",
      "convert                 0.06 sec  31.8%\n",
      "linear algebra          0.02 sec   8.2%\n",
      "reduce gb               0.00 sec   0.0%\n",
      "-----------------------------------------\n",
      "\n",
      "---------- COMPUTATIONAL DATA -----------\n",
      "size of basis                    24\n",
      "#terms in basis                 296\n",
      "#pairs reduced                   35\n",
      "#GM criterion                   706\n",
      "#redundant elements              17\n",
      "#rows reduced                    94\n",
      "#zero reductions                 14\n",
      "max. matrix data                 94 x 123 (12.965%)\n",
      "max. symbolic hash table size  2^11\n",
      "max. basis hash table size     2^16\n",
      "-----------------------------------------\n",
      "\n"
     ]
    },
    {
     "name": "stderr",
     "output_type": "stream",
     "text": [
      "\n",
      "--------------- INPUT DATA ---------------\n",
      "#variables                      18\n",
      "#equations                      18\n",
      "#invalid equations               0\n",
      "field characteristic         10007\n",
      "homogeneous input?               0\n",
      "signature-based computation      0\n",
      "monomial order                 DRL\n",
      "basis hash table resetting     OFF\n",
      "linear algebra option            2\n",
      "initial hash table size     131072 (2^17)\n",
      "max pair selection             ALL\n",
      "reduce gb                        1\n",
      "#threads                        16\n",
      "info level                       2\n",
      "generate pbm files               0\n",
      "------------------------------------------\n",
      "\n",
      "---------------- TIMINGS ----------------\n",
      "overall(elapsed)        0.21 sec\n",
      "overall(cpu)            2.25 sec\n",
      "select                  0.00 sec   0.0%\n",
      "symbolic prep.          0.00 sec   0.0%\n",
      "update                  0.00 sec   0.0%\n",
      "convert                 0.00 sec   0.0%\n",
      "linear algebra          0.00 sec   0.0%\n",
      "reduce gb               0.00 sec   0.0%\n",
      "-----------------------------------------\n",
      "\n",
      "---------- COMPUTATIONAL DATA -----------\n",
      "size of basis                    24\n",
      "#terms in basis                 296\n",
      "#pairs reduced                    0\n",
      "#GM criterion                     0\n",
      "#redundant elements               0\n",
      "#rows reduced                     0\n",
      "#zero reductions                  0\n",
      "max. matrix data                  0 x 0 (0.000%)\n",
      "max. symbolic hash table size  2^-2147483648\n",
      "max. basis hash table size     2^16\n",
      "-----------------------------------------\n",
      "\n"
     ]
    },
    {
     "data": {
      "text/plain": [
       "Gröbner basis with elements\n",
       "  1: x_E_2__3 + 10006*x + 2864\n",
       "  2: x_E_1__3 + 8273*x + 8948\n",
       "  3: x_E_2__2 + 10006*x_E_3__3 + 1734*x + 7056\n",
       "  4: x_E_1__2 + 9966*x_E_3__3 + 10006*x + 1182\n",
       "  5: x_E_3__1 + 7692*x_E_3__2 + 8724*x_E_3__3 + 6899*y_1 + 3927*y_2 + 4289*x + 9387\n",
       "  6: x_E_2__1 + 10006*x_E_3__2 + 41*x_E_3__3 + x + 9758\n",
       "  7: x_E_1__1 + 7082*x_E_3__2 + 10006*x_E_3__3 + 1734*x + 535\n",
       "  8: x_C_3__2 + 2861*x_E_3__2 + 1960*x_E_3__3 + 7652*y_1 + 7202*y_2 + 746*x + 1266\n",
       "  9: x_C_2__2 + 610*x_E_3__2 + 8725*x_E_3__3 + 6899*y_1 + 3927*y_2 + 2555*x + 3190\n",
       "  10: x_C_1__2 + 2861*x_E_3__2 + 1960*x_E_3__3 + 1560*y_1 + 7495*y_2 + 746*x + 1264\n",
       "  11: x_C_3__1 + 2958*y_1 + 10006*y_2 + 7471\n",
       "  12: x_C_2__1 + 6092*y_1 + 9714*y_2 + 8719\n",
       "  13: x_C_1__1 + 2959*y_1 + 10006*y_2 + 3893\n",
       "  14: x^2 + 6100*x_E_3__3 + 2521*x + 6765\n",
       "  15: y_1^2 + 2119*y_1*y_2 + 644*y_2^2 + 653*x_E_3__2 + 2532*x_E_3__3 + 2255*y_1 + 9559*y_2 + 9051*x + 2238\n",
       "  16: x_E_3__3^2 + 4856*x_E_3__3*x + 6590*x_E_3__2 + 5607*x_E_3__3 + 8243*x + 4935\n",
       "  17: x_E_3__2*x_E_3__3 + 2575*x_E_3__2*y_1 + 330*x_E_3__3*y_1 + 5604*x_E_3__2*y_2 + 4857*x_E_3__3*y_2 + 1380*y_1*y_2 + 8346*y_2^2 + 6136*x_E_3__2*x + 5565*x_E_3__3*x + 5946*y_1*x + 1818*y_2*x + 3364*x_E_3__2 + 8456*x_E_3__3 + 6882*y_1 + 7508*y_2 + 597*x + 5481\n",
       "  18: x_E_3__2^2 + 5162*x_E_3__2*y_1 + 8706*x_E_3__3*y_1 + 104*x_E_3__2*y_2 + 9690*x_E_3__3*y_2 + 2747*y_1*y_2 + 2212*y_2^2 + 2800*x_E_3__2*x + 9446*x_E_3__3*x + 4396*y_1*x + 1748*y_2*x + 9686*x_E_3__2 + 8396*x_E_3__3 + 107*y_1 + 4210*y_2 + 5559*x + 9814\n",
       "  19: x_E_3__3*y_1*y_2 + 7272*x_E_3__3*y_2^2 + 7772*y_1*y_2^2 + 8444*y_2^3 + 7350*x_E_3__2*y_1*x + 8776*x_E_3__3*y_1*x + 3560*x_E_3__2*y_2*x + 1623*x_E_3__3*y_2*x + 3177*y_1*y_2*x + 6988*y_2^2*x + 1751*x_E_3__2*y_1 + 8067*x_E_3__3*y_1 + 6510*x_E_3__2*y_2 + 5391*x_E_3__3*y_2 + 1025*y_1*y_2 + 4865*y_2^2 + 4955*x_E_3__2*x + 8437*x_E_3__3*x + 3271*y_1*x + 4278*y_2*x + 5659*x_E_3__2 + 5020*x_E_3__3 + 8104*y_1 + 9005*y_2 + 3779*x + 2902\n",
       "  20: x_E_3__2*y_1*y_2 + 7272*x_E_3__2*y_2^2 + 4016*y_1*y_2^2 + 7268*y_2^3 + 7091*x_E_3__2*y_1*x + 915*x_E_3__3*y_1*x + 6389*x_E_3__2*y_2*x + 3915*x_E_3__3*y_2*x + 4559*y_1*y_2*x + 9864*y_2^2*x + 4436*x_E_3__2*y_1 + 6252*x_E_3__3*y_1 + 2867*x_E_3__2*y_2 + 6970*x_E_3__3*y_2 + 7999*y_1*y_2 + 4125*y_2^2 + 7271*x_E_3__2*x + 6225*x_E_3__3*x + 7301*y_1*x + 6998*y_2*x + 5815*x_E_3__2 + 9555*x_E_3__3 + 6635*y_1 + 840*y_2 + 6864*x + 7017\n",
       "  21: y_1*y_2^3 + 6938*y_2^4 + 8167*y_1*y_2^2*x + 1534*y_2^3*x + 1448*x_E_3__2*y_2^2 + 205*x_E_3__3*y_2^2 + 792*y_1*y_2^2 + 6017*y_2^3 + 1800*x_E_3__2*y_1*x + 461*x_E_3__3*y_1*x + 1059*x_E_3__2*y_2*x + 5217*x_E_3__3*y_2*x + 8131*y_1*y_2*x + 9902*y_2^2*x + 7842*x_E_3__2*y_1 + 3285*x_E_3__3*y_1 + 1010*x_E_3__2*y_2 + 9409*x_E_3__3*y_2 + 8836*y_1*y_2 + 9291*y_2^2 + 6827*x_E_3__2*x + 1165*x_E_3__3*x + 396*y_1*x + 2804*y_2*x + 2547*x_E_3__2 + 6008*x_E_3__3 + 5780*y_1 + 3520*y_2 + 9669*x + 6837\n",
       "  22: x_E_3__3*y_2^3 + 7519*y_2^4 + 9842*x_E_3__2*y_2^2*x + 6910*x_E_3__3*y_2^2*x + 8992*y_1*y_2^2*x + 8646*y_2^3*x + 1227*x_E_3__2*y_2^2 + 9016*x_E_3__3*y_2^2 + 3592*y_1*y_2^2 + 2050*y_2^3 + 963*x_E_3__2*y_1*x + 9252*x_E_3__3*y_1*x + 6794*x_E_3__2*y_2*x + 5371*x_E_3__3*y_2*x + 9703*y_1*y_2*x + 4301*y_2^2*x + 6260*x_E_3__2*y_1 + 7469*x_E_3__3*y_1 + 9097*x_E_3__2*y_2 + 8116*x_E_3__3*y_2 + 447*y_1*y_2 + 8378*y_2^2 + 9985*x_E_3__2*x + 9436*x_E_3__3*x + 8165*y_1*x + 4591*y_2*x + 8917*x_E_3__2 + 6961*x_E_3__3 + 7768*y_1 + 6010*y_2 + 3337*x + 3170\n",
       "  23: x_E_3__2*y_2^3 + 826*y_2^4 + 2557*x_E_3__2*y_2^2*x + 8659*x_E_3__3*y_2^2*x + 6346*y_1*y_2^2*x + 8688*y_2^3*x + 6941*x_E_3__2*y_2^2 + 4433*x_E_3__3*y_2^2 + 9551*y_1*y_2^2 + 1002*y_2^3 + 4243*x_E_3__2*y_1*x + 8687*x_E_3__3*y_1*x + 3918*x_E_3__2*y_2*x + 8781*x_E_3__3*y_2*x + 838*y_1*y_2*x + 3367*y_2^2*x + 5603*x_E_3__2*y_1 + 4135*x_E_3__3*y_1 + 9101*x_E_3__2*y_2 + 2711*x_E_3__3*y_2 + 1546*y_1*y_2 + 9666*y_2^2 + 4057*x_E_3__2*x + 3996*x_E_3__3*x + 4074*y_1*x + 5444*y_2*x + 5708*x_E_3__2 + 8385*x_E_3__3 + 5979*y_1 + 8342*y_2 + 5308*x + 5829\n",
       "  24: y_2^5 + 6973*y_2^4*x + 9371*y_2^4 + 3866*x_E_3__2*y_2^2*x + 1347*x_E_3__3*y_2^2*x + 2495*y_1*y_2^2*x + 4722*y_2^3*x + 6746*x_E_3__2*y_2^2 + 5777*x_E_3__3*y_2^2 + 8162*y_1*y_2^2 + 144*y_2^3 + 5776*x_E_3__2*y_1*x + 1240*x_E_3__3*y_1*x + 1175*x_E_3__2*y_2*x + 9087*x_E_3__3*y_2*x + 8434*y_1*y_2*x + 4098*y_2^2*x + 3270*x_E_3__2*y_1 + 2381*x_E_3__3*y_1 + 4655*x_E_3__2*y_2 + 9537*x_E_3__3*y_2 + 7457*y_1*y_2 + 5466*y_2^2 + 9306*x_E_3__2*x + 9584*x_E_3__3*x + 4853*y_1*x + 3411*y_2*x + 9306*x_E_3__2 + 7686*x_E_3__3 + 3945*y_1 + 1392*y_2 + 7291*x + 4102\n",
       "with respect to the ordering\n",
       "  degrevlex([x_C_1__1, x_C_2__1, x_C_3__1, x_C_1__2, x_C_2__2, x_C_3__2, x_E_1__1, x_E_2__1, x_E_3__1, x_E_1__2, x_E_2__2, x_E_3__2, x_E_1__3, x_E_2__3, x_E_3__3, y_1, y_2, x])"
      ]
     },
     "metadata": {},
     "output_type": "display_data"
    }
   ],
   "source": [
    "gb = groebner_basis_f4(ideal(polys), nr_thrds=16, info_level=2)"
   ]
  },
  {
   "cell_type": "markdown",
   "metadata": {},
   "source": [
    "### Efficient Term Order\n",
    "Compute the DRL Gröbner basis with F4 with respect to an efficient term order.\n",
    "\n",
    "First we generate a homomorphism to a ring with an efficient DRL term order."
   ]
  },
  {
   "cell_type": "code",
   "execution_count": 10,
   "metadata": {},
   "outputs": [
    {
     "data": {
      "text/plain": [
       "18-element Vector{FqMPolyRingElem}:\n",
       " x_C_1__1\n",
       " x_C_2__1\n",
       " x_C_3__1\n",
       " x_C_1__2\n",
       " x_C_2__2\n",
       " x_C_3__2\n",
       " x_E_1__1\n",
       " x_E_2__1\n",
       " x_E_3__1\n",
       " x_E_1__2\n",
       " x_E_2__2\n",
       " x_E_3__2\n",
       " x_E_1__3\n",
       " x_E_2__3\n",
       " x_E_3__3\n",
       " y_1\n",
       " y_2\n",
       " x"
      ]
     },
     "metadata": {},
     "output_type": "display_data"
    }
   ],
   "source": [
    "P = parent(polys[1])\n",
    "variables = gens(P)"
   ]
  },
  {
   "cell_type": "code",
   "execution_count": 11,
   "metadata": {},
   "outputs": [],
   "source": [
    "variables_Q = String[]\n",
    "\n",
    "for var in variables\n",
    "    push!(variables_Q, string(var))\n",
    "end"
   ]
  },
  {
   "cell_type": "code",
   "execution_count": 12,
   "metadata": {},
   "outputs": [
    {
     "data": {
      "text/plain": [
       "(Multivariate polynomial ring in 18 variables over K, FqMPolyRingElem[y_1, y_2, x_C_1__1, x_C_2__1, x_C_3__1, x_C_1__2, x_C_2__2, x_C_3__2, x_E_1__1, x_E_2__1, x_E_3__1, x_E_1__2, x_E_2__2, x_E_3__2, x_E_1__3, x_E_2__3, x_E_3__3, x])"
      ]
     },
     "metadata": {},
     "output_type": "display_data"
    }
   ],
   "source": [
    "variables_Q = [\n",
    "variables_Q[3 * (ciminion.rounds_C - 1 + ciminion.rounds_E) + 1:3 * (ciminion.rounds_C - 1 + ciminion.rounds_E) + 2] \n",
    "variables_Q[1:3 * (ciminion.rounds_C - 1 + ciminion.rounds_E)];\n",
    "variables_Q[3 * (ciminion.rounds_C - 1 + ciminion.rounds_E) + 3:3 * (ciminion.rounds_C - 1 + ciminion.rounds_E) + 3]\n",
    "]\n",
    "\n",
    "Q, variables_Q = polynomial_ring(base_ring(P), variables_Q, internal_ordering=:degrevlex)"
   ]
  },
  {
   "cell_type": "code",
   "execution_count": 13,
   "metadata": {},
   "outputs": [
    {
     "data": {
      "text/plain": [
       "18-element Vector{FqMPolyRingElem}:\n",
       " x_C_1__1\n",
       " x_C_2__1\n",
       " x_C_3__1\n",
       " x_C_1__2\n",
       " x_C_2__2\n",
       " x_C_3__2\n",
       " x_E_1__1\n",
       " x_E_2__1\n",
       " x_E_3__1\n",
       " x_E_1__2\n",
       " x_E_2__2\n",
       " x_E_3__2\n",
       " x_E_1__3\n",
       " x_E_2__3\n",
       " x_E_3__3\n",
       " y_1\n",
       " y_2\n",
       " x"
      ]
     },
     "metadata": {},
     "output_type": "display_data"
    }
   ],
   "source": [
    "variables_tmp = [\n",
    "                 variables_Q[2 + 1:2 + 3 * (ciminion.rounds_C - 1 + ciminion.rounds_E)];\n",
    "                 variables_Q[1:2];\n",
    "                 variables_Q[3 * (ciminion.rounds_C - 1 + ciminion.rounds_E) + 3:3 * (ciminion.rounds_C - 1 + ciminion.rounds_E) + 3];\n",
    "                ]"
   ]
  },
  {
   "cell_type": "code",
   "execution_count": 14,
   "metadata": {},
   "outputs": [
    {
     "data": {
      "text/plain": [
       "Ring homomorphism\n",
       "  from multivariate polynomial ring in 18 variables over K\n",
       "  to multivariate polynomial ring in 18 variables over K\n",
       "defined by\n",
       "  x_C_1__1 -> x_C_1__1\n",
       "  x_C_2__1 -> x_C_2__1\n",
       "  x_C_3__1 -> x_C_3__1\n",
       "  x_C_1__2 -> x_C_1__2\n",
       "  x_C_2__2 -> x_C_2__2\n",
       "  x_C_3__2 -> x_C_3__2\n",
       "  x_E_1__1 -> x_E_1__1\n",
       "  x_E_2__1 -> x_E_2__1\n",
       "  x_E_3__1 -> x_E_3__1\n",
       "  x_E_1__2 -> x_E_1__2\n",
       "  x_E_2__2 -> x_E_2__2\n",
       "  x_E_3__2 -> x_E_3__2\n",
       "  x_E_1__3 -> x_E_1__3\n",
       "  x_E_2__3 -> x_E_2__3\n",
       "  x_E_3__3 -> x_E_3__3\n",
       "  y_1 -> y_1\n",
       "  y_2 -> y_2\n",
       "  x -> x"
      ]
     },
     "metadata": {},
     "output_type": "display_data"
    }
   ],
   "source": [
    "h = hom(P, Q, variables_tmp)"
   ]
  },
  {
   "cell_type": "markdown",
   "metadata": {},
   "source": [
    "Now we compute the DRL Gröbner basis with respect to the efficient term order."
   ]
  },
  {
   "cell_type": "code",
   "execution_count": 15,
   "metadata": {},
   "outputs": [
    {
     "name": "stdout",
     "output_type": "stream",
     "text": [
      "\n",
      "Legend for f4 information\n",
      "--------------------------------------------------------\n",
      "deg       current degree of pairs selected in this round\n",
      "sel       number of pairs selected in this round\n",
      "pairs     total number of pairs in pair list\n",
      "mat       matrix dimensions (# rows x # columns)\n",
      "density   density of the matrix\n",
      "new data  # new elements for basis in this round\n",
      "          # zero reductions during linear algebra\n",
      "time(rd)  time of the current f4 round in seconds given\n",
      "          for real and cpu time\n",
      "--------------------------------------------------------\n",
      "\n",
      "deg     sel   pairs        mat          density            new data         time(rd) in sec (real|cpu)\n",
      "------------------------------------------------------------------------------------------------------\n",
      "  1       2      12       3 x 6          66.67%        2 new       0 zero         0.02 | 0.27         \n",
      "  2      11      11      17 x 23         20.20%       11 new       0 zero         0.05 | 0.58         \n",
      "  2       5       5      33 x 49         10.45%        5 new       0 zero         0.03 | 0.34         \n",
      "------------------------------------------------------------------------------------------------------\n",
      "reduce final basis       18 x 34         16.34%       18 new       0 zero         0.01 | 0.10         \n",
      "------------------------------------------------------------------------------------------------------\n",
      "\n",
      "---------------- TIMINGS ----------------\n",
      "overall(elapsed)        0.17 sec\n",
      "overall(cpu)            1.95 sec\n",
      "select                  0.00 sec   0.0%\n",
      "symbolic prep.          0.00 sec   0.0%\n",
      "update                  0.11 sec  69.6%\n",
      "convert                 0.04 sec  24.2%\n",
      "linear algebra          0.01 sec   6.0%\n",
      "reduce gb               0.00 sec   0.0%\n",
      "-----------------------------------------\n",
      "\n",
      "---------- COMPUTATIONAL DATA -----------\n",
      "size of basis                    18\n",
      "#terms in basis                 110\n",
      "#pairs reduced                   18\n",
      "#GM criterion                   612\n",
      "#redundant elements              18\n",
      "#rows reduced                    54\n",
      "#zero reductions                  0\n",
      "max. matrix data                 33 x 49 (10.451%)\n",
      "max. symbolic hash table size  2^11\n",
      "max. basis hash table size     2^16\n",
      "-----------------------------------------\n",
      "\n"
     ]
    },
    {
     "name": "stderr",
     "output_type": "stream",
     "text": [
      "\n",
      "--------------- INPUT DATA ---------------\n",
      "#variables                      18\n",
      "#equations                      18\n",
      "#invalid equations               0\n",
      "field characteristic         10007\n",
      "homogeneous input?               0\n",
      "signature-based computation      0\n",
      "monomial order                 DRL\n",
      "basis hash table resetting     OFF\n",
      "linear algebra option            2\n",
      "initial hash table size     131072 (2^17)\n",
      "max pair selection             ALL\n",
      "reduce gb                        1\n",
      "#threads                        16\n",
      "info level                       2\n",
      "generate pbm files               0\n",
      "------------------------------------------\n",
      "\n",
      "---------------- TIMINGS ----------------\n",
      "overall(elapsed)        0.17 sec\n",
      "overall(cpu)            1.95 sec\n",
      "select                  0.00 sec   0.0%\n",
      "symbolic prep.          0.00 sec   0.0%\n",
      "update                  0.00 sec   0.0%\n",
      "convert                 0.00 sec   0.0%\n",
      "linear algebra          0.00 sec   0.0%\n",
      "reduce gb               0.00 sec   0.0%\n",
      "-----------------------------------------\n",
      "\n",
      "---------- COMPUTATIONAL DATA -----------\n",
      "size of basis                    18\n",
      "#terms in basis                 110\n",
      "#pairs reduced                    0\n",
      "#GM criterion                     0\n",
      "#redundant elements               0\n",
      "#rows reduced                     0\n",
      "#zero reductions                  0\n",
      "max. matrix data                  0 x 0 (0.000%)\n",
      "max. symbolic hash table size  2^-2147483648\n",
      "max. basis hash table size     2^16\n",
      "-----------------------------------------\n",
      "\n"
     ]
    },
    {
     "data": {
      "text/plain": [
       "Gröbner basis with elements\n",
       "  1: x_E_2__3 + 10006*x + 2864\n",
       "  2: x_E_1__3 + 8273*x + 8948\n",
       "  3: x_E_2__2 + 10006*x_E_3__3 + 1734*x + 7056\n",
       "  4: x_E_1__2 + 9966*x_E_3__3 + 10006*x + 1182\n",
       "  5: x_E_2__1 + 10006*x_E_3__2 + 41*x_E_3__3 + x + 9758\n",
       "  6: x_E_1__1 + 7082*x_E_3__2 + 10006*x_E_3__3 + 1734*x + 535\n",
       "  7: x_C_2__2 + 10006*x_E_3__1 + 2925*x_E_3__2 + x_E_3__3 + 8273*x + 3810\n",
       "  8: x_C_1__2 + 2396*x_E_3__1 + 10006*x_E_3__2 + 41*x_E_3__3 + x + 6787\n",
       "  9: x_C_3__1 + 9563*x_C_3__2 + 6925*x_E_3__1 + 444*x_E_3__2 + 1810*x_E_3__3 + 9563*x + 5262\n",
       "  10: x_C_2__1 + 10006*x_C_3__2 + 7611*x_E_3__1 + x_E_3__2 + 9966*x_E_3__3 + 10006*x + 1930\n",
       "  11: x_C_1__1 + 1868*x_C_3__2 + 10006*x_E_3__1 + 2925*x_E_3__2 + x_E_3__3 + 8273*x + 7749\n",
       "  12: y_2 + 5448*x_C_3__2 + 9704*x_E_3__1 + 6784*x_E_3__2 + 9094*x_E_3__3 + 2709*x + 72\n",
       "  13: y_1 + 7695*x_C_3__2 + 6926*x_E_3__1 + 7526*x_E_3__2 + 1809*x_E_3__3 + 1290*x + 3942\n",
       "  14: x^2 + 6100*x_E_3__3 + 2521*x + 6765\n",
       "  15: x_E_3__3^2 + 4856*x_E_3__3*x + 6590*x_E_3__2 + 5607*x_E_3__3 + 8243*x + 4935\n",
       "  16: x_E_3__2^2 + 8707*x_E_3__2*x_E_3__3 + 1579*x_E_3__2*x + 8748*x_E_3__1 + 2086*x_E_3__2 + 7452*x_E_3__3 + 3927*x + 9532\n",
       "  17: x_E_3__1^2 + 3770*x_E_3__1*x_E_3__2 + 5700*x_E_3__1*x_E_3__3 + 5046*x_E_3__1*x + 6695*x_C_3__2 + 5707*x_E_3__1 + 7794*x_E_3__2 + 8564*x_E_3__3 + 2358*x + 1771\n",
       "  18: x_C_3__2^2 + 7362*x_C_3__2*x_E_3__1 + 4613*x_C_3__2*x_E_3__2 + 5082*x_C_3__2*x_E_3__3 + 5025*x_C_3__2*x + 1781*x_C_3__2 + 7963*x_E_3__1 + 1575*x_E_3__2 + 1647*x_E_3__3 + 2382*x + 552\n",
       "with respect to the ordering\n",
       "  degrevlex([y_1, y_2, x_C_1__1, x_C_2__1, x_C_3__1, x_C_1__2, x_C_2__2, x_C_3__2, x_E_1__1, x_E_2__1, x_E_3__1, x_E_1__2, x_E_2__2, x_E_3__2, x_E_1__3, x_E_2__3, x_E_3__3, x])"
      ]
     },
     "metadata": {},
     "output_type": "display_data"
    }
   ],
   "source": [
    "gb_Q = groebner_basis_f4(h(ideal(polys)), nr_thrds=16, info_level=2)"
   ]
  }
 ],
 "metadata": {
  "kernelspec": {
   "display_name": "Julia 1.11.1",
   "language": "julia",
   "name": "julia-1.11"
  },
  "language_info": {
   "file_extension": ".jl",
   "mimetype": "application/julia",
   "name": "julia",
   "version": "1.11.1"
  },
  "orig_nbformat": 4
 },
 "nbformat": 4,
 "nbformat_minor": 2
}
