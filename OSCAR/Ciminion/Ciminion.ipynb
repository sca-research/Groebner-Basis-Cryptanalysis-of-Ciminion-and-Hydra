{
 "cells": [
  {
   "cell_type": "markdown",
   "metadata": {},
   "source": [
    "# Ciminion Polynomial Model\n",
    "Usage example of the Ciminion polynomial model."
   ]
  },
  {
   "cell_type": "code",
   "execution_count": 1,
   "metadata": {},
   "outputs": [
    {
     "name": "stdout",
     "output_type": "stream",
     "text": [
      "\r"
     ]
    },
    {
     "data": {
      "text/plain": [
       "generate_Ciminion_polynomials (generic function with 1 method)"
      ]
     },
     "metadata": {},
     "output_type": "display_data"
    }
   ],
   "source": [
    "using Oscar\n",
    "include(\"Ciminion.jl\")\n",
    "include(\"Ciminion_polynomial_model.jl\")"
   ]
  },
  {
   "cell_type": "markdown",
   "metadata": {},
   "source": [
    "## Ciminion Instance"
   ]
  },
  {
   "cell_type": "code",
   "execution_count": 2,
   "metadata": {},
   "outputs": [
    {
     "name": "stdout",
     "output_type": "stream",
     "text": [
      "Ciminion parameters\n",
      "Field: Prime field of characteristic 10007\n",
      "Rounds_C: 3\n",
      "Rounds_E: 3\n",
      "Constants_C: [2921 6802 2028; 9288 3041 9275; 246 7277 6019; 5131 284 6173]\n",
      "Constants_E: [8798 3880 6168; 7540 9032 4960; 9005 3649 535; 1114 8551 2628]\n"
     ]
    }
   ],
   "source": [
    "K = GF(10007)\n",
    "\n",
    "ciminion = Ciminion_constructor(field=K, rounds_C=3, rounds_E=3, info_level=1);"
   ]
  },
  {
   "cell_type": "code",
   "execution_count": 3,
   "metadata": {},
   "outputs": [
    {
     "data": {
      "text/html": [
       "[1550; 1070]"
      ],
      "text/latex": [
       "\\begin{array}{c}\n",
       "1550 \\\\\n",
       "1070\n",
       "\\end{array}"
      ],
      "text/plain": [
       "[1550]\n",
       "[1070]"
      ]
     },
     "metadata": {},
     "output_type": "display_data"
    }
   ],
   "source": [
    "plain = zero_matrix(K, 2, 1)\n",
    "plain[1, 1] = rand(K)\n",
    "plain[2, 1] = rand(K)\n",
    "plain"
   ]
  },
  {
   "cell_type": "code",
   "execution_count": 4,
   "metadata": {},
   "outputs": [
    {
     "data": {
      "text/html": [
       "[2227; 1041]"
      ],
      "text/latex": [
       "\\begin{array}{c}\n",
       "2227 \\\\\n",
       "1041\n",
       "\\end{array}"
      ],
      "text/plain": [
       "[2227]\n",
       "[1041]"
      ]
     },
     "metadata": {},
     "output_type": "display_data"
    }
   ],
   "source": [
    "key = zero_matrix(K, 2, 1)\n",
    "key[1, 1] = rand(K)\n",
    "key[2, 1] = rand(K)\n",
    "key"
   ]
  },
  {
   "cell_type": "code",
   "execution_count": 5,
   "metadata": {},
   "outputs": [
    {
     "data": {
      "text/html": [
       "4322"
      ],
      "text/latex": [
       "4322"
      ],
      "text/plain": [
       "4322"
      ]
     },
     "metadata": {},
     "output_type": "display_data"
    }
   ],
   "source": [
    "nonce = rand(K)\n",
    "nonce"
   ]
  },
  {
   "cell_type": "code",
   "execution_count": 6,
   "metadata": {},
   "outputs": [
    {
     "data": {
      "text/html": [
       "[2687; 7210]"
      ],
      "text/latex": [
       "\\begin{array}{c}\n",
       "2687 \\\\\n",
       "7210\n",
       "\\end{array}"
      ],
      "text/plain": [
       "[2687]\n",
       "[7210]"
      ]
     },
     "metadata": {},
     "output_type": "display_data"
    }
   ],
   "source": [
    "cipher = encrypt(plain, key, nonce, ciminion)"
   ]
  },
  {
   "cell_type": "code",
   "execution_count": 7,
   "metadata": {},
   "outputs": [
    {
     "data": {
      "text/plain": [
       "true"
      ]
     },
     "metadata": {},
     "output_type": "display_data"
    }
   ],
   "source": [
    "plain == decrypt(cipher, key, nonce, ciminion)"
   ]
  },
  {
   "cell_type": "markdown",
   "metadata": {},
   "source": [
    "## Ciminion Polynomial model\n",
    "Generate the Ciminion polynomial model, and compute a DRL Gröbner basis."
   ]
  },
  {
   "cell_type": "code",
   "execution_count": 8,
   "metadata": {},
   "outputs": [
    {
     "name": "stdout",
     "output_type": "stream",
     "text": [
      "Plaintext: [1362; 9448]\n",
      "Key: [585; 7992]\n",
      "Ciphertext: [7092; 7720]\n",
      "Nonce: 5768\n",
      "Term order: degrevlex\n"
     ]
    }
   ],
   "source": [
    "polys = generate_Ciminion_polynomials(ciminion=ciminion);"
   ]
  },
  {
   "cell_type": "markdown",
   "metadata": {},
   "source": [
    "### Inefficient Term Order\n",
    "Compute the DRL Gröbner basis with F4 with respect to an inefficient term order."
   ]
  },
  {
   "cell_type": "code",
   "execution_count": 9,
   "metadata": {},
   "outputs": [
    {
     "name": "stdout",
     "output_type": "stream",
     "text": [
      "\n",
      "Legend for f4 information\n",
      "--------------------------------------------------------\n",
      "deg       current degree of pairs selected in this round\n",
      "sel       number of pairs selected in this round\n",
      "pairs     total number of pairs in pair list\n",
      "mat       matrix dimensions (# rows x # columns)\n",
      "density   density of the matrix\n",
      "new data  # new elements for basis in this round\n",
      "          # zero reductions during linear algebra\n",
      "time(rd)  time of the current f4 round in seconds given\n",
      "          for real and cpu time\n",
      "--------------------------------------------------------\n",
      "\n",
      "deg     sel   pairs        mat          density            new data         time(rd) in sec (real|cpu)\n",
      "------------------------------------------------------------------------------------------------------\n",
      "  2      11      11      21 x 29         15.93%       11 new       0 zero         0.04 | 0.46         \n",
      "  2       4       4      29 x 45         11.42%        4 new       0 zero         0.03 | 0.26         \n",
      "  3       2       2      26 x 52         20.86%        2 new       0 zero         0.02 | 0.19         \n",
      "  4       6       6      60 x 88         14.92%        3 new       3 zero         0.02 | 0.21         \n",
      "  5       9       9      89 x 113        13.97%        1 new       8 zero         0.02 | 0.15         \n",
      "  6       3       3      94 x 123        12.96%        0 new       3 zero         0.01 | 0.09         \n",
      "------------------------------------------------------------------------------------------------------\n",
      "reduce final basis       24 x 56         22.02%       24 new       0 zero         0.01 | 0.09         \n",
      "------------------------------------------------------------------------------------------------------\n",
      "\n",
      "---------------- TIMINGS ---------------\n",
      "overall(elapsed)        0.20 sec\n",
      "overall(cpu)            2.04 sec\n",
      "select                  0.00 sec   0.1%\n",
      "symbolic prep.          0.00 sec   0.2%\n",
      "update                  0.12 sec  60.2%\n",
      "convert                 0.06 sec  29.3%\n",
      "linear algebra          0.02 sec   9.9%\n",
      "reduce gb               0.00 sec   0.0%\n",
      "-----------------------------------------\n",
      "\n",
      "---------- COMPUTATIONAL DATA -----------\n",
      "size of basis                    24\n",
      "#terms in basis                 296\n",
      "#pairs reduced                   35\n",
      "#GM criterion                   706\n",
      "#redundant elements              17\n",
      "#rows reduced                    94\n",
      "#zero reductions                 14\n",
      "max. matrix data                 94 x 123 (12.965%)\n",
      "max. symbolic hash table size  2^11\n",
      "max. basis hash table size     2^16\n",
      "-----------------------------------------\n",
      "\n"
     ]
    },
    {
     "name": "stderr",
     "output_type": "stream",
     "text": [
      "\n",
      "--------------- INPUT DATA ---------------\n",
      "#variables                      18\n",
      "#equations                      18\n",
      "#invalid equations               0\n",
      "field characteristic         10007\n",
      "homogeneous input?               0\n",
      "signature-based computation      0\n",
      "monomial order                 DRL\n",
      "basis hash table resetting     OFF\n",
      "linear algebra option            2\n",
      "initial hash table size     131072 (2^17)\n",
      "max pair selection             ALL\n",
      "reduce gb                        1\n",
      "#threads                        16\n",
      "info level                       2\n",
      "generate pbm files               0\n",
      "------------------------------------------\n",
      "\n",
      "---------------- TIMINGS ---------------\n",
      "overall(elapsed)        0.20 sec\n",
      "overall(cpu)            2.04 sec\n",
      "select                  0.00 sec   0.0%\n",
      "symbolic prep.          0.00 sec   0.0%\n",
      "update                  0.00 sec   0.0%\n",
      "convert                 0.00 sec   0.0%\n",
      "linear algebra          0.00 sec   0.0%\n",
      "reduce gb               0.00 sec   0.0%\n",
      "-----------------------------------------\n",
      "\n",
      "---------- COMPUTATIONAL DATA -----------\n",
      "size of basis                    24\n",
      "#terms in basis                 296\n",
      "#pairs reduced                    0\n",
      "#GM criterion                     0\n",
      "#redundant elements               0\n",
      "#rows reduced                     0\n",
      "#zero reductions                  0\n",
      "max. matrix data                  0 x 0 (0.000%)\n",
      "max. symbolic hash table size  2^-2147483648\n",
      "max. basis hash table size     2^16\n",
      "-----------------------------------------\n",
      "\n"
     ]
    },
    {
     "data": {
      "text/plain": [
       "Gröbner basis with elements\n",
       "1 -> x_E_2__3 + 10006*x + 97\n",
       "2 -> x_E_1__3 + 2628*x + 1688\n",
       "3 -> x_E_2__2 + 10006*x_E_3__3 + 7379*x + 8088\n",
       "4 -> x_E_1__2 + 8551*x_E_3__3 + 10006*x + 8356\n",
       "5 -> x_E_3__1 + 7941*x_E_3__2 + 9694*x_E_3__3 + 7062*y_1 + 9259*y_2 + 6775*x + 6193\n",
       "6 -> x_E_2__1 + 10006*x_E_3__2 + 1456*x_E_3__3 + x + 1858\n",
       "7 -> x_E_1__1 + 1114*x_E_3__2 + 10006*x_E_3__3 + 7379*x + 1065\n",
       "8 -> x_C_3__2 + 4499*x_E_3__2 + 2254*x_E_3__3 + 6740*y_1 + 9053*y_2 + 7186*x + 3664\n",
       "9 -> x_C_2__2 + 6827*x_E_3__2 + 9695*x_E_3__3 + 7062*y_1 + 9259*y_2 + 9403*x + 9119\n",
       "10 -> x_C_1__2 + 4499*x_E_3__2 + 2254*x_E_3__3 + 6773*y_1 + 4177*y_2 + 7186*x + 9188\n",
       "11 -> x_C_3__1 + 4238*y_1 + 10006*y_2 + 9761\n",
       "12 -> x_C_2__1 + 9974*y_1 + 4876*y_2 + 4958\n",
       "13 -> x_C_1__1 + 4239*y_1 + 10006*y_2 + 7086\n",
       "14 -> x^2 + 3012*x_E_3__3 + 9210*x + 6190\n",
       "15 -> y_1^2 + 3201*y_1*y_2 + 4103*y_2^2 + 875*x_E_3__2 + 5939*x_E_3__3 + 527*y_1 + 220*y_2 + 1362*x + 114\n",
       "16 -> x_E_3__3^2 + 5549*x_E_3__3*x + 2921*x_E_3__2 + 4037*x_E_3__3 + 5267*x + 9681\n",
       "17 -> x_E_3__2*x_E_3__3 + 2123*x_E_3__2*y_1 + 9309*x_E_3__3*y_1 + 4576*x_E_3__2*y_2 + 9021*x_E_3__3*y_2 + 440*y_1*y_2 + 7971*y_2^2 + 3051*x_E_3__2*x + 9136*x_E_3__3*x + 2241*y_1*x + 3223*y_2*x + 7712*x_E_3__2 + 2267*x_E_3__3 + 9666*y_1 + 6212*y_2 + 2482*x + 3825\n",
       "18 -> x_E_3__2^2 + 984*x_E_3__2*y_1 + 3042*x_E_3__3*y_1 + 2795*x_E_3__2*y_2 + 6505*x_E_3__3*y_2 + 7774*y_1*y_2 + 9332*y_2^2 + 8301*x_E_3__2*x + 9674*x_E_3__3*x + 5889*y_1*x + 405*y_2*x + 9512*x_E_3__2 + 4633*x_E_3__3 + 8091*y_1 + 4619*y_2 + 9446*x + 6614\n",
       "19 -> x_E_3__3*y_1*y_2 + 7910*x_E_3__3*y_2^2 + 5786*y_1*y_2^2 + 6482*y_2^3 + 1445*x_E_3__2*y_1*x + 1763*x_E_3__3*y_1*x + 5396*x_E_3__2*y_2*x + 2089*x_E_3__3*y_2*x + 9728*y_1*y_2*x + 4657*y_2^2*x + 413*x_E_3__2*y_1 + 2469*x_E_3__3*y_1 + 1296*x_E_3__2*y_2 + 5396*x_E_3__3*y_2 + 3149*y_1*y_2 + 9209*y_2^2 + 2569*x_E_3__2*x + 5384*x_E_3__3*x + 749*y_1*x + 1307*y_2*x + 9437*x_E_3__2 + 7468*x_E_3__3 + 9775*y_1 + 8000*y_2 + 216*x + 4230\n",
       "20 -> x_E_3__2*y_1*y_2 + 7910*x_E_3__2*y_2^2 + 3009*y_1*y_2^2 + 5436*y_2^3 + 684*x_E_3__2*y_1*x + 3224*x_E_3__3*y_1*x + 5726*x_E_3__2*y_2*x + 4927*x_E_3__3*y_2*x + 1622*y_1*y_2*x + 1046*y_2^2*x + 7532*x_E_3__2*y_1 + 5436*x_E_3__3*y_1 + 3050*x_E_3__2*y_2 + 7122*x_E_3__3*y_2 + 2217*y_1*y_2 + 934*y_2^2 + 5298*x_E_3__2*x + 5898*x_E_3__3*x + 2021*y_1*x + 6504*y_2*x + 8871*x_E_3__2 + 7407*x_E_3__3 + 2512*y_1 + 4047*y_2 + 9656*x + 8965\n",
       "21 -> y_1*y_2^3 + 8693*y_2^4 + 8301*y_1*y_2^2*x + 3433*y_2^3*x + 540*x_E_3__2*y_2^2 + 7039*x_E_3__3*y_2^2 + 9951*y_1*y_2^2 + 5293*y_2^3 + 244*x_E_3__2*y_1*x + 2136*x_E_3__3*y_1*x + 9299*x_E_3__2*y_2*x + 9791*x_E_3__3*y_2*x + 4162*y_1*y_2*x + 6764*y_2^2*x + 4568*x_E_3__2*y_1 + 4063*x_E_3__3*y_1 + 7722*x_E_3__2*y_2 + 5384*x_E_3__3*y_2 + 3525*y_1*y_2 + 2268*y_2^2 + 1340*x_E_3__2*x + 9454*x_E_3__3*x + 3455*y_1*x + 2589*y_2*x + 9541*x_E_3__2 + 3123*x_E_3__3 + 2658*y_1 + 3149*y_2 + 2263*x + 643\n",
       "22 -> x_E_3__3*y_2^3 + 5177*y_2^4 + 1185*x_E_3__2*y_2^2*x + 7263*x_E_3__3*y_2^2*x + 3080*y_1*y_2^2*x + 2791*y_2^3*x + 1122*x_E_3__2*y_2^2 + 7796*x_E_3__3*y_2^2 + 1386*y_1*y_2^2 + 4705*y_2^3 + 4344*x_E_3__2*y_1*x + 1254*x_E_3__3*y_1*x + 3545*x_E_3__2*y_2*x + 286*x_E_3__3*y_2*x + 6123*y_1*y_2*x + 3622*y_2^2*x + 4521*x_E_3__2*y_1 + 1717*x_E_3__3*y_1 + 1073*x_E_3__2*y_2 + 8803*x_E_3__3*y_2 + 2076*y_1*y_2 + 8352*y_2^2 + 1727*x_E_3__2*x + 7384*x_E_3__3*x + 7435*y_1*x + 9418*y_2*x + 4480*x_E_3__2 + 5703*x_E_3__3 + 5791*y_1 + 9036*y_2 + 547*x + 6576\n",
       "23 -> x_E_3__2*y_2^3 + 4638*y_2^4 + 2500*x_E_3__2*y_2^2*x + 8565*x_E_3__3*y_2^2*x + 4874*y_1*y_2^2*x + 7065*y_2^3*x + 9092*x_E_3__2*y_2^2 + 3239*x_E_3__3*y_2^2 + 3502*y_1*y_2^2 + 6052*y_2^3 + 3209*x_E_3__2*y_1*x + 4290*x_E_3__3*y_1*x + 770*x_E_3__2*y_2*x + 1509*x_E_3__3*y_2*x + 6355*y_1*y_2*x + 7533*y_2^2*x + 1547*x_E_3__2*y_1 + 3953*x_E_3__3*y_1 + 7980*x_E_3__2*y_2 + 4908*x_E_3__3*y_2 + 3381*y_1*y_2 + 5094*y_2^2 + 7253*x_E_3__2*x + 9007*x_E_3__3*x + 2663*y_1*x + 1495*y_2*x + 6185*x_E_3__2 + 653*x_E_3__3 + 9444*y_1 + 1508*y_2 + 55*x + 835\n",
       "24 -> y_2^5 + 7372*y_2^4*x + 8174*y_2^4 + 1560*x_E_3__2*y_2^2*x + 3840*x_E_3__3*y_2^2*x + 7153*y_1*y_2^2*x + 2293*y_2^3*x + 4083*x_E_3__2*y_2^2 + 1465*x_E_3__3*y_2^2 + 3299*y_1*y_2^2 + 7233*y_2^3 + 2078*x_E_3__2*y_1*x + 3900*x_E_3__3*y_1*x + 4065*x_E_3__2*y_2*x + 971*x_E_3__3*y_2*x + 7217*y_1*y_2*x + 3544*y_2^2*x + 1008*x_E_3__2*y_1 + 1594*x_E_3__3*y_1 + 4899*x_E_3__2*y_2 + 7864*x_E_3__3*y_2 + 3938*y_1*y_2 + 1042*y_2^2 + 8141*x_E_3__2*x + 687*x_E_3__3*x + 4348*y_1*x + 2659*y_2*x + 7030*x_E_3__2 + 6310*x_E_3__3 + 9053*y_1 + 5776*y_2 + 5390*x + 7346\n",
       "with respect to the ordering\n",
       "degrevlex([x_C_1__1, x_C_2__1, x_C_3__1, x_C_1__2, x_C_2__2, x_C_3__2, x_E_1__1, x_E_2__1, x_E_3__1, x_E_1__2, x_E_2__2, x_E_3__2, x_E_1__3, x_E_2__3, x_E_3__3, y_1, y_2, x])"
      ]
     },
     "metadata": {},
     "output_type": "display_data"
    }
   ],
   "source": [
    "gb = groebner_basis_f4(ideal(polys), nr_thrds=16, info_level=2)"
   ]
  },
  {
   "cell_type": "markdown",
   "metadata": {},
   "source": [
    "### Efficient Term Order\n",
    "Compute the DRL Gröbner basis with F4 with respect to an efficient term order.\n",
    "\n",
    "First we generate a homomorphism to a ring with an efficient DRL term order."
   ]
  },
  {
   "cell_type": "code",
   "execution_count": 10,
   "metadata": {},
   "outputs": [
    {
     "data": {
      "text/plain": [
       "18-element Vector{FqMPolyRingElem}:\n",
       " x_C_1__1\n",
       " x_C_2__1\n",
       " x_C_3__1\n",
       " x_C_1__2\n",
       " x_C_2__2\n",
       " x_C_3__2\n",
       " x_E_1__1\n",
       " x_E_2__1\n",
       " x_E_3__1\n",
       " x_E_1__2\n",
       " x_E_2__2\n",
       " x_E_3__2\n",
       " x_E_1__3\n",
       " x_E_2__3\n",
       " x_E_3__3\n",
       " y_1\n",
       " y_2\n",
       " x"
      ]
     },
     "metadata": {},
     "output_type": "display_data"
    }
   ],
   "source": [
    "P = parent(polys[1])\n",
    "variables = gens(P)"
   ]
  },
  {
   "cell_type": "code",
   "execution_count": 11,
   "metadata": {},
   "outputs": [],
   "source": [
    "variables_Q = String[]\n",
    "\n",
    "for var in variables\n",
    "    push!(variables_Q, string(var))\n",
    "end"
   ]
  },
  {
   "cell_type": "code",
   "execution_count": 12,
   "metadata": {},
   "outputs": [
    {
     "data": {
      "text/plain": [
       "(Multivariate polynomial ring in 18 variables over GF(10007), FqMPolyRingElem[y_1, y_2, x_C_1__1, x_C_2__1, x_C_3__1, x_C_1__2, x_C_2__2, x_C_3__2, x_E_1__1, x_E_2__1, x_E_3__1, x_E_1__2, x_E_2__2, x_E_3__2, x_E_1__3, x_E_2__3, x_E_3__3, x])"
      ]
     },
     "metadata": {},
     "output_type": "display_data"
    }
   ],
   "source": [
    "variables_Q = [\n",
    "variables_Q[3 * (ciminion.rounds_C - 1 + ciminion.rounds_E) + 1:3 * (ciminion.rounds_C - 1 + ciminion.rounds_E) + 2] \n",
    "variables_Q[1:3 * (ciminion.rounds_C - 1 + ciminion.rounds_E)];\n",
    "variables_Q[3 * (ciminion.rounds_C - 1 + ciminion.rounds_E) + 3:3 * (ciminion.rounds_C - 1 + ciminion.rounds_E) + 3]\n",
    "]\n",
    "\n",
    "Q, variables_Q = polynomial_ring(base_ring(P), variables_Q, internal_ordering=:degrevlex)"
   ]
  },
  {
   "cell_type": "code",
   "execution_count": 13,
   "metadata": {},
   "outputs": [
    {
     "data": {
      "text/plain": [
       "18-element Vector{FqMPolyRingElem}:\n",
       " x_C_1__1\n",
       " x_C_2__1\n",
       " x_C_3__1\n",
       " x_C_1__2\n",
       " x_C_2__2\n",
       " x_C_3__2\n",
       " x_E_1__1\n",
       " x_E_2__1\n",
       " x_E_3__1\n",
       " x_E_1__2\n",
       " x_E_2__2\n",
       " x_E_3__2\n",
       " x_E_1__3\n",
       " x_E_2__3\n",
       " x_E_3__3\n",
       " y_1\n",
       " y_2\n",
       " x"
      ]
     },
     "metadata": {},
     "output_type": "display_data"
    }
   ],
   "source": [
    "variables_tmp = [\n",
    "                 variables_Q[2 + 1:2 + 3 * (ciminion.rounds_C - 1 + ciminion.rounds_E)];\n",
    "                 variables_Q[1:2];\n",
    "                 variables_Q[3 * (ciminion.rounds_C - 1 + ciminion.rounds_E) + 3:3 * (ciminion.rounds_C - 1 + ciminion.rounds_E) + 3];\n",
    "                ]"
   ]
  },
  {
   "cell_type": "code",
   "execution_count": 14,
   "metadata": {},
   "outputs": [
    {
     "data": {
      "text/plain": [
       "Ring homomorphism\n",
       "  from multivariate polynomial ring in 18 variables over GF(10007)\n",
       "  to multivariate polynomial ring in 18 variables over GF(10007)\n",
       "defined by\n",
       "  x_C_1__1 -> x_C_1__1\n",
       "  x_C_2__1 -> x_C_2__1\n",
       "  x_C_3__1 -> x_C_3__1\n",
       "  x_C_1__2 -> x_C_1__2\n",
       "  x_C_2__2 -> x_C_2__2\n",
       "  x_C_3__2 -> x_C_3__2\n",
       "  x_E_1__1 -> x_E_1__1\n",
       "  x_E_2__1 -> x_E_2__1\n",
       "  x_E_3__1 -> x_E_3__1\n",
       "  x_E_1__2 -> x_E_1__2\n",
       "  x_E_2__2 -> x_E_2__2\n",
       "  x_E_3__2 -> x_E_3__2\n",
       "  x_E_1__3 -> x_E_1__3\n",
       "  x_E_2__3 -> x_E_2__3\n",
       "  x_E_3__3 -> x_E_3__3\n",
       "  y_1 -> y_1\n",
       "  y_2 -> y_2\n",
       "  x -> x"
      ]
     },
     "metadata": {},
     "output_type": "display_data"
    }
   ],
   "source": [
    "h = hom(P, Q, variables_tmp)"
   ]
  },
  {
   "cell_type": "markdown",
   "metadata": {},
   "source": [
    "Now we compute the DRL Gröbner basis with respect to the efficient term order."
   ]
  },
  {
   "cell_type": "code",
   "execution_count": 15,
   "metadata": {},
   "outputs": [
    {
     "name": "stdout",
     "output_type": "stream",
     "text": [
      "\n",
      "Legend for f4 information\n",
      "--------------------------------------------------------\n",
      "deg       current degree of pairs selected in this round\n",
      "sel       number of pairs selected in this round\n",
      "pairs     total number of pairs in pair list\n",
      "mat       matrix dimensions (# rows x # columns)\n",
      "density   density of the matrix\n",
      "new data  # new elements for basis in this round\n",
      "          # zero reductions during linear algebra\n",
      "time(rd)  time of the current f4 round in seconds given\n",
      "          for real and cpu time\n",
      "--------------------------------------------------------\n",
      "\n",
      "deg     sel   pairs        mat          density            new data         time(rd) in sec (real|cpu)\n",
      "------------------------------------------------------------------------------------------------------\n",
      "  1       2      12       3 x 6          66.67%        2 new       0 zero         0.02 | 0.19         \n",
      "  2      11      11      17 x 23         20.20%       11 new       0 zero         0.05 | 0.49         \n",
      "  2       5       5      33 x 49         10.45%        5 new       0 zero         0.03 | 0.27         \n",
      "------------------------------------------------------------------------------------------------------\n",
      "reduce final basis       18 x 34         16.34%       18 new       0 zero         0.01 | 0.10         \n",
      "------------------------------------------------------------------------------------------------------\n",
      "\n",
      "---------------- TIMINGS ---------------\n",
      "overall(elapsed)        0.16 sec\n",
      "overall(cpu)            1.61 sec\n",
      "select                  0.00 sec   0.1%\n",
      "symbolic prep.          0.00 sec   0.0%\n",
      "update                  0.11 sec  72.3%\n",
      "convert                 0.03 sec  21.2%\n",
      "linear algebra          0.01 sec   6.2%\n",
      "reduce gb               0.00 sec   0.0%\n",
      "-----------------------------------------\n",
      "\n",
      "---------- COMPUTATIONAL DATA -----------\n",
      "size of basis                    18\n",
      "#terms in basis                 110\n",
      "#pairs reduced                   18\n",
      "#GM criterion                   612\n",
      "#redundant elements              18\n",
      "#rows reduced                    54\n",
      "#zero reductions                  0\n",
      "max. matrix data                 33 x 49 (10.451%)\n",
      "max. symbolic hash table size  2^11\n",
      "max. basis hash table size     2^16\n",
      "-----------------------------------------\n",
      "\n"
     ]
    },
    {
     "name": "stderr",
     "output_type": "stream",
     "text": [
      "\n",
      "--------------- INPUT DATA ---------------\n",
      "#variables                      18\n",
      "#equations                      18\n",
      "#invalid equations               0\n",
      "field characteristic         10007\n",
      "homogeneous input?               0\n",
      "signature-based computation      0\n",
      "monomial order                 DRL\n",
      "basis hash table resetting     OFF\n",
      "linear algebra option            2\n",
      "initial hash table size     131072 (2^17)\n",
      "max pair selection             ALL\n",
      "reduce gb                        1\n",
      "#threads                        16\n",
      "info level                       2\n",
      "generate pbm files               0\n",
      "------------------------------------------\n",
      "\n",
      "---------------- TIMINGS ---------------\n",
      "overall(elapsed)        0.16 sec\n",
      "overall(cpu)            1.62 sec\n",
      "select                  0.00 sec   0.0%\n",
      "symbolic prep.          0.00 sec   0.0%\n",
      "update                  0.00 sec   0.0%\n",
      "convert                 0.00 sec   0.0%\n",
      "linear algebra          0.00 sec   0.0%\n",
      "reduce gb               0.00 sec   0.0%\n",
      "-----------------------------------------\n",
      "\n",
      "---------- COMPUTATIONAL DATA -----------\n",
      "size of basis                    18\n",
      "#terms in basis                 110\n",
      "#pairs reduced                    0\n",
      "#GM criterion                     0\n",
      "#redundant elements               0\n",
      "#rows reduced                     0\n",
      "#zero reductions                  0\n",
      "max. matrix data                  0 x 0 (0.000%)\n",
      "max. symbolic hash table size  2^-2147483648\n",
      "max. basis hash table size     2^16\n",
      "-----------------------------------------\n",
      "\n"
     ]
    },
    {
     "data": {
      "text/plain": [
       "Gröbner basis with elements\n",
       "1 -> x_E_2__3 + 10006*x + 97\n",
       "2 -> x_E_1__3 + 2628*x + 1688\n",
       "3 -> x_E_2__2 + 10006*x_E_3__3 + 7379*x + 8088\n",
       "4 -> x_E_1__2 + 8551*x_E_3__3 + 10006*x + 8356\n",
       "5 -> x_E_2__1 + 10006*x_E_3__2 + 1456*x_E_3__3 + x + 1858\n",
       "6 -> x_E_1__1 + 1114*x_E_3__2 + 10006*x_E_3__3 + 7379*x + 1065\n",
       "7 -> x_C_2__2 + 10006*x_E_3__1 + 8893*x_E_3__2 + x_E_3__3 + 2628*x + 2926\n",
       "8 -> x_C_1__2 + 6173*x_E_3__1 + 10006*x_E_3__2 + 1456*x_E_3__3 + x + 1830\n",
       "9 -> x_C_3__1 + 7103*x_C_3__2 + 6152*x_E_3__1 + 2904*x_E_3__2 + 4737*x_E_3__3 + 7103*x + 9633\n",
       "10 -> x_C_2__1 + 10006*x_C_3__2 + 3834*x_E_3__1 + x_E_3__2 + 8551*x_E_3__3 + 10006*x + 8652\n",
       "11 -> x_C_1__1 + 284*x_C_3__2 + 10006*x_E_3__1 + 8893*x_E_3__2 + x_E_3__3 + 2628*x + 741\n",
       "12 -> y_2 + 5809*x_C_3__2 + 4324*x_E_3__1 + 9281*x_E_3__2 + 1863*x_E_3__3 + 8888*x + 9094\n",
       "13 -> y_1 + 6819*x_C_3__2 + 6153*x_E_3__1 + 4018*x_E_3__2 + 4736*x_E_3__3 + 4475*x + 6217\n",
       "14 -> x^2 + 3012*x_E_3__3 + 9210*x + 6190\n",
       "15 -> x_E_3__3^2 + 5549*x_E_3__3*x + 2921*x_E_3__2 + 4037*x_E_3__3 + 5267*x + 9681\n",
       "16 -> x_E_3__2^2 + 2757*x_E_3__2*x_E_3__3 + 4021*x_E_3__2*x + 4213*x_E_3__1 + 8653*x_E_3__2 + 2632*x_E_3__3 + 636*x + 7621\n",
       "17 -> x_E_3__1^2 + 7647*x_E_3__1*x_E_3__2 + 4608*x_E_3__1*x_E_3__3 + 846*x_E_3__1*x + 6533*x_C_3__2 + 6582*x_E_3__1 + 2500*x_E_3__2 + 3632*x_E_3__3 + 3724*x + 3993\n",
       "18 -> x_C_3__2^2 + 3037*x_C_3__2*x_E_3__1 + 8945*x_C_3__2*x_E_3__2 + 4592*x_C_3__2*x_E_3__3 + 5648*x_C_3__2*x + 9804*x_C_3__2 + 7230*x_E_3__1 + 3639*x_E_3__2 + 471*x_E_3__3 + 4123*x + 1270\n",
       "with respect to the ordering\n",
       "degrevlex([y_1, y_2, x_C_1__1, x_C_2__1, x_C_3__1, x_C_1__2, x_C_2__2, x_C_3__2, x_E_1__1, x_E_2__1, x_E_3__1, x_E_1__2, x_E_2__2, x_E_3__2, x_E_1__3, x_E_2__3, x_E_3__3, x])"
      ]
     },
     "metadata": {},
     "output_type": "display_data"
    }
   ],
   "source": [
    "gb_Q = groebner_basis_f4(h(ideal(polys)), nr_thrds=16, info_level=2)"
   ]
  }
 ],
 "metadata": {
  "kernelspec": {
   "display_name": "Julia 1.10.3",
   "language": "julia",
   "name": "julia-1.10"
  },
  "language_info": {
   "file_extension": ".jl",
   "mimetype": "application/julia",
   "name": "julia",
   "version": "1.10.3"
  },
  "orig_nbformat": 4
 },
 "nbformat": 4,
 "nbformat_minor": 2
}
