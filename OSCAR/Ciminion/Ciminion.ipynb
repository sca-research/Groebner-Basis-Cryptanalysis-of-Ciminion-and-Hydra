{
 "cells": [
  {
   "cell_type": "markdown",
   "metadata": {},
   "source": [
    "# Ciminion Polynomial Model\n",
    "Usage example of the Ciminion polynomial model."
   ]
  },
  {
   "cell_type": "code",
   "execution_count": 1,
   "metadata": {},
   "outputs": [
    {
     "name": "stdout",
     "output_type": "stream",
     "text": [
      "\r"
     ]
    },
    {
     "data": {
      "text/plain": [
       "generate_Ciminion_polynomials (generic function with 1 method)"
      ]
     },
     "metadata": {},
     "output_type": "display_data"
    }
   ],
   "source": [
    "using Oscar\n",
    "include(\"Ciminion.jl\")\n",
    "include(\"Ciminion_polynomial_model.jl\")"
   ]
  },
  {
   "cell_type": "markdown",
   "metadata": {},
   "source": [
    "## Ciminion Instance"
   ]
  },
  {
   "cell_type": "code",
   "execution_count": 2,
   "metadata": {},
   "outputs": [
    {
     "name": "stdout",
     "output_type": "stream",
     "text": [
      "Ciminion parameters\n",
      "Field: Prime field of characteristic 10007\n",
      "Rounds_C: 3\n",
      "Rounds_E: 3\n",
      "Constants_C: [4165 1634 9341; 1443 1952 6484; 6168 1260 2655; 5462 610 5039]\n",
      "Constants_E: [4057 9170 3489; 3883 3105 3273; 2791 9930 1300; 8557 2791 1937]\n"
     ]
    }
   ],
   "source": [
    "K = GF(10007)\n",
    "\n",
    "ciminion = Ciminion_constructor(field=K, rounds_C=3, rounds_E=3, info_level=1);"
   ]
  },
  {
   "cell_type": "code",
   "execution_count": 3,
   "metadata": {},
   "outputs": [
    {
     "data": {
      "text/html": [
       "[9477; 8843]"
      ],
      "text/latex": [
       "\\begin{array}{c}\n",
       "9477 \\\\\n",
       "8843\n",
       "\\end{array}"
      ],
      "text/plain": [
       "[9477]\n",
       "[8843]"
      ]
     },
     "metadata": {},
     "output_type": "display_data"
    }
   ],
   "source": [
    "plain = zero_matrix(K, 2, 1)\n",
    "plain[1, 1] = rand(K)\n",
    "plain[2, 1] = rand(K)\n",
    "plain"
   ]
  },
  {
   "cell_type": "code",
   "execution_count": 4,
   "metadata": {},
   "outputs": [
    {
     "data": {
      "text/html": [
       "[4476; 6422]"
      ],
      "text/latex": [
       "\\begin{array}{c}\n",
       "4476 \\\\\n",
       "6422\n",
       "\\end{array}"
      ],
      "text/plain": [
       "[4476]\n",
       "[6422]"
      ]
     },
     "metadata": {},
     "output_type": "display_data"
    }
   ],
   "source": [
    "key = zero_matrix(K, 2, 1)\n",
    "key[1, 1] = rand(K)\n",
    "key[2, 1] = rand(K)\n",
    "key"
   ]
  },
  {
   "cell_type": "code",
   "execution_count": 5,
   "metadata": {},
   "outputs": [
    {
     "data": {
      "text/html": [
       "3955"
      ],
      "text/latex": [
       "3955"
      ],
      "text/plain": [
       "3955"
      ]
     },
     "metadata": {},
     "output_type": "display_data"
    }
   ],
   "source": [
    "nonce = rand(K)\n",
    "nonce"
   ]
  },
  {
   "cell_type": "code",
   "execution_count": 6,
   "metadata": {},
   "outputs": [
    {
     "data": {
      "text/html": [
       "[8773; 2881]"
      ],
      "text/latex": [
       "\\begin{array}{c}\n",
       "8773 \\\\\n",
       "2881\n",
       "\\end{array}"
      ],
      "text/plain": [
       "[8773]\n",
       "[2881]"
      ]
     },
     "metadata": {},
     "output_type": "display_data"
    }
   ],
   "source": [
    "cipher = encrypt(plain, key, nonce, ciminion)"
   ]
  },
  {
   "cell_type": "code",
   "execution_count": 7,
   "metadata": {},
   "outputs": [
    {
     "data": {
      "text/plain": [
       "true"
      ]
     },
     "metadata": {},
     "output_type": "display_data"
    }
   ],
   "source": [
    "plain == decrypt(cipher, key, nonce, ciminion)"
   ]
  },
  {
   "cell_type": "markdown",
   "metadata": {},
   "source": [
    "## Ciminion Polynomial model\n",
    "Generate the Ciminion polynomial model, and compute a DRL Gröbner basis."
   ]
  },
  {
   "cell_type": "code",
   "execution_count": 8,
   "metadata": {},
   "outputs": [
    {
     "name": "stdout",
     "output_type": "stream",
     "text": [
      "Plaintext: [6415; 6930]\n",
      "Key: [5862; 4338]\n",
      "Ciphertext: [9925; 2521]\n",
      "Nonce: 5710\n",
      "Term order: degrevlex\n"
     ]
    }
   ],
   "source": [
    "polys = generate_Ciminion_polynomials(ciminion=ciminion);"
   ]
  },
  {
   "cell_type": "markdown",
   "metadata": {},
   "source": [
    "### Inefficient Term Order\n",
    "Compute the DRL Gröbner basis with F4 with respect to an inefficient term order."
   ]
  },
  {
   "cell_type": "code",
   "execution_count": 9,
   "metadata": {},
   "outputs": [
    {
     "name": "stdout",
     "output_type": "stream",
     "text": [
      "\n",
      "Legend for f4 information\n",
      "--------------------------------------------------------\n",
      "deg       current degree of pairs selected in this round\n",
      "sel       number of pairs selected in this round\n",
      "pairs     total number of pairs in pair list\n",
      "mat       matrix dimensions (# rows x # columns)\n",
      "density   density of the matrix\n",
      "new data  # new elements for basis in this round\n",
      "          # zero reductions during linear algebra\n",
      "time(rd)  time of the current f4 round in seconds given\n",
      "          for real and cpu time\n",
      "--------------------------------------------------------\n",
      "\n",
      "deg     sel   pairs        mat          density            new data         time(rd) in sec (real|cpu)\n",
      "------------------------------------------------------------------------------------------------------\n",
      "  2      11      11      21 x 29         15.93%       11 new       0 zero         0.04 | 0.53         \n",
      "  2       4       4      29 x 45         11.42%        4 new       0 zero         0.02 | 0.28         \n",
      "  3       2       2      26 x 52         20.86%        2 new       0 zero         0.02 | 0.21         \n",
      "  4       6       6      60 x 88         14.92%        3 new       3 zero         0.02 | 0.24         \n",
      "  5       9       9      89 x 113        13.97%        1 new       8 zero         0.01 | 0.18         \n",
      "  6       3       3      94 x 123        12.96%        0 new       3 zero         0.01 | 0.11         \n",
      "------------------------------------------------------------------------------------------------------\n",
      "reduce final basis       24 x 56         22.02%       24 new       0 zero         0.01 | 0.11         \n",
      "------------------------------------------------------------------------------------------------------\n",
      "\n",
      "---------------- TIMINGS ---------------\n",
      "overall(elapsed)        0.19 sec\n",
      "overall(cpu)            2.26 sec\n",
      "select                  0.00 sec   0.1%\n",
      "symbolic prep.          0.00 sec   0.2%\n",
      "update                  0.11 sec  59.4%\n",
      "convert                 0.06 sec  31.1%\n",
      "linear algebra          0.02 sec   9.0%\n",
      "reduce gb               0.00 sec   0.0%\n",
      "-----------------------------------------\n",
      "\n",
      "---------- COMPUTATIONAL DATA -----------\n",
      "size of basis                    24\n",
      "#terms in basis                 296\n",
      "#pairs reduced                   35\n",
      "#GM criterion                   706\n",
      "#redundant elements              17\n",
      "#rows reduced                    94\n",
      "#zero reductions                 14\n",
      "max. matrix data                 94 x 123 (12.965%)\n",
      "max. symbolic hash table size  2^11\n",
      "max. basis hash table size     2^16\n",
      "-----------------------------------------\n",
      "\n"
     ]
    },
    {
     "name": "stderr",
     "output_type": "stream",
     "text": [
      "\n",
      "--------------- INPUT DATA ---------------\n",
      "#variables                      18\n",
      "#equations                      18\n",
      "#invalid equations               0\n",
      "field characteristic         10007\n",
      "homogeneous input?               0\n",
      "signature-based computation      0\n",
      "monomial order                 DRL\n",
      "basis hash table resetting     OFF\n",
      "linear algebra option            2\n",
      "initial hash table size     131072 (2^17)\n",
      "max pair selection             ALL\n",
      "reduce gb                        1\n",
      "#threads                        16\n",
      "info level                       2\n",
      "generate pbm files               0\n",
      "------------------------------------------\n",
      "\n",
      "---------------- TIMINGS ---------------\n",
      "overall(elapsed)        0.19 sec\n",
      "overall(cpu)            2.26 sec\n",
      "select                  0.00 sec   0.0%\n",
      "symbolic prep.          0.00 sec   0.0%\n",
      "update                  0.00 sec   0.0%\n",
      "convert                 0.00 sec   0.0%\n",
      "linear algebra          0.00 sec   0.0%\n",
      "reduce gb               0.00 sec   0.0%\n",
      "-----------------------------------------\n",
      "\n",
      "---------- COMPUTATIONAL DATA -----------\n",
      "size of basis                    24\n",
      "#terms in basis                 296\n",
      "#pairs reduced                    0\n",
      "#GM criterion                     0\n",
      "#redundant elements               0\n",
      "#rows reduced                     0\n",
      "#zero reductions                  0\n",
      "max. matrix data                  0 x 0 (0.000%)\n",
      "max. symbolic hash table size  2^-2147483648\n",
      "max. basis hash table size     2^16\n",
      "-----------------------------------------\n",
      "\n"
     ]
    },
    {
     "data": {
      "text/plain": [
       "Gröbner basis with elements\n",
       "1 -> x_E_2__3 + 10006*x + 1321\n",
       "2 -> x_E_1__3 + 1937*x + 1339\n",
       "3 -> x_E_2__2 + 10006*x_E_3__3 + 8070*x + 9428\n",
       "4 -> x_E_1__2 + 2791*x_E_3__3 + 10006*x + 9186\n",
       "5 -> x_E_3__1 + 2985*x_E_3__2 + 7282*x_E_3__3 + 4949*y_1 + 7082*y_2 + 9671*x + 3054\n",
       "6 -> x_E_2__1 + 10006*x_E_3__2 + 7216*x_E_3__3 + x + 9562\n",
       "7 -> x_E_1__1 + 8557*x_E_3__2 + 10006*x_E_3__3 + 8070*x + 7426\n",
       "8 -> x_C_3__2 + 9112*x_E_3__2 + 8887*x_E_3__3 + 7777*y_1 + 3309*y_2 + 1922*x + 1734\n",
       "9 -> x_C_2__2 + 4435*x_E_3__2 + 7283*x_E_3__3 + 4949*y_1 + 7082*y_2 + 1601*x + 8956\n",
       "10 -> x_C_1__2 + 9112*x_E_3__2 + 8887*x_E_3__3 + 9440*y_1 + 8771*y_2 + 1922*x + 8513\n",
       "11 -> x_C_3__1 + 4296*y_1 + 10006*y_2 + 3839\n",
       "12 -> x_C_2__1 + 8344*y_1 + 4545*y_2 + 2854\n",
       "13 -> x_C_1__1 + 4297*y_1 + 10006*y_2 + 5842\n",
       "14 -> x^2 + 5998*x_E_3__3 + 2978*x + 9130\n",
       "15 -> y_1^2 + 7324*y_1*y_2 + 8894*y_2^2 + 4999*x_E_3__2 + 2566*x_E_3__3 + 9194*y_1 + 3015*y_2 + 6640*x + 7094\n",
       "16 -> x_E_3__3^2 + 951*x_E_3__3*x + 9021*x_E_3__2 + 654*x_E_3__3 + 4723*x + 4409\n",
       "17 -> x_E_3__2*x_E_3__3 + 1697*x_E_3__2*y_1 + 1900*x_E_3__3*y_1 + 6982*x_E_3__2*y_2 + 5942*x_E_3__3*y_2 + 3101*y_1*y_2 + 5328*y_2^2 + 9064*x_E_3__2*x + 6297*x_E_3__3*x + 9963*y_1*x + 5993*y_2*x + 6173*x_E_3__2 + 7961*x_E_3__3 + 1432*y_1 + 5612*y_2 + 6061*x + 5154\n",
       "18 -> x_E_3__2^2 + 3339*x_E_3__2*y_1 + 7365*x_E_3__3*y_1 + 3943*x_E_3__2*y_2 + 965*x_E_3__3*y_2 + 8360*y_1*y_2 + 323*y_2^2 + 142*x_E_3__2*x + 9583*x_E_3__3*x + 6571*y_1*x + 399*y_2*x + 325*x_E_3__2 + 7288*x_E_3__3 + 4586*y_1 + 2630*y_2 + 9737*x + 1110\n",
       "19 -> x_E_3__3*y_1*y_2 + 9302*x_E_3__3*y_2^2 + 4622*y_1*y_2^2 + 652*y_2^3 + 417*x_E_3__2*y_1*x + 4490*x_E_3__3*y_1*x + 3927*x_E_3__2*y_2*x + 7511*x_E_3__3*y_2*x + 4165*y_1*y_2*x + 5733*y_2^2*x + 1294*x_E_3__2*y_1 + 7018*x_E_3__3*y_1 + 2615*x_E_3__2*y_2 + 2972*x_E_3__3*y_2 + 9403*y_1*y_2 + 1349*y_2^2 + 1099*x_E_3__2*x + 7104*x_E_3__3*x + 3134*y_1*x + 2976*y_2*x + 6353*x_E_3__2 + 2777*x_E_3__3 + 8025*y_1 + 5639*y_2 + 6179*x + 9344\n",
       "20 -> x_E_3__2*y_1*y_2 + 9302*x_E_3__2*y_2^2 + 3124*y_1*y_2^2 + 1376*y_2^3 + 3394*x_E_3__2*y_1*x + 6794*x_E_3__3*y_1*x + 3957*x_E_3__2*y_2*x + 3003*x_E_3__3*y_2*x + 6273*y_1*y_2*x + 629*y_2^2*x + 9859*x_E_3__2*y_1 + 1587*x_E_3__3*y_1 + 3213*x_E_3__2*y_2 + 4196*x_E_3__3*y_2 + 5744*y_1*y_2 + 639*y_2^2 + 4895*x_E_3__2*x + 6197*x_E_3__3*x + 9068*y_1*x + 8957*y_2*x + 3011*x_E_3__2 + 9682*x_E_3__3 + 844*y_1 + 3352*y_2 + 5725*x + 7352\n",
       "21 -> y_1*y_2^3 + 635*y_2^4 + 8493*y_1*y_2^2*x + 371*y_2^3*x + 7906*x_E_3__2*y_2^2 + 6092*x_E_3__3*y_2^2 + 9878*y_1*y_2^2 + 9425*y_2^3 + 8484*x_E_3__2*y_1*x + 4980*x_E_3__3*y_1*x + 8340*x_E_3__2*y_2*x + 6666*x_E_3__3*y_2*x + 691*y_1*y_2*x + 7346*y_2^2*x + 2789*x_E_3__2*y_1 + 3225*x_E_3__3*y_1 + 6827*x_E_3__2*y_2 + 6781*x_E_3__3*y_2 + 9383*y_1*y_2 + 4893*y_2^2 + 7229*x_E_3__2*x + 3438*x_E_3__3*x + 6301*y_1*x + 3553*y_2*x + 9069*x_E_3__2 + 5305*x_E_3__3 + 9160*y_1 + 1865*y_2 + 165*x + 7993\n",
       "22 -> x_E_3__3*y_2^3 + 1844*y_2^4 + 7334*x_E_3__2*y_2^2*x + 9015*x_E_3__3*y_2^2*x + 9896*y_1*y_2^2*x + 7345*y_2^3*x + 1629*x_E_3__2*y_2^2 + 3730*x_E_3__3*y_2^2 + 6957*y_1*y_2^2 + 1619*y_2^3 + 4956*x_E_3__2*y_1*x + 159*x_E_3__3*y_1*x + 6549*x_E_3__2*y_2*x + 2438*x_E_3__3*y_2*x + 1722*y_1*y_2*x + 6415*y_2^2*x + 6605*x_E_3__2*y_1 + 8265*x_E_3__3*y_1 + 4364*x_E_3__2*y_2 + 9891*x_E_3__3*y_2 + 7584*y_1*y_2 + 3230*y_2^2 + 8283*x_E_3__2*x + 4332*x_E_3__3*x + 4717*y_1*x + 5734*y_2*x + 6955*x_E_3__2 + 1187*x_E_3__3 + 349*y_1 + 337*y_2 + 6881*x + 3739\n",
       "23 -> x_E_3__2*y_2^3 + 822*y_2^4 + 418*x_E_3__2*y_2^2*x + 6197*x_E_3__3*y_2^2*x + 7624*y_1*y_2^2*x + 9362*y_2^3*x + 7819*x_E_3__2*y_2^2 + 5009*x_E_3__3*y_2^2 + 7982*y_1*y_2^2 + 5418*y_2^3 + 3785*x_E_3__2*y_1*x + 4809*x_E_3__3*y_1*x + 220*x_E_3__2*y_2*x + 3918*x_E_3__3*y_2*x + 8470*y_1*y_2*x + 2953*y_2^2*x + 1769*x_E_3__2*y_1 + 2996*x_E_3__3*y_1 + 4299*x_E_3__2*y_2 + 1534*x_E_3__3*y_2 + 7118*y_1*y_2 + 6954*y_2^2 + 1583*x_E_3__2*x + 1942*x_E_3__3*x + 6586*y_1*x + 8312*y_2*x + 763*x_E_3__2 + 7832*x_E_3__3 + 7878*y_1 + 2295*y_2 + 909*x + 4724\n",
       "24 -> y_2^5 + 4428*y_2^4*x + 8005*y_2^4 + 9029*x_E_3__2*y_2^2*x + 6267*x_E_3__3*y_2^2*x + 1355*y_1*y_2^2*x + 1854*y_2^3*x + 5152*x_E_3__2*y_2^2 + 8721*x_E_3__3*y_2^2 + 9017*y_1*y_2^2 + 5663*y_2^3 + 5841*x_E_3__2*y_1*x + 2751*x_E_3__3*y_1*x + 124*x_E_3__2*y_2*x + 887*x_E_3__3*y_2*x + 275*y_1*y_2*x + 7014*y_2^2*x + 8305*x_E_3__2*y_1 + 523*x_E_3__3*y_1 + 4473*x_E_3__2*y_2 + 9325*x_E_3__3*y_2 + 7529*y_1*y_2 + 5891*y_2^2 + 7720*x_E_3__2*x + 50*x_E_3__3*x + 4468*y_1*x + 7992*y_2*x + 4479*x_E_3__2 + 5255*x_E_3__3 + 7635*y_1 + 6632*y_2 + 4201*x + 5770\n",
       "with respect to the ordering\n",
       "degrevlex([x_C_1__1, x_C_2__1, x_C_3__1, x_C_1__2, x_C_2__2, x_C_3__2, x_E_1__1, x_E_2__1, x_E_3__1, x_E_1__2, x_E_2__2, x_E_3__2, x_E_1__3, x_E_2__3, x_E_3__3, y_1, y_2, x])"
      ]
     },
     "metadata": {},
     "output_type": "display_data"
    }
   ],
   "source": [
    "gb = groebner_basis_f4(ideal(polys), nr_thrds=16, info_level=2)"
   ]
  },
  {
   "cell_type": "markdown",
   "metadata": {},
   "source": [
    "### Efficient Term Order\n",
    "Compute the DRL Gröbner basis with F4 with respect to an efficient term order.\n",
    "\n",
    "First we generate a homomorphism to a ring with an efficient DRL term order."
   ]
  },
  {
   "cell_type": "code",
   "execution_count": 10,
   "metadata": {},
   "outputs": [
    {
     "data": {
      "text/plain": [
       "18-element Vector{FqMPolyRingElem}:\n",
       " x_C_1__1\n",
       " x_C_2__1\n",
       " x_C_3__1\n",
       " x_C_1__2\n",
       " x_C_2__2\n",
       " x_C_3__2\n",
       " x_E_1__1\n",
       " x_E_2__1\n",
       " x_E_3__1\n",
       " x_E_1__2\n",
       " x_E_2__2\n",
       " x_E_3__2\n",
       " x_E_1__3\n",
       " x_E_2__3\n",
       " x_E_3__3\n",
       " y_1\n",
       " y_2\n",
       " x"
      ]
     },
     "metadata": {},
     "output_type": "display_data"
    }
   ],
   "source": [
    "P = parent(polys[1])\n",
    "variables = gens(P)"
   ]
  },
  {
   "cell_type": "code",
   "execution_count": 11,
   "metadata": {},
   "outputs": [],
   "source": [
    "variables_Q = String[]\n",
    "\n",
    "for var in variables\n",
    "    push!(variables_Q, string(var))\n",
    "end"
   ]
  },
  {
   "cell_type": "code",
   "execution_count": 12,
   "metadata": {},
   "outputs": [
    {
     "data": {
      "text/plain": [
       "(Multivariate polynomial ring in 18 variables over K, FqMPolyRingElem[y_1, y_2, x_C_1__1, x_C_2__1, x_C_3__1, x_C_1__2, x_C_2__2, x_C_3__2, x_E_1__1, x_E_2__1, x_E_3__1, x_E_1__2, x_E_2__2, x_E_3__2, x_E_1__3, x_E_2__3, x_E_3__3, x])"
      ]
     },
     "metadata": {},
     "output_type": "display_data"
    }
   ],
   "source": [
    "variables_Q = [\n",
    "variables_Q[3 * (ciminion.rounds_C - 1 + ciminion.rounds_E) + 1:3 * (ciminion.rounds_C - 1 + ciminion.rounds_E) + 2] \n",
    "variables_Q[1:3 * (ciminion.rounds_C - 1 + ciminion.rounds_E)];\n",
    "variables_Q[3 * (ciminion.rounds_C - 1 + ciminion.rounds_E) + 3:3 * (ciminion.rounds_C - 1 + ciminion.rounds_E) + 3]\n",
    "]\n",
    "\n",
    "Q, variables_Q = polynomial_ring(base_ring(P), variables_Q, internal_ordering=:degrevlex)"
   ]
  },
  {
   "cell_type": "code",
   "execution_count": 13,
   "metadata": {},
   "outputs": [
    {
     "data": {
      "text/plain": [
       "18-element Vector{FqMPolyRingElem}:\n",
       " x_C_1__1\n",
       " x_C_2__1\n",
       " x_C_3__1\n",
       " x_C_1__2\n",
       " x_C_2__2\n",
       " x_C_3__2\n",
       " x_E_1__1\n",
       " x_E_2__1\n",
       " x_E_3__1\n",
       " x_E_1__2\n",
       " x_E_2__2\n",
       " x_E_3__2\n",
       " x_E_1__3\n",
       " x_E_2__3\n",
       " x_E_3__3\n",
       " y_1\n",
       " y_2\n",
       " x"
      ]
     },
     "metadata": {},
     "output_type": "display_data"
    }
   ],
   "source": [
    "variables_tmp = [\n",
    "                 variables_Q[2 + 1:2 + 3 * (ciminion.rounds_C - 1 + ciminion.rounds_E)];\n",
    "                 variables_Q[1:2];\n",
    "                 variables_Q[3 * (ciminion.rounds_C - 1 + ciminion.rounds_E) + 3:3 * (ciminion.rounds_C - 1 + ciminion.rounds_E) + 3];\n",
    "                ]"
   ]
  },
  {
   "cell_type": "code",
   "execution_count": 14,
   "metadata": {},
   "outputs": [
    {
     "data": {
      "text/plain": [
       "Ring homomorphism\n",
       "  from multivariate polynomial ring in 18 variables over K\n",
       "  to multivariate polynomial ring in 18 variables over K\n",
       "defined by\n",
       "  x_C_1__1 -> x_C_1__1\n",
       "  x_C_2__1 -> x_C_2__1\n",
       "  x_C_3__1 -> x_C_3__1\n",
       "  x_C_1__2 -> x_C_1__2\n",
       "  x_C_2__2 -> x_C_2__2\n",
       "  x_C_3__2 -> x_C_3__2\n",
       "  x_E_1__1 -> x_E_1__1\n",
       "  x_E_2__1 -> x_E_2__1\n",
       "  x_E_3__1 -> x_E_3__1\n",
       "  x_E_1__2 -> x_E_1__2\n",
       "  x_E_2__2 -> x_E_2__2\n",
       "  x_E_3__2 -> x_E_3__2\n",
       "  x_E_1__3 -> x_E_1__3\n",
       "  x_E_2__3 -> x_E_2__3\n",
       "  x_E_3__3 -> x_E_3__3\n",
       "  y_1 -> y_1\n",
       "  y_2 -> y_2\n",
       "  x -> x"
      ]
     },
     "metadata": {},
     "output_type": "display_data"
    }
   ],
   "source": [
    "h = hom(P, Q, variables_tmp)"
   ]
  },
  {
   "cell_type": "markdown",
   "metadata": {},
   "source": [
    "Now we compute the DRL Gröbner basis with respect to the efficient term order."
   ]
  },
  {
   "cell_type": "code",
   "execution_count": 15,
   "metadata": {},
   "outputs": [
    {
     "name": "stdout",
     "output_type": "stream",
     "text": [
      "\n",
      "Legend for f4 information\n",
      "--------------------------------------------------------\n",
      "deg       current degree of pairs selected in this round\n",
      "sel       number of pairs selected in this round\n",
      "pairs     total number of pairs in pair list\n",
      "mat       matrix dimensions (# rows x # columns)\n",
      "density   density of the matrix\n",
      "new data  # new elements for basis in this round\n",
      "          # zero reductions during linear algebra\n",
      "time(rd)  time of the current f4 round in seconds given\n",
      "          for real and cpu time\n",
      "--------------------------------------------------------\n",
      "\n",
      "deg     sel   pairs        mat          density            new data         time(rd) in sec (real|cpu)\n",
      "------------------------------------------------------------------------------------------------------\n",
      "  1       2      12       3 x 6          66.67%        2 new       0 zero         0.02 | 0.21         \n",
      "  2      11      11      17 x 23         20.20%       11 new       0 zero         0.04 | 0.52         \n",
      "  2       5       5      33 x 49         10.45%        5 new       0 zero         0.03 | 0.33         \n",
      "------------------------------------------------------------------------------------------------------\n",
      "reduce final basis       18 x 34         16.34%       18 new       0 zero         0.01 | 0.08         \n",
      "------------------------------------------------------------------------------------------------------\n",
      "\n",
      "---------------- TIMINGS ---------------\n",
      "overall(elapsed)        0.15 sec\n",
      "overall(cpu)            1.76 sec\n",
      "select                  0.00 sec   0.0%\n",
      "symbolic prep.          0.00 sec   0.0%\n",
      "update                  0.11 sec  70.0%\n",
      "convert                 0.04 sec  23.8%\n",
      "linear algebra          0.01 sec   6.0%\n",
      "reduce gb               0.00 sec   0.0%\n",
      "-----------------------------------------\n",
      "\n",
      "---------- COMPUTATIONAL DATA -----------\n",
      "size of basis                    18\n",
      "#terms in basis                 110\n",
      "#pairs reduced                   18\n",
      "#GM criterion                   612\n",
      "#redundant elements              18\n",
      "#rows reduced                    54\n",
      "#zero reductions                  0\n",
      "max. matrix data                 33 x 49 (10.451%)\n",
      "max. symbolic hash table size  2^11\n",
      "max. basis hash table size     2^16\n",
      "-----------------------------------------\n",
      "\n"
     ]
    },
    {
     "name": "stderr",
     "output_type": "stream",
     "text": [
      "\n",
      "--------------- INPUT DATA ---------------\n",
      "#variables                      18\n",
      "#equations                      18\n",
      "#invalid equations               0\n",
      "field characteristic         10007\n",
      "homogeneous input?               0\n",
      "signature-based computation      0\n",
      "monomial order                 DRL\n",
      "basis hash table resetting     OFF\n",
      "linear algebra option            2\n",
      "initial hash table size     131072 (2^17)\n",
      "max pair selection             ALL\n",
      "reduce gb                        1\n",
      "#threads                        16\n",
      "info level                       2\n",
      "generate pbm files               0\n",
      "------------------------------------------\n",
      "\n",
      "---------------- TIMINGS ---------------\n",
      "overall(elapsed)        0.15 sec\n",
      "overall(cpu)            1.76 sec\n",
      "select                  0.00 sec   0.0%\n",
      "symbolic prep.          0.00 sec   0.0%\n",
      "update                  0.00 sec   0.0%\n",
      "convert                 0.00 sec   0.0%\n",
      "linear algebra          0.00 sec   0.0%\n",
      "reduce gb               0.00 sec   0.0%\n",
      "-----------------------------------------\n",
      "\n",
      "---------- COMPUTATIONAL DATA -----------\n",
      "size of basis                    18\n",
      "#terms in basis                 110\n",
      "#pairs reduced                    0\n",
      "#GM criterion                     0\n",
      "#redundant elements               0\n",
      "#rows reduced                     0\n",
      "#zero reductions                  0\n",
      "max. matrix data                  0 x 0 (0.000%)\n",
      "max. symbolic hash table size  2^-2147483648\n",
      "max. basis hash table size     2^16\n",
      "-----------------------------------------\n",
      "\n"
     ]
    },
    {
     "data": {
      "text/plain": [
       "Gröbner basis with elements\n",
       "1 -> x_E_2__3 + 10006*x + 1321\n",
       "2 -> x_E_1__3 + 1937*x + 1339\n",
       "3 -> x_E_2__2 + 10006*x_E_3__3 + 8070*x + 9428\n",
       "4 -> x_E_1__2 + 2791*x_E_3__3 + 10006*x + 9186\n",
       "5 -> x_E_2__1 + 10006*x_E_3__2 + 7216*x_E_3__3 + x + 9562\n",
       "6 -> x_E_1__1 + 8557*x_E_3__2 + 10006*x_E_3__3 + 8070*x + 7426\n",
       "7 -> x_C_2__2 + 10006*x_E_3__1 + 1450*x_E_3__2 + x_E_3__3 + 1937*x + 5902\n",
       "8 -> x_C_1__2 + 5039*x_E_3__1 + 10006*x_E_3__2 + 7216*x_E_3__3 + x + 6853\n",
       "9 -> x_C_3__1 + 3252*x_C_3__2 + 5369*x_E_3__1 + 6755*x_E_3__2 + 17*x_E_3__3 + 3252*x + 4319\n",
       "10 -> x_C_2__1 + 10006*x_C_3__2 + 4968*x_E_3__1 + x_E_3__2 + 2791*x_E_3__3 + 10006*x + 2780\n",
       "11 -> x_C_1__1 + 610*x_C_3__2 + 10006*x_E_3__1 + 1450*x_E_3__2 + x_E_3__3 + 1937*x + 9793\n",
       "12 -> y_2 + 5346*x_C_3__2 + 8754*x_E_3__1 + 1089*x_E_3__2 + 8711*x_E_3__3 + 8544*x + 9501\n",
       "13 -> y_1 + 2642*x_C_3__2 + 5370*x_E_3__1 + 5305*x_E_3__2 + 16*x_E_3__3 + 1315*x + 6536\n",
       "14 -> x^2 + 5998*x_E_3__3 + 2978*x + 9130\n",
       "15 -> x_E_3__3^2 + 951*x_E_3__3*x + 9021*x_E_3__2 + 654*x_E_3__3 + 4723*x + 4409\n",
       "16 -> x_E_3__2^2 + 6290*x_E_3__2*x_E_3__3 + 2823*x_E_3__2*x + 3499*x_E_3__1 + 8549*x_E_3__2 + 8846*x_E_3__3 + 1912*x + 5567\n",
       "17 -> x_E_3__1^2 + 3483*x_E_3__1*x_E_3__2 + 8377*x_E_3__1*x_E_3__3 + 3137*x_E_3__1*x + 4933*x_C_3__2 + 6835*x_E_3__1 + 4935*x_E_3__2 + 5422*x_E_3__3 + 769*x + 8010\n",
       "18 -> x_C_3__2^2 + 7713*x_C_3__2*x_E_3__1 + 5415*x_C_3__2*x_E_3__2 + 4542*x_C_3__2*x_E_3__3 + 4089*x_C_3__2*x + 1966*x_C_3__2 + 4992*x_E_3__1 + 3931*x_E_3__2 + 5891*x_E_3__3 + 7584*x + 2765\n",
       "with respect to the ordering\n",
       "degrevlex([y_1, y_2, x_C_1__1, x_C_2__1, x_C_3__1, x_C_1__2, x_C_2__2, x_C_3__2, x_E_1__1, x_E_2__1, x_E_3__1, x_E_1__2, x_E_2__2, x_E_3__2, x_E_1__3, x_E_2__3, x_E_3__3, x])"
      ]
     },
     "metadata": {},
     "output_type": "display_data"
    }
   ],
   "source": [
    "gb_Q = groebner_basis_f4(h(ideal(polys)), nr_thrds=16, info_level=2)"
   ]
  }
 ],
 "metadata": {
  "kernelspec": {
   "display_name": "Julia 1.10.4",
   "language": "julia",
   "name": "julia-1.10"
  },
  "language_info": {
   "file_extension": ".jl",
   "mimetype": "application/julia",
   "name": "julia",
   "version": "1.10.4"
  },
  "orig_nbformat": 4
 },
 "nbformat": 4,
 "nbformat_minor": 2
}
