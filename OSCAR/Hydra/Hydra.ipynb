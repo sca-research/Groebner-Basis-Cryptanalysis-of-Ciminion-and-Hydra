{
 "cells": [
  {
   "cell_type": "markdown",
   "metadata": {},
   "source": [
    "# Hydra Polynomial Model\n",
    "Usage example of the Hydra polynomial system."
   ]
  },
  {
   "cell_type": "code",
   "execution_count": 1,
   "metadata": {},
   "outputs": [
    {
     "name": "stdout",
     "output_type": "stream",
     "text": [
      "\r"
     ]
    },
    {
     "data": {
      "text/plain": [
       "non_linear_variable_substitution_Hydra_polynomial_system (generic function with 1 method)"
      ]
     },
     "metadata": {},
     "output_type": "display_data"
    }
   ],
   "source": [
    "using Oscar\n",
    "include(\"Hydra.jl\")\n",
    "include(\"Hydra_polynomial_model.jl\")"
   ]
  },
  {
   "cell_type": "markdown",
   "metadata": {},
   "source": [
    "## Hydra Instance\n",
    "Create a Hydra instance, generate a master key a nonce and a key stream."
   ]
  },
  {
   "cell_type": "code",
   "execution_count": 2,
   "metadata": {},
   "outputs": [
    {
     "name": "stdout",
     "output_type": "stream",
     "text": [
      "Hydra parameters\n",
      "Field: Prime field of characteristic 1073741827\n",
      "Rounds body E_1: 2\n",
      "Rounds body E_2: 4\n",
      "Rounds body I: 42\n",
      "Rounds head: 7\n",
      "d: 5\n",
      "Matrix body E:\n",
      "[3 2 1 1; 1 3 2 1; 1 1 3 2; 2 1 1 3]\n",
      "Matrix body I:\n",
      "[1 1 1 1; 1 4 1 1; 3 1 3 1; 4 1 1 2]\n",
      "Matrix head:\n",
      "[3 1 1 1 1 1 1 1; 7 3 1 1 1 1 1 1; 4 1 4 1 1 1 1 1; 3 1 1 8 1 1 1 1; 7 1 1 1 7 1 1 1; 8 1 1 1 1 5 1 1; 5 1 1 1 1 1 2 1; 4 1 1 1 1 1 1 6]\n",
      "Constants body:\n",
      "[964563131 153701999 382314281 36686845 157624668 115830444 916662212 773585356 792580056 491291443 374265725 168614434 186843234 896291044 547342711 891309288 553150323 137437693 753087947 283028330 57184645 29903070 548653104 1028914446 503124057 519419454 751135448 1058450183 618887898 573331946 276192179 420243865 58273952 62184528 78638110 297722483 806684205 669912163 253173044 523667611 367048447 828319475 770409419 792540354 329765631 335711845 423988055 787763124; 769699313 94885986 182044457 635595230 64786252 815825246 902633069 727990078 356486148 478703288 88879189 1001746005 615108999 345470149 985655494 74008501 491724529 616858271 205001531 914871964 509340964 369113302 1050194534 791829330 414301161 507596965 805863160 717615676 929416242 1018729612 27227740 286684062 5715251 470095286 470433552 978780983 366669809 510589355 228331620 569547041 697585188 703304819 1057040528 276454677 264734015 389294539 35172504 637428630; 640896780 61084037 35009372 36794726 392224058 846920803 587792079 791531622 38960185 852486959 484980902 160571670 862341223 695820066 514114586 218048190 882404976 498522143 687216307 534105732 215320228 100149895 36047576 809056553 845263665 474291192 598255237 619544777 1001727285 931343416 242439457 905258921 572259181 985213857 556541407 896087253 117968770 1006707169 851538325 26086094 898676282 812174480 792942934 809197806 986694208 370965295 464389637 748128653; 968815257 395939876 966397487 831380868 905062791 1063051620 559213204 967341810 640478085 1004918201 42240628 249567976 772020025 593946625 95447438 597772303 1026996429 637368922 462739477 452783130 624441021 184632506 225853593 297696406 239734852 765424100 746654495 906474640 553085599 362208798 466135894 509804362 207467179 474060513 755448217 706089851 906763186 792551269 852194374 554651208 1057533877 433109929 632055447 911222875 640394028 478107298 799420424 715836416]\n",
      "Constants head:\n",
      "[805346441 776784778 539763359 700807841 675395262 374186901 656657898; 198915489 134869084 134523796 1062888580 734303066 1003557385 289234399; 766662658 771744475 531769883 284913298 547688085 448710095 78861667; 518474446 85272803 787612159 509541678 74042449 203799298 765962872; 303331502 682680549 498940435 1017340045 670922725 106762384 431616749; 788560753 747596732 543519693 481360045 587036631 981076302 837695140; 353274951 1029731431 520760818 72846399 40992195 436989226 36783489; 662557505 710964622 907590237 36409913 1021902959 641258077 824563448]\n",
      "Initial value: [0; 0; 0; 0]\n"
     ]
    }
   ],
   "source": [
    "K = GF(1073741827)\n",
    "rounds_head = 7\n",
    "\n",
    "hydra = Hydra_constructor(field=K, rounds_head=rounds_head, info_level=1);"
   ]
  },
  {
   "cell_type": "code",
   "execution_count": 3,
   "metadata": {},
   "outputs": [
    {
     "data": {
      "text/html": [
       "63259694"
      ],
      "text/latex": [
       "63259694"
      ],
      "text/plain": [
       "63259694"
      ]
     },
     "metadata": {},
     "output_type": "display_data"
    }
   ],
   "source": [
    "nonce = rand(K)"
   ]
  },
  {
   "cell_type": "code",
   "execution_count": 4,
   "metadata": {},
   "outputs": [
    {
     "data": {
      "text/html": [
       "[549479561; 267191226; 246595936; 701965102]"
      ],
      "text/latex": [
       "\\begin{array}{c}\n",
       "549479561 \\\\\n",
       "267191226 \\\\\n",
       "246595936 \\\\\n",
       "701965102\n",
       "\\end{array}"
      ],
      "text/plain": [
       "[549479561]\n",
       "[267191226]\n",
       "[246595936]\n",
       "[701965102]"
      ]
     },
     "metadata": {},
     "output_type": "display_data"
    }
   ],
   "source": [
    "key = matrix(map(x -> rand(K), 1:4))"
   ]
  },
  {
   "cell_type": "code",
   "execution_count": 5,
   "metadata": {},
   "outputs": [
    {
     "data": {
      "text/plain": [
       "16-element Vector{FqFieldElem}:\n",
       " 945196143\n",
       " 849682038\n",
       " 104118105\n",
       " 917187231\n",
       " 1002560709\n",
       " 501131790\n",
       " 556333142\n",
       " 1029409616\n",
       " 129069670\n",
       " 824596295\n",
       " 204248261\n",
       " 752978537\n",
       " 127761106\n",
       " 876694700\n",
       " 207087828\n",
       " 1030900741"
      ]
     },
     "metadata": {},
     "output_type": "display_data"
    }
   ],
   "source": [
    "out = key_stream(nonce, key, hydra, m=2)"
   ]
  },
  {
   "cell_type": "markdown",
   "metadata": {},
   "source": [
    "## Hydra Polynomial model\n",
    "Generate the Hydra polynomial model, and compute a DRL Gröbner basis."
   ]
  },
  {
   "cell_type": "code",
   "execution_count": 6,
   "metadata": {},
   "outputs": [
    {
     "name": "stdout",
     "output_type": "stream",
     "text": [
      "Nonce: 63259694\n",
      "Number of samples: 2\n",
      "Samples:\n",
      "FqFieldElem[945196143, 849682038, 104118105, 917187231, 1002560709, 501131790, 556333142, 1029409616, 129069670, 824596295, 204248261, 752978537, 127761106, 876694700, 207087828, 1030900741]\n",
      "Term order: degrevlex\n"
     ]
    }
   ],
   "source": [
    "polys = generate_Hydra_polynomials_m_samples(hydra=hydra, nonce=nonce, samples=out);"
   ]
  },
  {
   "cell_type": "code",
   "execution_count": 7,
   "metadata": {},
   "outputs": [
    {
     "name": "stdout",
     "output_type": "stream",
     "text": [
      "\n",
      "Legend for f4 information\n",
      "--------------------------------------------------------\n",
      "deg       current degree of pairs selected in this round\n",
      "sel       number of pairs selected in this round\n",
      "pairs     total number of pairs in pair list\n",
      "mat       matrix dimensions (# rows x # columns)\n",
      "density   density of the matrix\n",
      "new data  # new elements for basis in this round\n",
      "          # zero reductions during linear algebra\n",
      "time(rd)  time of the current f4 round in seconds given\n",
      "          for real and cpu time\n",
      "--------------------------------------------------------\n",
      "\n",
      "deg     sel   pairs        mat          density            new data         time(rd) in sec (real|cpu)\n",
      "------------------------------------------------------------------------------------------------------\n",
      "  2     105     106     120 x 621         7.51%      105 new       0 zero         0.31 | 4.27         \n",
      "  2      16      16    1780 x 1855        0.74%       16 new       0 zero         0.06 | 0.79         \n",
      "  3      45      45     203 x 450        16.89%       45 new       0 zero         0.13 | 1.80         \n",
      "  4     301     301    1153 x 1462       11.17%      126 new     175 zero         0.43 | 5.22         \n",
      "  5    1158    1158    3448 x 3076        9.84%      318 new     840 zero         1.24 | 13.82        \n",
      "  5     192    3113    2213 x 2489       10.74%      192 new       0 zero         0.73 | 7.97         \n",
      "  5    2304    2623    4456 x 2397       11.00%      275 new    2060 zero         1.08 | 12.18        \n",
      "  2      78    1011     168 x 91          9.94%        0 new      78 zero         0.01 | 0.09         \n",
      "  3     498     933     789 x 292         5.49%        0 new     498 zero         0.01 | 0.08         \n",
      "  4     406     435    1015 x 610        19.89%        0 new     406 zero         0.03 | 0.23         \n",
      "  5      29      29     525 x 497         5.59%        0 new      29 zero         0.01 | 0.07         \n",
      "------------------------------------------------------------------------------------------------------\n",
      "reduce final basis      116 x 117        10.54%      116 new       0 zero         0.01 | 0.05         \n",
      "------------------------------------------------------------------------------------------------------\n",
      "\n",
      "---------------- TIMINGS ----------------\n",
      "overall(elapsed)        4.38 sec\n",
      "overall(cpu)           51.23 sec\n",
      "select                  0.35 sec   8.1%\n",
      "symbolic prep.          0.31 sec   7.1%\n",
      "update                  3.40 sec  77.6%\n",
      "convert                 0.07 sec   1.5%\n",
      "linear algebra          0.24 sec   5.6%\n",
      "reduce gb               0.00 sec   0.0%\n",
      "-----------------------------------------\n",
      "\n",
      "---------- COMPUTATIONAL DATA -----------\n",
      "size of basis                   116\n",
      "#terms in basis                 232\n",
      "#pairs reduced                 5132\n",
      "#GM criterion                710674\n",
      "#redundant elements            1081\n",
      "#rows reduced                 10442\n",
      "#zero reductions               4086\n",
      "max. matrix data               4456 x 2397 (10.998%)\n",
      "max. symbolic hash table size  2^12\n",
      "max. basis hash table size     2^18\n",
      "-----------------------------------------\n",
      "\n"
     ]
    },
    {
     "name": "stderr",
     "output_type": "stream",
     "text": [
      "\n",
      "--------------- INPUT DATA ---------------\n",
      "#variables                     116\n",
      "#equations                     120\n",
      "#invalid equations               0\n",
      "field characteristic    1073741827\n",
      "homogeneous input?               0\n",
      "signature-based computation      0\n",
      "monomial order                 DRL\n",
      "basis hash table resetting     OFF\n",
      "linear algebra option            2\n",
      "initial hash table size     131072 (2^17)\n",
      "max pair selection             ALL\n",
      "reduce gb                        1\n",
      "#threads                        16\n",
      "info level                       2\n",
      "generate pbm files               0\n",
      "------------------------------------------\n",
      "\n",
      "---------------- TIMINGS ----------------\n",
      "overall(elapsed)        4.39 sec\n",
      "overall(cpu)           51.23 sec\n",
      "select                  0.00 sec   0.0%\n",
      "symbolic prep.          0.00 sec   0.0%\n",
      "update                  0.00 sec   0.0%\n",
      "convert                 0.00 sec   0.0%\n",
      "linear algebra          0.00 sec   0.0%\n",
      "reduce gb               0.00 sec   0.0%\n",
      "-----------------------------------------\n",
      "\n",
      "---------- COMPUTATIONAL DATA -----------\n",
      "size of basis                   116\n",
      "#terms in basis                 232\n",
      "#pairs reduced                    0\n",
      "#GM criterion                     0\n",
      "#redundant elements               0\n",
      "#rows reduced                     0\n",
      "#zero reductions                  0\n",
      "max. matrix data                  0 x 0 (0.000%)\n",
      "max. symbolic hash table size  2^-2147483648\n",
      "max. basis hash table size     2^16\n",
      "-----------------------------------------\n",
      "\n"
     ]
    }
   ],
   "source": [
    "gb = groebner_basis_f4(ideal(polys), nr_thrds=16, info_level=2);"
   ]
  },
  {
   "cell_type": "code",
   "execution_count": 8,
   "metadata": {},
   "outputs": [
    {
     "data": {
      "text/plain": [
       "4-element Vector{FqMPolyRingElem}:\n",
       " k_b4 + 371776725\n",
       " k_b3 + 827145891\n",
       " k_b2 + 806550601\n",
       " k_b1 + 524262266"
      ]
     },
     "metadata": {},
     "output_type": "display_data"
    }
   ],
   "source": [
    "gens(gb)[1:4]"
   ]
  },
  {
   "cell_type": "code",
   "execution_count": 9,
   "metadata": {},
   "outputs": [
    {
     "data": {
      "text/html": [
       "[524262266; 806550601; 827145891; 371776725]"
      ],
      "text/latex": [
       "\\begin{array}{c}\n",
       "524262266 \\\\\n",
       "806550601 \\\\\n",
       "827145891 \\\\\n",
       "371776725\n",
       "\\end{array}"
      ],
      "text/plain": [
       "[524262266]\n",
       "[806550601]\n",
       "[827145891]\n",
       "[371776725]"
      ]
     },
     "metadata": {},
     "output_type": "display_data"
    }
   ],
   "source": [
    "-key"
   ]
  }
 ],
 "metadata": {
  "kernelspec": {
   "display_name": "Julia 1.11.1",
   "language": "julia",
   "name": "julia-1.11"
  },
  "language_info": {
   "file_extension": ".jl",
   "mimetype": "application/julia",
   "name": "julia",
   "version": "1.11.1"
  },
  "orig_nbformat": 4
 },
 "nbformat": 4,
 "nbformat_minor": 2
}
