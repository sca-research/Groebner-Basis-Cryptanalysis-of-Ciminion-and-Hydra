{
 "cells": [
  {
   "cell_type": "markdown",
   "metadata": {},
   "source": [
    "# Hydra Polynomial Model\n",
    "Usage example of the Hydra polynomial system."
   ]
  },
  {
   "cell_type": "code",
   "execution_count": 1,
   "metadata": {},
   "outputs": [
    {
     "name": "stdout",
     "output_type": "stream",
     "text": [
      "\r"
     ]
    },
    {
     "data": {
      "text/plain": [
       "non_linear_variable_substitution_Hydra_polynomial_system (generic function with 1 method)"
      ]
     },
     "metadata": {},
     "output_type": "display_data"
    }
   ],
   "source": [
    "using Oscar\n",
    "include(\"Hydra.jl\")\n",
    "include(\"Hydra_polynomial_model.jl\")"
   ]
  },
  {
   "cell_type": "markdown",
   "metadata": {},
   "source": [
    "## Hydra Instance\n",
    "Create a Hydra instance, generate a master key a nonce and a key stream."
   ]
  },
  {
   "cell_type": "code",
   "execution_count": 2,
   "metadata": {},
   "outputs": [
    {
     "name": "stdout",
     "output_type": "stream",
     "text": [
      "Hydra parameters\n",
      "Field: Prime field of characteristic 1073741827\n",
      "Rounds body E_1: 2\n",
      "Rounds body E_2: 4\n",
      "Rounds body I: 42\n",
      "Rounds head: 7\n",
      "d: 5\n",
      "Matrix body E:\n",
      "[3 2 1 1; 1 3 2 1; 1 1 3 2; 2 1 1 3]\n",
      "Matrix body I:\n",
      "[1 1 1 1; 1 4 1 1; 3 1 3 1; 4 1 1 2]\n",
      "Matrix head:\n",
      "[3 1 1 1 1 1 1 1; 7 3 1 1 1 1 1 1; 4 1 4 1 1 1 1 1; 3 1 1 8 1 1 1 1; 7 1 1 1 7 1 1 1; 8 1 1 1 1 5 1 1; 5 1 1 1 1 1 2 1; 4 1 1 1 1 1 1 6]\n",
      "Constants body:\n",
      "[819873059 361922450 942993391 544996839 81800292 707730304 599158778 971183519 779687517 16299408 874459997 351623213 25535545 664899029 853105478 928251206 861705231 1055842079 762514555 979534918 873742596 624055829 695365053 916595044 676225340 798752673 506640473 899806005 934800309 141744702 296434116 424048377 537448477 1064661399 705569015 802298905 438972731 662918534 812563432 806466689 992017583 847177645 745668442 751169914 465799002 72404543 511237601 747989794; 432212994 1043449125 34651030 995280053 823830003 663269236 648811669 222142858 619584466 55516629 2742165 808795748 217229414 553697027 971053847 200313027 698665719 978699097 956104319 795985554 712472850 638253764 887575730 339856793 934388874 242703603 979970028 525445539 688843700 454544644 511370246 722814857 861133785 381678313 269126697 46915026 119191493 215605429 703022079 894940265 276515459 139841124 1064970637 215708271 531232826 859639624 496271943 559050133; 554652366 979797824 409200154 993558175 17920673 844551761 502582025 217737334 256883153 193037452 1068889701 678336198 355959342 427590761 668985631 140879314 907508295 92962028 736803404 322942456 738124975 460584133 116396623 768233741 853330073 497152662 459099563 684838229 938189652 1046048309 210324979 334244222 386448730 480206535 552569604 651778589 437129062 223227634 28938158 903174491 598160656 83355970 759168981 51148966 648180957 752625965 662636099 421854241; 282660220 185741017 974299468 595337274 1013437710 298673452 601666319 1069857738 930066878 538521535 47521742 432031741 41880502 777643811 954311092 337065558 745432392 783496086 229843892 635671956 1047123900 989968731 863110500 316857896 7588029 144195893 547051612 79085359 762757369 630291973 278352974 876291118 298605647 1037626826 280497252 402007762 693774250 499580097 1022750387 495086270 252343150 444388254 1029457465 143063238 572051439 897778178 435707595 459487836]\n",
      "Constants head:\n",
      "[972744573 292475141 603942586 293127801 801511697 1021255969 391810622; 785319620 715603701 726706206 307057780 936955083 787177693 118961902; 485724384 363004232 231094142 965350527 653694674 50336052 661014958; 594122644 1025440414 1030801401 297945536 266045599 810910886 630376285; 453126536 547989776 447111854 103514674 377712274 37695192 894041030; 119655822 571878013 249845537 905319782 87340355 274933919 609374845; 772420957 565955692 452869992 818266864 349616863 27207844 205170644; 274213579 243597787 243732979 558900293 875989895 614389231 349237757]\n",
      "Initial value: [0; 0; 0; 0]\n"
     ]
    }
   ],
   "source": [
    "K = GF(1073741827)\n",
    "rounds_head = 7\n",
    "\n",
    "hydra = Hydra_constructor(field=K, rounds_head=rounds_head, info_level=1);"
   ]
  },
  {
   "cell_type": "code",
   "execution_count": 3,
   "metadata": {},
   "outputs": [
    {
     "data": {
      "text/html": [
       "172684907"
      ],
      "text/latex": [
       "172684907"
      ],
      "text/plain": [
       "172684907"
      ]
     },
     "metadata": {},
     "output_type": "display_data"
    }
   ],
   "source": [
    "nonce = rand(K)"
   ]
  },
  {
   "cell_type": "code",
   "execution_count": 4,
   "metadata": {},
   "outputs": [
    {
     "data": {
      "text/html": [
       "[79715099; 344281384; 779503549; 351073602]"
      ],
      "text/latex": [
       "\\begin{array}{c}\n",
       "79715099 \\\\\n",
       "344281384 \\\\\n",
       "779503549 \\\\\n",
       "351073602\n",
       "\\end{array}"
      ],
      "text/plain": [
       "[ 79715099]\n",
       "[344281384]\n",
       "[779503549]\n",
       "[351073602]"
      ]
     },
     "metadata": {},
     "output_type": "display_data"
    }
   ],
   "source": [
    "key = matrix(map(x -> rand(K), 1:4))"
   ]
  },
  {
   "cell_type": "code",
   "execution_count": 5,
   "metadata": {},
   "outputs": [
    {
     "data": {
      "text/plain": [
       "16-element Vector{FqFieldElem}:\n",
       " 936191558\n",
       " 1026665416\n",
       " 1014981532\n",
       " 400852402\n",
       " 171083208\n",
       " 114974378\n",
       " 389600298\n",
       " 11686173\n",
       " 1053668187\n",
       " 13003130\n",
       " 50678290\n",
       " 307663814\n",
       " 720455859\n",
       " 772844764\n",
       " 220994390\n",
       " 366459336"
      ]
     },
     "metadata": {},
     "output_type": "display_data"
    }
   ],
   "source": [
    "out = key_stream(nonce, key, hydra, m=2)"
   ]
  },
  {
   "cell_type": "markdown",
   "metadata": {},
   "source": [
    "## Hydra Polynomial model\n",
    "Generate the Hydra polynomial model, and compute a DRL Gröbner basis."
   ]
  },
  {
   "cell_type": "code",
   "execution_count": 6,
   "metadata": {},
   "outputs": [
    {
     "name": "stdout",
     "output_type": "stream",
     "text": [
      "Nonce: 172684907\n",
      "Number of samples: 2\n",
      "Samples:\n",
      "FqFieldElem[936191558, 1026665416, 1014981532, 400852402, 171083208, 114974378, 389600298, 11686173, 1053668187, 13003130, 50678290, 307663814, 720455859, 772844764, 220994390, 366459336]\n",
      "Term order: degrevlex\n"
     ]
    }
   ],
   "source": [
    "polys = generate_Hydra_polynomials_m_samples(hydra=hydra, nonce=nonce, samples=out);"
   ]
  },
  {
   "cell_type": "code",
   "execution_count": 7,
   "metadata": {},
   "outputs": [
    {
     "name": "stdout",
     "output_type": "stream",
     "text": [
      "\n",
      "Legend for f4 information\n",
      "--------------------------------------------------------\n",
      "deg       current degree of pairs selected in this round\n",
      "sel       number of pairs selected in this round\n",
      "pairs     total number of pairs in pair list\n",
      "mat       matrix dimensions (# rows x # columns)\n",
      "density   density of the matrix\n",
      "new data  # new elements for basis in this round\n",
      "          # zero reductions during linear algebra\n",
      "time(rd)  time of the current f4 round in seconds given\n",
      "          for real and cpu time\n",
      "--------------------------------------------------------\n",
      "\n",
      "deg     sel   pairs        mat          density            new data         time(rd) in sec (real|cpu)\n",
      "------------------------------------------------------------------------------------------------------\n",
      "  2     105     106     120 x 621         7.51%      105 new       0 zero         0.32 | 3.77         \n",
      "  2      16      16    1780 x 1855        0.74%       16 new       0 zero         0.06 | 0.68         \n",
      "  3      45      45     203 x 450        16.89%       45 new       0 zero         0.14 | 1.64         \n",
      "  4     301     301    1153 x 1462       11.17%      126 new     175 zero         0.44 | 4.64         \n",
      "  5    1158    1158    3448 x 3076        9.84%      318 new     840 zero         1.29 | 12.37        \n",
      "  5     192    3113    2213 x 2489       10.74%      192 new       0 zero         0.74 | 7.07         \n",
      "  5    2304    2623    4456 x 2397       11.00%      275 new    2060 zero         1.16 | 11.28        \n",
      "  2      78    1011     168 x 91          9.94%        0 new      78 zero         0.01 | 0.10         \n",
      "  3     498     933     789 x 292         5.49%        0 new     498 zero         0.01 | 0.10         \n",
      "  4     406     435    1015 x 610        19.89%        0 new     406 zero         0.03 | 0.17         \n",
      "  5      29      29     525 x 497         5.59%        0 new      29 zero         0.01 | 0.11         \n",
      "------------------------------------------------------------------------------------------------------\n",
      "reduce final basis      116 x 117        10.54%      116 new       0 zero         0.01 | 0.08         \n",
      "------------------------------------------------------------------------------------------------------\n",
      "\n",
      "---------------- TIMINGS ---------------\n",
      "overall(elapsed)        4.58 sec\n",
      "overall(cpu)           46.10 sec\n",
      "select                  0.39 sec   8.6%\n",
      "symbolic prep.          0.30 sec   6.5%\n",
      "update                  3.53 sec  77.1%\n",
      "convert                 0.07 sec   1.6%\n",
      "linear algebra          0.28 sec   6.1%\n",
      "reduce gb               0.00 sec   0.0%\n",
      "-----------------------------------------\n",
      "\n",
      "---------- COMPUTATIONAL DATA -----------\n",
      "size of basis                   116\n",
      "#terms in basis                 232\n",
      "#pairs reduced                 5132\n",
      "#GM criterion                710674\n",
      "#redundant elements            1081\n",
      "#rows reduced                 10442\n",
      "#zero reductions               4086\n",
      "max. matrix data               4456 x 2397 (10.998%)\n",
      "max. symbolic hash table size  2^12\n",
      "max. basis hash table size     2^18\n",
      "-----------------------------------------\n",
      "\n"
     ]
    },
    {
     "name": "stderr",
     "output_type": "stream",
     "text": [
      "\n",
      "--------------- INPUT DATA ---------------\n",
      "#variables                     116\n",
      "#equations                     120\n",
      "#invalid equations               0\n",
      "field characteristic    1073741827\n",
      "homogeneous input?               0\n",
      "signature-based computation      0\n",
      "monomial order                 DRL\n",
      "basis hash table resetting     OFF\n",
      "linear algebra option            2\n",
      "initial hash table size     131072 (2^17)\n",
      "max pair selection             ALL\n",
      "reduce gb                        1\n",
      "#threads                        16\n",
      "info level                       2\n",
      "generate pbm files               0\n",
      "------------------------------------------\n",
      "\n",
      "---------------- TIMINGS ---------------\n",
      "overall(elapsed)        4.59 sec\n",
      "overall(cpu)           46.13 sec\n",
      "select                  0.00 sec   0.0%\n",
      "symbolic prep.          0.00 sec   0.0%\n",
      "update                  0.00 sec   0.0%\n",
      "convert                 0.00 sec   0.0%\n",
      "linear algebra          0.00 sec   0.0%\n",
      "reduce gb               0.00 sec   0.0%\n",
      "-----------------------------------------\n",
      "\n",
      "---------- COMPUTATIONAL DATA -----------\n",
      "size of basis                   116\n",
      "#terms in basis                 232\n",
      "#pairs reduced                    0\n",
      "#GM criterion                     0\n",
      "#redundant elements               0\n",
      "#rows reduced                     0\n",
      "#zero reductions                  0\n",
      "max. matrix data                  0 x 0 (0.000%)\n",
      "max. symbolic hash table size  2^-2147483648\n",
      "max. basis hash table size     2^16\n",
      "-----------------------------------------\n",
      "\n"
     ]
    }
   ],
   "source": [
    "gb = groebner_basis_f4(ideal(polys), nr_thrds=16, info_level=2);"
   ]
  },
  {
   "cell_type": "code",
   "execution_count": 8,
   "metadata": {},
   "outputs": [
    {
     "data": {
      "text/plain": [
       "4-element Vector{FqMPolyRingElem}:\n",
       " k_b4 + 722668225\n",
       " k_b3 + 294238278\n",
       " k_b2 + 729460443\n",
       " k_b1 + 994026728"
      ]
     },
     "metadata": {},
     "output_type": "display_data"
    }
   ],
   "source": [
    "gens(gb)[1:4]"
   ]
  },
  {
   "cell_type": "code",
   "execution_count": 9,
   "metadata": {},
   "outputs": [
    {
     "data": {
      "text/html": [
       "[994026728; 729460443; 294238278; 722668225]"
      ],
      "text/latex": [
       "\\begin{array}{c}\n",
       "994026728 \\\\\n",
       "729460443 \\\\\n",
       "294238278 \\\\\n",
       "722668225\n",
       "\\end{array}"
      ],
      "text/plain": [
       "[994026728]\n",
       "[729460443]\n",
       "[294238278]\n",
       "[722668225]"
      ]
     },
     "metadata": {},
     "output_type": "display_data"
    }
   ],
   "source": [
    "-key"
   ]
  }
 ],
 "metadata": {
  "kernelspec": {
   "display_name": "Julia 1.10.3",
   "language": "julia",
   "name": "julia-1.10"
  },
  "language_info": {
   "file_extension": ".jl",
   "mimetype": "application/julia",
   "name": "julia",
   "version": "1.10.3"
  },
  "orig_nbformat": 4
 },
 "nbformat": 4,
 "nbformat_minor": 2
}
