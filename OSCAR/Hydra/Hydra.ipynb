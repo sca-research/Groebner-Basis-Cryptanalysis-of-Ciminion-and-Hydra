{
 "cells": [
  {
   "cell_type": "markdown",
   "metadata": {},
   "source": [
    "# Hydra Polynomial Model\n",
    "Usage example of the Hydra polynomial system."
   ]
  },
  {
   "cell_type": "code",
   "execution_count": 1,
   "metadata": {},
   "outputs": [
    {
     "name": "stdout",
     "output_type": "stream",
     "text": [
      "\r"
     ]
    },
    {
     "data": {
      "text/plain": [
       "non_linear_variable_substitution_Hydra_polynomial_system (generic function with 1 method)"
      ]
     },
     "metadata": {},
     "output_type": "display_data"
    }
   ],
   "source": [
    "using Oscar\n",
    "include(\"Hydra.jl\")\n",
    "include(\"Hydra_polynomial_model.jl\")"
   ]
  },
  {
   "cell_type": "markdown",
   "metadata": {},
   "source": [
    "## Hydra Instance\n",
    "Create a Hydra instance, generate a master key a nonce and a key stream."
   ]
  },
  {
   "cell_type": "code",
   "execution_count": 2,
   "metadata": {},
   "outputs": [
    {
     "name": "stdout",
     "output_type": "stream",
     "text": [
      "Hydra parameters\n",
      "Field: Prime field of characteristic 1073741827\n",
      "Rounds body E_1: 2\n",
      "Rounds body E_2: 4\n",
      "Rounds body I: 42\n",
      "Rounds head: 7\n",
      "d: 5\n",
      "Matrix body E:\n",
      "[3 2 1 1; 1 3 2 1; 1 1 3 2; 2 1 1 3]\n",
      "Matrix body I:\n",
      "[1 1 1 1; 1 4 1 1; 3 1 3 1; 4 1 1 2]\n",
      "Matrix head:\n",
      "[3 1 1 1 1 1 1 1; 7 3 1 1 1 1 1 1; 4 1 4 1 1 1 1 1; 3 1 1 8 1 1 1 1; 7 1 1 1 7 1 1 1; 8 1 1 1 1 5 1 1; 5 1 1 1 1 1 2 1; 4 1 1 1 1 1 1 6]\n",
      "Constants body:\n",
      "[1047264417 283552227 183310541 423775242 10799257 909934621 775037269 693622117 1042931090 235159769 553262377 899135840 387242191 374015573 769247009 462198709 443800442 629008832 292188511 973384504 886805524 291269074 238355281 634600780 728252960 974598440 569318473 892369313 837992897 122364600 422685302 930269500 789122730 949518884 691460840 787249750 149075730 1037706491 843207563 497930364 98179487 42055962 518005777 160740483 201247050 385689711 737037055 577769935; 710293092 517932187 1030269096 111282952 108563335 294553941 840801420 365831149 746946858 174086952 393482293 735490655 412202709 743094485 798539964 138711643 263551102 312841834 44403759 341697436 722765442 1041413547 58322563 484529899 544533349 434969800 783040407 812748410 189190126 225963682 362657000 696614769 281600441 743635494 1061110918 105108346 579419061 767915270 311769785 419249787 582772498 452609319 59398134 1048874871 129860756 820719744 984298112 669194838; 777051712 379338141 136229225 153921973 859504857 469137258 409061302 999592712 790141206 215539656 460895252 825579590 852267185 309690105 240029174 552281154 271234766 524785341 407354262 1014732053 720530299 557764928 540362554 713746642 349977644 735853611 483783506 411629781 1053815980 975127855 742030376 40852132 978174569 428816335 942065151 675354372 65332441 971326709 471901071 876277897 189634414 813132132 811018191 948382295 215025205 493820986 368676283 1043227273; 398370466 542025989 349924051 482647646 418779726 851649196 924982930 135644632 135553289 1020661388 92343212 77872553 588890750 92780645 462968262 815539694 107712898 461745109 725533100 360229100 330476244 225687775 889247820 991063390 168942441 383420186 749761495 165659814 311596579 1058879604 761020460 115270838 224499256 908081719 490037161 800924185 546482635 865424347 189166019 758852099 841270114 245720843 593652083 581746018 165898261 383664925 703138777 554895639]\n",
      "Constants head:\n",
      "[963671278 921213663 149986749 874145362 122992321 938534129 625133250; 87361282 22744896 821386473 411550355 789910598 1065797607 971298589; 185620283 625393707 902269645 555778291 119858783 655055643 475373589; 260072916 1014701853 299219416 180693738 284126363 467284567 595894410; 532501998 788989212 835938614 945218323 659405914 942781723 831898122; 268131550 826008956 967834478 647214122 286842776 353639145 77715790; 316550984 527855676 568747678 69680641 496313960 424809043 665283866; 317507743 886022238 201150115 504578021 370690287 182728194 218759928]\n",
      "Initial value: [0; 0; 0; 0]\n"
     ]
    }
   ],
   "source": [
    "K = GF(1073741827)\n",
    "rounds_head = 7\n",
    "\n",
    "hydra = Hydra_constructor(field=K, rounds_head=rounds_head, info_level=1);"
   ]
  },
  {
   "cell_type": "code",
   "execution_count": 3,
   "metadata": {},
   "outputs": [
    {
     "data": {
      "text/html": [
       "291457243"
      ],
      "text/latex": [
       "291457243"
      ],
      "text/plain": [
       "291457243"
      ]
     },
     "metadata": {},
     "output_type": "display_data"
    }
   ],
   "source": [
    "nonce = rand(K)"
   ]
  },
  {
   "cell_type": "code",
   "execution_count": 4,
   "metadata": {},
   "outputs": [
    {
     "data": {
      "text/html": [
       "[713819138; 932105675; 111559526; 76534255]"
      ],
      "text/latex": [
       "\\begin{array}{c}\n",
       "713819138 \\\\\n",
       "932105675 \\\\\n",
       "111559526 \\\\\n",
       "76534255\n",
       "\\end{array}"
      ],
      "text/plain": [
       "[713819138]\n",
       "[932105675]\n",
       "[111559526]\n",
       "[ 76534255]"
      ]
     },
     "metadata": {},
     "output_type": "display_data"
    }
   ],
   "source": [
    "key = matrix(map(x -> rand(K), 1:4))"
   ]
  },
  {
   "cell_type": "code",
   "execution_count": 5,
   "metadata": {},
   "outputs": [
    {
     "data": {
      "text/plain": [
       "16-element Vector{FqFieldElem}:\n",
       " 298765287\n",
       " 634854366\n",
       " 674445474\n",
       " 547380806\n",
       " 198131384\n",
       " 544226364\n",
       " 238540398\n",
       " 40892578\n",
       " 976834149\n",
       " 788690450\n",
       " 805473656\n",
       " 416930252\n",
       " 867170208\n",
       " 235331881\n",
       " 775182006\n",
       " 835393853"
      ]
     },
     "metadata": {},
     "output_type": "display_data"
    }
   ],
   "source": [
    "out = key_stream(nonce, key, hydra, m=2)"
   ]
  },
  {
   "cell_type": "markdown",
   "metadata": {},
   "source": [
    "## Hydra Polynomial model\n",
    "Generate the Hydra polynomial model, and compute a DRL Gröbner basis."
   ]
  },
  {
   "cell_type": "code",
   "execution_count": 6,
   "metadata": {},
   "outputs": [
    {
     "name": "stdout",
     "output_type": "stream",
     "text": [
      "Nonce: 291457243\n",
      "Number of samples: 2\n",
      "Samples:\n",
      "FqFieldElem[298765287, 634854366, 674445474, 547380806, 198131384, 544226364, 238540398, 40892578, 976834149, 788690450, 805473656, 416930252, 867170208, 235331881, 775182006, 835393853]\n",
      "Term order: degrevlex\n"
     ]
    }
   ],
   "source": [
    "polys = generate_Hydra_polynomials_m_samples(hydra=hydra, nonce=nonce, samples=out);"
   ]
  },
  {
   "cell_type": "code",
   "execution_count": 7,
   "metadata": {},
   "outputs": [
    {
     "name": "stdout",
     "output_type": "stream",
     "text": [
      "\n",
      "Legend for f4 information\n",
      "--------------------------------------------------------\n",
      "deg       current degree of pairs selected in this round\n",
      "sel       number of pairs selected in this round\n",
      "pairs     total number of pairs in pair list\n",
      "mat       matrix dimensions (# rows x # columns)\n",
      "density   density of the matrix\n",
      "new data  # new elements for basis in this round\n",
      "          # zero reductions during linear algebra\n",
      "time(rd)  time of the current f4 round in seconds given\n",
      "          for real and cpu time\n",
      "--------------------------------------------------------\n",
      "\n",
      "deg     sel   pairs        mat          density            new data         time(rd) in sec (real|cpu)\n",
      "------------------------------------------------------------------------------------------------------\n",
      "  2     105     106     120 x 621         7.51%      105 new       0 zero         0.31 | 4.24         \n",
      "  2      16      16    1780 x 1855        0.74%       16 new       0 zero         0.06 | 0.66         \n",
      "  3      45      45     203 x 450        16.89%       45 new       0 zero         0.12 | 1.88         \n",
      "  4     301     301    1153 x 1462       11.17%      126 new     175 zero         0.40 | 5.02         \n",
      "  5    1158    1158    3448 x 3076        9.84%      318 new     840 zero         1.15 | 13.63        \n",
      "  5     192    3113    2213 x 2489       10.74%      192 new       0 zero         0.74 | 7.83         \n",
      "  5    2304    2623    4456 x 2397       11.00%      275 new    2060 zero         1.01 | 12.15        \n",
      "  2      78    1011     168 x 91          9.94%        0 new      78 zero         0.01 | 0.10         \n",
      "  3     498     933     789 x 292         5.49%        0 new     498 zero         0.01 | 0.11         \n",
      "  4     406     435    1015 x 610        19.89%        0 new     406 zero         0.03 | 0.16         \n",
      "  5      29      29     525 x 497         5.59%        0 new      29 zero         0.01 | 0.08         \n",
      "------------------------------------------------------------------------------------------------------\n",
      "reduce final basis      116 x 117        10.54%      116 new       0 zero         0.01 | 0.03         \n",
      "------------------------------------------------------------------------------------------------------\n",
      "\n",
      "---------------- TIMINGS ---------------\n",
      "overall(elapsed)        4.16 sec\n",
      "overall(cpu)           50.41 sec\n",
      "select                  0.31 sec   7.4%\n",
      "symbolic prep.          0.31 sec   7.4%\n",
      "update                  3.23 sec  77.8%\n",
      "convert                 0.06 sec   1.5%\n",
      "linear algebra          0.24 sec   5.7%\n",
      "reduce gb               0.00 sec   0.0%\n",
      "-----------------------------------------\n",
      "\n",
      "---------- COMPUTATIONAL DATA -----------\n",
      "size of basis                   116\n",
      "#terms in basis                 232\n",
      "#pairs reduced                 5132\n",
      "#GM criterion                710674\n",
      "#redundant elements            1081\n",
      "#rows reduced                 10442\n",
      "#zero reductions               4086\n",
      "max. matrix data               4456 x 2397 (10.998%)\n",
      "max. symbolic hash table size  2^12\n",
      "max. basis hash table size     2^18\n",
      "-----------------------------------------\n",
      "\n"
     ]
    },
    {
     "name": "stderr",
     "output_type": "stream",
     "text": [
      "\n",
      "--------------- INPUT DATA ---------------\n",
      "#variables                     116\n",
      "#equations                     120\n",
      "#invalid equations               0\n",
      "field characteristic    1073741827\n",
      "homogeneous input?               0\n",
      "signature-based computation      0\n",
      "monomial order                 DRL\n",
      "basis hash table resetting     OFF\n",
      "linear algebra option            2\n",
      "initial hash table size     131072 (2^17)\n",
      "max pair selection             ALL\n",
      "reduce gb                        1\n",
      "#threads                        16\n",
      "info level                       2\n",
      "generate pbm files               0\n",
      "------------------------------------------\n",
      "\n",
      "---------------- TIMINGS ---------------\n",
      "overall(elapsed)        4.16 sec\n",
      "overall(cpu)           50.41 sec\n",
      "select                  0.00 sec   0.0%\n",
      "symbolic prep.          0.00 sec   0.0%\n",
      "update                  0.00 sec   0.0%\n",
      "convert                 0.00 sec   0.0%\n",
      "linear algebra          0.00 sec   0.0%\n",
      "reduce gb               0.00 sec   0.0%\n",
      "-----------------------------------------\n",
      "\n",
      "---------- COMPUTATIONAL DATA -----------\n",
      "size of basis                   116\n",
      "#terms in basis                 232\n",
      "#pairs reduced                    0\n",
      "#GM criterion                     0\n",
      "#redundant elements               0\n",
      "#rows reduced                     0\n",
      "#zero reductions                  0\n",
      "max. matrix data                  0 x 0 (0.000%)\n",
      "max. symbolic hash table size  2^-2147483648\n",
      "max. basis hash table size     2^16\n",
      "-----------------------------------------\n",
      "\n"
     ]
    }
   ],
   "source": [
    "gb = groebner_basis_f4(ideal(polys), nr_thrds=16, info_level=2);"
   ]
  },
  {
   "cell_type": "code",
   "execution_count": 8,
   "metadata": {},
   "outputs": [
    {
     "data": {
      "text/plain": [
       "4-element Vector{FqMPolyRingElem}:\n",
       " k_b4 + 997207572\n",
       " k_b3 + 962182301\n",
       " k_b2 + 141636152\n",
       " k_b1 + 359922689"
      ]
     },
     "metadata": {},
     "output_type": "display_data"
    }
   ],
   "source": [
    "gens(gb)[1:4]"
   ]
  },
  {
   "cell_type": "code",
   "execution_count": 9,
   "metadata": {},
   "outputs": [
    {
     "data": {
      "text/html": [
       "[359922689; 141636152; 962182301; 997207572]"
      ],
      "text/latex": [
       "\\begin{array}{c}\n",
       "359922689 \\\\\n",
       "141636152 \\\\\n",
       "962182301 \\\\\n",
       "997207572\n",
       "\\end{array}"
      ],
      "text/plain": [
       "[359922689]\n",
       "[141636152]\n",
       "[962182301]\n",
       "[997207572]"
      ]
     },
     "metadata": {},
     "output_type": "display_data"
    }
   ],
   "source": [
    "-key"
   ]
  }
 ],
 "metadata": {
  "kernelspec": {
   "display_name": "Julia 1.10.4",
   "language": "julia",
   "name": "julia-1.10"
  },
  "language_info": {
   "file_extension": ".jl",
   "mimetype": "application/julia",
   "name": "julia",
   "version": "1.10.4"
  },
  "orig_nbformat": 4
 },
 "nbformat": 4,
 "nbformat_minor": 2
}
