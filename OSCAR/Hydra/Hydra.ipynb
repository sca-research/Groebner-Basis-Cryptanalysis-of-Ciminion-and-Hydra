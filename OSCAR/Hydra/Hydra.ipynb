{
 "cells": [
  {
   "cell_type": "markdown",
   "metadata": {},
   "source": [
    "# Hydra Polynomial Model\n",
    "Usage example of the Hydra polynomial system."
   ]
  },
  {
   "cell_type": "code",
   "execution_count": 1,
   "metadata": {},
   "outputs": [
    {
     "data": {
      "text/plain": [
       "non_linear_variable_substitution_Hydra_polynomial_system (generic function with 1 method)"
      ]
     },
     "metadata": {},
     "output_type": "display_data"
    }
   ],
   "source": [
    "using Oscar\n",
    "include(\"Hydra.jl\")\n",
    "include(\"Hydra_polynomial_model.jl\")"
   ]
  },
  {
   "cell_type": "markdown",
   "metadata": {},
   "source": [
    "## Hydra Instance\n",
    "Create a Hydra instance, generate a master key a nonce and a key stream."
   ]
  },
  {
   "cell_type": "code",
   "execution_count": 2,
   "metadata": {},
   "outputs": [
    {
     "name": "stdout",
     "output_type": "stream",
     "text": [
      "Hydra parameters\n",
      "Field: Prime field of characteristic 1073741827\n",
      "Rounds body E_1: 2\n",
      "Rounds body E_2: 4\n",
      "Rounds body I: 42\n",
      "Rounds head: 7\n",
      "d: 5\n",
      "Matrix body E:\n",
      "[3 2 1 1; 1 3 2 1; 1 1 3 2; 2 1 1 3]\n",
      "Matrix body I:\n",
      "[1 1 1 1; 1 4 1 1; 3 1 3 1; 4 1 1 2]\n",
      "Matrix head:\n",
      "[3 1 1 1 1 1 1 1; 7 3 1 1 1 1 1 1; 4 1 4 1 1 1 1 1; 3 1 1 8 1 1 1 1; 7 1 1 1 7 1 1 1; 8 1 1 1 1 5 1 1; 5 1 1 1 1 1 2 1; 4 1 1 1 1 1 1 6]\n",
      "Constants body:\n",
      "[248283559 557505439 805499391 681117132 78366160 26842200 106634954 182190799 725417500 246656340 528061963 897013799 1002873450 604481472 274784310 816382977 643473375 190946577 751631297 909099352 256655208 222907583 603766380 961294488 604291142 674856281 367342144 188596090 71468555 101893260 140272775 935022314 639005286 837182724 724309500 126101749 786603877 596560642 768092465 912388422 15462771 340445640 772999437 648149975 851415882 1065591572 722385806 25089577; 712250084 408362934 354882555 803030193 47396570 63483852 783714475 444735351 73127109 910463077 395176178 621761323 31998235 1005859894 822566721 449782954 328093121 265183890 502503118 15310904 741338568 621078364 240722548 149341034 830129653 780097024 256077603 602537699 37507571 303885305 201580168 229296090 980944371 201590968 37777284 769123545 9399378 382933956 944011531 200931349 704654457 499295180 865649554 471597990 84140030 903783784 951439603 777518511; 269155638 605618999 1036116981 381363613 668024899 161649554 327495355 145561844 190136961 645490950 636009055 139304425 568545220 305331300 241287901 596256396 829033711 26849911 131116740 126629475 264492675 475232989 500076885 894491627 332736947 1039238722 704607957 90040893 99861103 810500036 383014871 422889002 624938072 849307773 722231882 718495905 258732856 136940679 948356156 246260749 986090118 210091472 362282885 424218086 71008704 769298252 952303040 606440250; 673529581 54785904 138551418 773117133 730701344 693014307 595239218 251227846 840929110 616512653 1013221405 828558528 1031048055 464159880 114835651 821349538 63863739 961174171 538771652 5943122 959373153 460823976 725772515 166394480 183311767 515040067 743211333 593726741 1036194662 770941648 33934793 320942230 570123026 754121236 673597797 1012757268 906250459 695108191 478949495 54093344 892880319 325493556 151875891 270156935 138738662 244545499 667081126 208319430]\n",
      "Constants head:\n",
      "[1067306573 803006258 329408460 105606864 81524648 570563853 1052264514; 899457093 563057923 74173495 1046152833 92136953 720214675 181556237; 265080338 631460912 425879550 118854047 514265255 517125447 162732459; 300291448 118768120 668817593 733605849 550295680 196126570 98425041; 431796772 396917550 285806148 887700069 48625734 938421894 1018227376; 366361027 269508653 256028426 1024602117 698020256 935876126 41567241; 502511146 484539565 766616539 785153839 220198828 650883818 147150856; 247945351 372500615 907655062 851331698 780505814 500029815 161595876]\n",
      "Initial value: [0; 0; 0; 0]\n"
     ]
    }
   ],
   "source": [
    "K = GF(1073741827)\n",
    "rounds_head = 7\n",
    "\n",
    "hydra = Hydra_constructor(field=K, rounds_head=rounds_head, info_level=1);"
   ]
  },
  {
   "cell_type": "code",
   "execution_count": 3,
   "metadata": {},
   "outputs": [
    {
     "data": {
      "text/html": [
       "347164293"
      ],
      "text/latex": [
       "347164293"
      ],
      "text/plain": [
       "347164293"
      ]
     },
     "metadata": {},
     "output_type": "display_data"
    }
   ],
   "source": [
    "nonce = rand(K)"
   ]
  },
  {
   "cell_type": "code",
   "execution_count": 4,
   "metadata": {},
   "outputs": [
    {
     "data": {
      "text/html": [
       "[848598399; 713479904; 50432709; 692274820]"
      ],
      "text/latex": [
       "\\begin{array}{c}\n",
       "848598399 \\\\\n",
       "713479904 \\\\\n",
       "50432709 \\\\\n",
       "692274820\n",
       "\\end{array}"
      ],
      "text/plain": [
       "[848598399]\n",
       "[713479904]\n",
       "[ 50432709]\n",
       "[692274820]"
      ]
     },
     "metadata": {},
     "output_type": "display_data"
    }
   ],
   "source": [
    "key = matrix(map(x -> rand(K), 1:4))"
   ]
  },
  {
   "cell_type": "code",
   "execution_count": 5,
   "metadata": {},
   "outputs": [
    {
     "data": {
      "text/plain": [
       "16-element Vector{FqFieldElem}:\n",
       " 173552210\n",
       " 216661891\n",
       " 952663122\n",
       " 718343547\n",
       " 506106288\n",
       " 664767255\n",
       " 581378300\n",
       " 281174653\n",
       " 580408735\n",
       " 538591986\n",
       " 333462513\n",
       " 1026469420\n",
       " 179758067\n",
       " 754899664\n",
       " 66876449\n",
       " 139426348"
      ]
     },
     "metadata": {},
     "output_type": "display_data"
    }
   ],
   "source": [
    "out = key_stream(nonce, key, hydra, m=2)"
   ]
  },
  {
   "cell_type": "markdown",
   "metadata": {},
   "source": [
    "## Hydra Polynomial model\n",
    "Generate the Hydra polynomial model, and compute a DRL Gröbner basis."
   ]
  },
  {
   "cell_type": "code",
   "execution_count": 6,
   "metadata": {},
   "outputs": [
    {
     "name": "stdout",
     "output_type": "stream",
     "text": [
      "Nonce: 347164293\n",
      "Number of samples: 2\n",
      "Samples:\n",
      "FqFieldElem[173552210, 216661891, 952663122, 718343547, 506106288, 664767255, 581378300, 281174653, 580408735, 538591986, 333462513, 1026469420, 179758067, 754899664, 66876449, 139426348]\n",
      "Term order: degrevlex\n"
     ]
    }
   ],
   "source": [
    "polys = generate_Hydra_polynomials_m_samples(hydra=hydra, nonce=nonce, samples=out);"
   ]
  },
  {
   "cell_type": "code",
   "execution_count": 7,
   "metadata": {},
   "outputs": [
    {
     "name": "stdout",
     "output_type": "stream",
     "text": [
      "\n",
      "Legend for f4 information\n",
      "--------------------------------------------------------\n",
      "deg       current degree of pairs selected in this round\n",
      "sel       number of pairs selected in this round\n",
      "pairs     total number of pairs in pair list\n",
      "mat       matrix dimensions (# rows x # columns)\n",
      "density   density of the matrix\n",
      "new data  # new elements for basis in this round\n",
      "          # zero reductions during linear algebra\n",
      "time(rd)  time of the current f4 round in seconds given\n",
      "          for real and cpu time\n",
      "--------------------------------------------------------\n",
      "\n",
      "deg     sel   pairs        mat          density            new data         time(rd) in sec (real|cpu)\n",
      "------------------------------------------------------------------------------------------------------\n",
      "  2     105     106     120 x 621         7.51%      105 new       0 zero         0.01 | 0.24         \n",
      "  2      16      16    1780 x 1855        0.74%       16 new       0 zero         0.01 | 0.12         \n",
      "  3      45      45     203 x 450        16.89%       45 new       0 zero         0.01 | 0.15         \n",
      "  4     301     301    1153 x 1462       11.17%      126 new     175 zero         0.06 | 0.65         \n",
      "  5    1158    1158    3448 x 3076        9.84%      318 new     840 zero         0.31 | 3.24         \n",
      "  5     192    3113    2213 x 2489       10.74%      192 new       0 zero         0.21 | 2.33         \n",
      "  5    2304    2623    4456 x 2397       11.00%      275 new    2060 zero         0.39 | 4.61         \n",
      "  2      78    1013     168 x 91          9.94%        0 new      78 zero         0.00 | 0.00         \n",
      "  3     498     935     789 x 292         5.49%        0 new     498 zero         0.00 | 0.00         \n",
      "  4     408     437    1017 x 610        19.85%        0 new     408 zero         0.02 | 0.16         \n",
      "  5      29      29     525 x 497         5.59%        0 new      29 zero         0.01 | 0.08         \n",
      "------------------------------------------------------------------------------------------------------\n",
      "reduce final basis      116 x 117        10.54%      116 new       0 zero         0.00 | 0.00         \n",
      "------------------------------------------------------------------------------------------------------\n",
      "\n",
      "---------------- TIMINGS ----------------\n",
      "overall(elapsed)        1.04 sec\n",
      "overall(cpu)           11.62 sec\n",
      "select                  0.19 sec  18.5%\n",
      "symbolic prep.          0.16 sec  15.4%\n",
      "update                  0.54 sec  52.1%\n",
      "convert                 0.01 sec   0.5%\n",
      "linear algebra          0.14 sec  13.1%\n",
      "reduce gb               0.00 sec   0.0%\n",
      "-----------------------------------------\n",
      "\n",
      "---------- COMPUTATIONAL DATA -----------\n",
      "size of basis                   116\n",
      "#terms in basis                 232\n",
      "#pairs reduced                 5134\n",
      "#GM criterion                710672\n",
      "#redundant elements            1081\n",
      "#rows reduced                 10446\n",
      "#zero reductions               4088\n",
      "max. matrix data               4456 x 2397 (10.998%)\n",
      "max. symbolic hash table size  2^12\n",
      "max. basis hash table size     2^18\n",
      "-----------------------------------------\n",
      "\n"
     ]
    },
    {
     "name": "stderr",
     "output_type": "stream",
     "text": [
      "\n",
      "--------------- INPUT DATA ---------------\n",
      "#variables                     116\n",
      "#equations                     120\n",
      "#invalid equations               0\n",
      "field characteristic    1073741827\n",
      "homogeneous input?               0\n",
      "signature-based computation      0\n",
      "monomial order                 DRL\n",
      "basis hash table resetting     OFF\n",
      "linear algebra option            2\n",
      "initial hash table size     131072 (2^17)\n",
      "max pair selection             ALL\n",
      "reduce gb                        1\n",
      "#threads                        16\n",
      "info level                       2\n",
      "generate pbm files               0\n",
      "------------------------------------------\n",
      "\n",
      "---------------- TIMINGS ----------------\n",
      "overall(elapsed)        1.04 sec\n",
      "overall(cpu)           11.62 sec\n",
      "select                  0.00 sec   0.0%\n",
      "symbolic prep.          0.00 sec   0.0%\n",
      "update                  0.00 sec   0.0%\n",
      "convert                 0.00 sec   0.0%\n",
      "linear algebra          0.00 sec   0.0%\n",
      "reduce gb               0.00 sec   0.0%\n",
      "-----------------------------------------\n",
      "\n",
      "---------- COMPUTATIONAL DATA -----------\n",
      "size of basis                   116\n",
      "#terms in basis                 232\n",
      "#pairs reduced                    0\n",
      "#GM criterion                     0\n",
      "#redundant elements               0\n",
      "#rows reduced                     0\n",
      "#zero reductions                  0\n",
      "max. matrix data                  0 x 0 (0.000%)\n",
      "max. symbolic hash table size  2^-2147483648\n",
      "max. basis hash table size     2^16\n",
      "-----------------------------------------\n",
      "\n"
     ]
    }
   ],
   "source": [
    "gb = groebner_basis_f4(ideal(polys), nr_thrds=16, info_level=2);"
   ]
  },
  {
   "cell_type": "code",
   "execution_count": 8,
   "metadata": {},
   "outputs": [
    {
     "data": {
      "text/plain": [
       "4-element Vector{FqMPolyRingElem}:\n",
       " k_b4 + 381467007\n",
       " k_b3 + 1023309118\n",
       " k_b2 + 360261923\n",
       " k_b1 + 225143428"
      ]
     },
     "metadata": {},
     "output_type": "display_data"
    }
   ],
   "source": [
    "gens(gb)[1:4]"
   ]
  },
  {
   "cell_type": "code",
   "execution_count": 9,
   "metadata": {},
   "outputs": [
    {
     "data": {
      "text/html": [
       "[225143428; 360261923; 1023309118; 381467007]"
      ],
      "text/latex": [
       "\\begin{array}{c}\n",
       "225143428 \\\\\n",
       "360261923 \\\\\n",
       "1023309118 \\\\\n",
       "381467007\n",
       "\\end{array}"
      ],
      "text/plain": [
       "[ 225143428]\n",
       "[ 360261923]\n",
       "[1023309118]\n",
       "[ 381467007]"
      ]
     },
     "metadata": {},
     "output_type": "display_data"
    }
   ],
   "source": [
    "-key"
   ]
  }
 ],
 "metadata": {
  "kernelspec": {
   "display_name": "Julia 1.11.2",
   "language": "julia",
   "name": "julia-1.11"
  },
  "language_info": {
   "file_extension": ".jl",
   "mimetype": "application/julia",
   "name": "julia",
   "version": "1.11.2"
  },
  "orig_nbformat": 4
 },
 "nbformat": 4,
 "nbformat_minor": 2
}
