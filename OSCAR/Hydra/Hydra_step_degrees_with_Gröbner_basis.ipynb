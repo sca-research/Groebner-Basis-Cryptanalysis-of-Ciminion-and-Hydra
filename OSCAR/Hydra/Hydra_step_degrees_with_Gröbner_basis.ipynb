{
 "cells": [
  {
   "cell_type": "markdown",
   "metadata": {},
   "source": [
    "# Hydra F4 Step Degrees With Gröbner Basis\n",
    "Computes the step degrees in F4 for Hydra with variables transformation to the Gröbner basis for low round numbers."
   ]
  },
  {
   "cell_type": "code",
   "execution_count": 1,
   "metadata": {},
   "outputs": [
    {
     "data": {
      "text/plain": [
       "non_linear_variable_substitution_Hydra_polynomial_system (generic function with 1 method)"
      ]
     },
     "metadata": {},
     "output_type": "display_data"
    }
   ],
   "source": [
    "using Oscar\n",
    "include(\"Hydra.jl\")\n",
    "include(\"Hydra_polynomial_model.jl\")"
   ]
  },
  {
   "cell_type": "code",
   "execution_count": 2,
   "metadata": {},
   "outputs": [
    {
     "name": "stdout",
     "output_type": "stream",
     "text": [
      "CPU: AMD Ryzen 7 7745HX with Radeon Graphics\n",
      "Number of Threads: 16\n",
      "RAM: 15.221023559570312 GB\n"
     ]
    }
   ],
   "source": [
    "println(\"CPU: \", Sys.cpu_info()[1].model)\n",
    "println(\"Number of Threads: \", Sys.CPU_THREADS)\n",
    "println(\"RAM: \", Sys.total_memory() / 2^30, \" GB\")"
   ]
  },
  {
   "cell_type": "markdown",
   "metadata": {},
   "source": [
    "- Set the number of threads available on the system.\n",
    "- Define a finite field."
   ]
  },
  {
   "cell_type": "code",
   "execution_count": 3,
   "metadata": {},
   "outputs": [
    {
     "data": {
      "text/plain": [
       "Prime field of characteristic 7741"
      ]
     },
     "metadata": {},
     "output_type": "display_data"
    }
   ],
   "source": [
    "nr_thrds = Sys.CPU_THREADS\n",
    "K = GF(7741)"
   ]
  },
  {
   "cell_type": "markdown",
   "metadata": {},
   "source": [
    "## r = 3"
   ]
  },
  {
   "cell_type": "code",
   "execution_count": null,
   "metadata": {},
   "outputs": [],
   "source": [
    "rounds_head = 3\n",
    "m = 2\n",
    "hydra = Hydra_constructor(field=K, rounds_head=rounds_head, info_level=1);\n",
    "\n",
    "polys = generate_Hydra_polynomials_m_samples(hydra=hydra, m=m);\n",
    "polys = transform_Hydra_polynomial_system(hydra, polys, m);\n",
    "\n",
    "affine_polys, \n",
    "polys_subs, \n",
    "polys_downsized_subs = non_linear_variable_substitution_Hydra_polynomial_system(hydra, \n",
    "                                                                                polys, \n",
    "                                                                                m; \n",
    "                                                                                transformed=true);\n",
    "\n",
    "P = parent(polys_downsized_subs[1])\n",
    "variables_subs = map(i -> \"x_subs_i\" * string(i), 1:2 * hydra.rounds_head - 2)\n",
    "P_subs, variables_subs = polynomial_ring(hydra.field, variables_subs);\n",
    "induce(variables_subs, degrevlex(variables_subs));\n",
    "zero_vec = zero_matrix(P_subs, length(gens(P)) - length(variables_subs), 1);\n",
    "image = [vec(zero_vec[:, 1]); variables_subs];\n",
    "phi = hom(P, P_subs, image);\n",
    "\n",
    "polys_downsized_subs = map(phi, polys_downsized_subs);"
   ]
  },
  {
   "cell_type": "code",
   "execution_count": null,
   "metadata": {},
   "outputs": [],
   "source": [
    "gb = groebner_basis_f4(ideal(polys_downsized_subs), nr_thrds=nr_thrds, info_level=2);"
   ]
  },
  {
   "cell_type": "markdown",
   "metadata": {},
   "source": [
    "## r = 4"
   ]
  },
  {
   "cell_type": "code",
   "execution_count": null,
   "metadata": {},
   "outputs": [],
   "source": [
    "rounds_head = 4\n",
    "m = 2\n",
    "hydra = Hydra_constructor(field=K, rounds_head=rounds_head, info_level=1);\n",
    "\n",
    "polys = generate_Hydra_polynomials_m_samples(hydra=hydra, m=m);\n",
    "polys = transform_Hydra_polynomial_system(hydra, polys, m);\n",
    "\n",
    "affine_polys, \n",
    "polys_subs, \n",
    "polys_downsized_subs = non_linear_variable_substitution_Hydra_polynomial_system(hydra, \n",
    "                                                                                polys, \n",
    "                                                                                m; \n",
    "                                                                                transformed=true);\n",
    "\n",
    "P = parent(polys_downsized_subs[1])\n",
    "variables_subs = map(i -> \"x_subs_i\" * string(i), 1:2 * hydra.rounds_head - 2)\n",
    "P_subs, variables_subs = polynomial_ring(hydra.field, variables_subs);\n",
    "induce(variables_subs, degrevlex(variables_subs));\n",
    "zero_vec = zero_matrix(P_subs, length(gens(P)) - length(variables_subs), 1);\n",
    "image = [vec(zero_vec[:, 1]); variables_subs];\n",
    "phi = hom(P, P_subs, image);\n",
    "\n",
    "polys_downsized_subs = map(phi, polys_downsized_subs);"
   ]
  },
  {
   "cell_type": "code",
   "execution_count": null,
   "metadata": {},
   "outputs": [],
   "source": [
    "gb = groebner_basis_f4(ideal(polys_downsized_subs), nr_thrds=nr_thrds, info_level=2);"
   ]
  },
  {
   "cell_type": "markdown",
   "metadata": {},
   "source": [
    "## r = 5"
   ]
  },
  {
   "cell_type": "code",
   "execution_count": null,
   "metadata": {},
   "outputs": [],
   "source": [
    "rounds_head = 5\n",
    "m = 2\n",
    "hydra = Hydra_constructor(field=K, rounds_head=rounds_head, info_level=1);\n",
    "\n",
    "polys = generate_Hydra_polynomials_m_samples(hydra=hydra, m=m);\n",
    "polys = transform_Hydra_polynomial_system(hydra, polys, m);\n",
    "\n",
    "affine_polys, \n",
    "polys_subs, \n",
    "polys_downsized_subs = non_linear_variable_substitution_Hydra_polynomial_system(hydra, \n",
    "                                                                                polys, \n",
    "                                                                                m; \n",
    "                                                                                transformed=true);\n",
    "\n",
    "P = parent(polys_downsized_subs[1])\n",
    "variables_subs = map(i -> \"x_subs_i\" * string(i), 1:2 * hydra.rounds_head - 2)\n",
    "P_subs, variables_subs = polynomial_ring(hydra.field, variables_subs);\n",
    "induce(variables_subs, degrevlex(variables_subs));\n",
    "zero_vec = zero_matrix(P_subs, length(gens(P)) - length(variables_subs), 1);\n",
    "image = [vec(zero_vec[:, 1]); variables_subs];\n",
    "phi = hom(P, P_subs, image);\n",
    "\n",
    "polys_downsized_subs = map(phi, polys_downsized_subs);"
   ]
  },
  {
   "cell_type": "code",
   "execution_count": null,
   "metadata": {},
   "outputs": [],
   "source": [
    "gb = groebner_basis_f4(ideal(polys_downsized_subs), nr_thrds=nr_thrds, info_level=2);"
   ]
  },
  {
   "cell_type": "markdown",
   "metadata": {},
   "source": [
    "## r = 6"
   ]
  },
  {
   "cell_type": "code",
   "execution_count": null,
   "metadata": {},
   "outputs": [],
   "source": [
    "rounds_head = 6\n",
    "m = 2\n",
    "hydra = Hydra_constructor(field=K, rounds_head=rounds_head, info_level=1);\n",
    "\n",
    "polys = generate_Hydra_polynomials_m_samples(hydra=hydra, m=m);\n",
    "polys = transform_Hydra_polynomial_system(hydra, polys, m);\n",
    "\n",
    "affine_polys, \n",
    "polys_subs, \n",
    "polys_downsized_subs = non_linear_variable_substitution_Hydra_polynomial_system(hydra, \n",
    "                                                                                polys, \n",
    "                                                                                m; \n",
    "                                                                                transformed=true);\n",
    "\n",
    "P = parent(polys_downsized_subs[1])\n",
    "variables_subs = map(i -> \"x_subs_i\" * string(i), 1:2 * hydra.rounds_head - 2)\n",
    "P_subs, variables_subs = polynomial_ring(hydra.field, variables_subs);\n",
    "induce(variables_subs, degrevlex(variables_subs));\n",
    "zero_vec = zero_matrix(P_subs, length(gens(P)) - length(variables_subs), 1);\n",
    "image = [vec(zero_vec[:, 1]); variables_subs];\n",
    "phi = hom(P, P_subs, image);\n",
    "\n",
    "polys_downsized_subs = map(phi, polys_downsized_subs);"
   ]
  },
  {
   "cell_type": "code",
   "execution_count": null,
   "metadata": {},
   "outputs": [],
   "source": [
    "gb = groebner_basis_f4(ideal(polys_downsized_subs), nr_thrds=nr_thrds, info_level=2);"
   ]
  },
  {
   "cell_type": "markdown",
   "metadata": {},
   "source": [
    "## r = 7"
   ]
  },
  {
   "cell_type": "code",
   "execution_count": null,
   "metadata": {},
   "outputs": [],
   "source": [
    "rounds_head = 7\n",
    "m = 2\n",
    "hydra = Hydra_constructor(field=K, rounds_head=rounds_head, info_level=1);\n",
    "\n",
    "polys = generate_Hydra_polynomials_m_samples(hydra=hydra, m=m);\n",
    "polys = transform_Hydra_polynomial_system(hydra, polys, m);\n",
    "\n",
    "affine_polys, \n",
    "polys_subs, \n",
    "polys_downsized_subs = non_linear_variable_substitution_Hydra_polynomial_system(hydra, \n",
    "                                                                                polys, \n",
    "                                                                                m; \n",
    "                                                                                transformed=true);\n",
    "\n",
    "P = parent(polys_downsized_subs[1])\n",
    "variables_subs = map(i -> \"x_subs_i\" * string(i), 1:2 * hydra.rounds_head - 2)\n",
    "P_subs, variables_subs = polynomial_ring(hydra.field, variables_subs);\n",
    "induce(variables_subs, degrevlex(variables_subs));\n",
    "zero_vec = zero_matrix(P_subs, length(gens(P)) - length(variables_subs), 1);\n",
    "image = [vec(zero_vec[:, 1]); variables_subs];\n",
    "phi = hom(P, P_subs, image);\n",
    "\n",
    "polys_downsized_subs = map(phi, polys_downsized_subs);"
   ]
  },
  {
   "cell_type": "code",
   "execution_count": null,
   "metadata": {},
   "outputs": [],
   "source": [
    "gb = groebner_basis_f4(ideal(polys_downsized_subs), nr_thrds=nr_thrds, info_level=2);"
   ]
  },
  {
   "cell_type": "markdown",
   "metadata": {},
   "source": [
    "## r = 8"
   ]
  },
  {
   "cell_type": "code",
   "execution_count": null,
   "metadata": {},
   "outputs": [],
   "source": [
    "rounds_head = 8\n",
    "m = 2\n",
    "hydra = Hydra_constructor(field=K, rounds_head=rounds_head, info_level=1);\n",
    "\n",
    "polys = generate_Hydra_polynomials_m_samples(hydra=hydra, m=m);\n",
    "polys = transform_Hydra_polynomial_system(hydra, polys, m);\n",
    "\n",
    "affine_polys, \n",
    "polys_subs, \n",
    "polys_downsized_subs = non_linear_variable_substitution_Hydra_polynomial_system(hydra, \n",
    "                                                                                polys, \n",
    "                                                                                m; \n",
    "                                                                                transformed=true);\n",
    "\n",
    "P = parent(polys_downsized_subs[1])\n",
    "variables_subs = map(i -> \"x_subs_i\" * string(i), 1:2 * hydra.rounds_head - 2)\n",
    "P_subs, variables_subs = polynomial_ring(hydra.field, variables_subs);\n",
    "induce(variables_subs, degrevlex(variables_subs));\n",
    "zero_vec = zero_matrix(P_subs, length(gens(P)) - length(variables_subs), 1);\n",
    "image = [vec(zero_vec[:, 1]); variables_subs];\n",
    "phi = hom(P, P_subs, image);\n",
    "\n",
    "polys_downsized_subs = map(phi, polys_downsized_subs);"
   ]
  },
  {
   "cell_type": "code",
   "execution_count": null,
   "metadata": {},
   "outputs": [],
   "source": [
    "gb = groebner_basis_f4(ideal(polys_downsized_subs), nr_thrds=nr_thrds, info_level=2);"
   ]
  },
  {
   "cell_type": "markdown",
   "metadata": {},
   "source": [
    "## r = 9"
   ]
  },
  {
   "cell_type": "code",
   "execution_count": null,
   "metadata": {},
   "outputs": [],
   "source": [
    "rounds_head = 9\n",
    "m = 2\n",
    "hydra = Hydra_constructor(field=K, rounds_head=rounds_head, info_level=1);\n",
    "\n",
    "polys = generate_Hydra_polynomials_m_samples(hydra=hydra, m=m);\n",
    "polys = transform_Hydra_polynomial_system(hydra, polys, m);\n",
    "\n",
    "affine_polys, \n",
    "polys_subs, \n",
    "polys_downsized_subs = non_linear_variable_substitution_Hydra_polynomial_system(hydra, \n",
    "                                                                                polys, \n",
    "                                                                                m; \n",
    "                                                                                transformed=true);\n",
    "\n",
    "P = parent(polys_downsized_subs[1])\n",
    "variables_subs = map(i -> \"x_subs_i\" * string(i), 1:2 * hydra.rounds_head - 2)\n",
    "P_subs, variables_subs = polynomial_ring(hydra.field, variables_subs);\n",
    "induce(variables_subs, degrevlex(variables_subs));\n",
    "zero_vec = zero_matrix(P_subs, length(gens(P)) - length(variables_subs), 1);\n",
    "image = [vec(zero_vec[:, 1]); variables_subs];\n",
    "phi = hom(P, P_subs, image);\n",
    "\n",
    "polys_downsized_subs = map(phi, polys_downsized_subs);"
   ]
  },
  {
   "cell_type": "code",
   "execution_count": null,
   "metadata": {},
   "outputs": [],
   "source": [
    "gb = groebner_basis_f4(ideal(polys_downsized_subs), nr_thrds=nr_thrds, info_level=2);"
   ]
  },
  {
   "cell_type": "markdown",
   "metadata": {},
   "source": [
    "## r = 10"
   ]
  },
  {
   "cell_type": "code",
   "execution_count": null,
   "metadata": {},
   "outputs": [],
   "source": [
    "rounds_head = 10\n",
    "m = 2\n",
    "hydra = Hydra_constructor(field=K, rounds_head=rounds_head, info_level=1);\n",
    "\n",
    "polys = generate_Hydra_polynomials_m_samples(hydra=hydra, m=m);\n",
    "polys = transform_Hydra_polynomial_system(hydra, polys, m);\n",
    "\n",
    "affine_polys, \n",
    "polys_subs, \n",
    "polys_downsized_subs = non_linear_variable_substitution_Hydra_polynomial_system(hydra, \n",
    "                                                                                polys, \n",
    "                                                                                m; \n",
    "                                                                                transformed=true);\n",
    "\n",
    "P = parent(polys_downsized_subs[1])\n",
    "variables_subs = map(i -> \"x_subs_i\" * string(i), 1:2 * hydra.rounds_head - 2)\n",
    "P_subs, variables_subs = polynomial_ring(hydra.field, variables_subs);\n",
    "induce(variables_subs, degrevlex(variables_subs));\n",
    "zero_vec = zero_matrix(P_subs, length(gens(P)) - length(variables_subs), 1);\n",
    "image = [vec(zero_vec[:, 1]); variables_subs];\n",
    "phi = hom(P, P_subs, image);\n",
    "\n",
    "polys_downsized_subs = map(phi, polys_downsized_subs);"
   ]
  },
  {
   "cell_type": "code",
   "execution_count": null,
   "metadata": {},
   "outputs": [],
   "source": [
    "gb = groebner_basis_f4(ideal(polys_downsized_subs), nr_thrds=nr_thrds, info_level=2);"
   ]
  }
 ],
 "metadata": {
  "kernelspec": {
   "display_name": "Julia 1.11.2",
   "language": "julia",
   "name": "julia-1.11"
  },
  "language_info": {
   "file_extension": ".jl",
   "mimetype": "application/julia",
   "name": "julia",
   "version": "1.11.2"
  }
 },
 "nbformat": 4,
 "nbformat_minor": 2
}
